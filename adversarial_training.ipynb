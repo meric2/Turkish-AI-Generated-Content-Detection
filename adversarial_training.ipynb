{
 "cells": [
  {
   "cell_type": "code",
   "execution_count": 1,
   "metadata": {},
   "outputs": [],
   "source": [
    "import numpy as np\n",
    "import pandas as pd\n",
    "import torch\n",
    "\n",
    "from transformers import BertForSequenceClassification, BertTokenizer, AdamW\n",
    "from torch.utils.data import DataLoader, TensorDataset\n",
    "from sklearn.metrics import accuracy_score, precision_recall_fscore_support, confusion_matrix"
   ]
  },
  {
   "cell_type": "code",
   "execution_count": null,
   "metadata": {},
   "outputs": [],
   "source": [
    "# Load Data\n",
    "class TextDataset(Dataset):\n",
    "    def __init__(self, tokenizer, filepath):\n",
    "        self.data = pd.read_csv(filepath)\n",
    "        self.tokenizer = tokenizer\n",
    "        self.texts = self.data['text'].tolist()  # Update 'text_column_name' with the actual column name for texts\n",
    "        self.labels = torch.tensor(self.data['label'].tolist())  # Update 'label_column_name' with the actual column name for labels\n",
    "\n",
    "    def __len__(self):\n",
    "        return len(self.texts)\n",
    "\n",
    "    def __getitem__(self, idx):\n",
    "        text = self.texts[idx]\n",
    "        label = self.labels[idx]\n",
    "        inputs = self.tokenizer(text, return_tensors='pt', max_length=512, truncation=True, padding='max_length')\n",
    "        input_ids = inputs['input_ids'].squeeze(0)  # Remove batch dimension\n",
    "        return input_ids, label\n",
    "    \n",
    "# Initialize tokenizer\n",
    "tokenizer = BertTokenizer.from_pretrained('bert-base-uncased')\n",
    "\n",
    "# Load data\n",
    "dataset = TextDataset(tokenizer, 'path_to_your_file.csv')\n",
    "loader = DataLoader(dataset, batch_size=16, shuffle=True)"
   ]
  },
  {
   "cell_type": "markdown",
   "metadata": {},
   "source": [
    "## Train Adversarial Model"
   ]
  },
  {
   "cell_type": "code",
   "execution_count": null,
   "metadata": {},
   "outputs": [],
   "source": [
    "def adversarial_training(model, inputs, labels, epsilon=0.01):\n",
    "    outputs = model(**inputs)\n",
    "    loss = torch.nn.functional.cross_entropy(outputs.logits, labels)\n",
    "    model.zero_grad()\n",
    "    loss.backward()  # Compute gradients\n",
    "\n",
    "    # Add adversarial noise\n",
    "    inputs_grad = {key: val.grad.sign() for key, val in inputs.items() if val.requires_grad}\n",
    "    perturbed_inputs = {key: val + epsilon * inputs_grad[key] for key, val in inputs.items() if val.requires_grad}\n",
    "\n",
    "    # Re-run the model on perturbed data\n",
    "    with torch.no_grad():\n",
    "        perturbed_outputs = model(**perturbed_inputs)\n",
    "        perturbed_loss = torch.nn.functional.cross_entropy(perturbed_outputs.logits, labels)\n",
    "\n",
    "    return loss.item(), perturbed_loss.item()"
   ]
  },
  {
   "cell_type": "code",
   "execution_count": null,
   "metadata": {},
   "outputs": [],
   "source": [
    "# Initialize model and tokenizer\n",
    "model = BertForSequenceClassification.from_pretrained('bert-base-uncased', num_labels=2)\n",
    "optimizer = AdamW(model.parameters(), lr=5e-5)\n",
    "\n",
    "# Set model to training mode\n",
    "model.train()\n",
    "\n",
    "for epoch in range(4):  # Loop over the dataset multiple times\n",
    "    total_loss = 0\n",
    "    total_adv_loss = 0\n",
    "    for batch_inputs, batch_labels in loader:\n",
    "        inputs = {'input_ids': batch_inputs, 'labels': batch_labels}\n",
    "        loss, adv_loss = adversarial_training(model, inputs, batch_labels, epsilon=0.01)\n",
    "        optimizer.step()\n",
    "        total_loss += loss\n",
    "        total_adv_loss += adv_loss\n",
    "\n",
    "    avg_loss = total_loss / len(loader)\n",
    "    avg_adv_loss = total_adv_loss / len(loader)\n",
    "    print(f'Epoch {epoch+1}, Loss: {avg_loss}, Adversarial Loss: {avg_adv_loss}')\n"
   ]
  },
  {
   "cell_type": "code",
   "execution_count": null,
   "metadata": {},
   "outputs": [],
   "source": [
    "def evaluate_model(model, dataloader):\n",
    "    model.eval()\n",
    "    true_labels, predictions = [], []\n",
    "\n",
    "    with torch.no_grad():\n",
    "        for batch_inputs, batch_labels in dataloader:\n",
    "            inputs = {'input_ids': batch_inputs}\n",
    "            outputs = model(**inputs)\n",
    "            logits = outputs.logits\n",
    "            predicted_labels = torch.argmax(logits, dim=1)\n",
    "            predictions.extend(predicted_labels.numpy())\n",
    "            true_labels.extend(batch_labels.numpy())\n",
    "\n",
    "    accuracy = accuracy_score(true_labels, predictions)\n",
    "    precision, recall, f1, _ = precision_recall_fscore_support(true_labels, predictions, average='binary')\n",
    "    conf_matrix = confusion_matrix(true_labels, predictions)\n",
    "\n",
    "    return accuracy, precision, recall, f1, conf_matrix\n",
    "\n",
    "\n",
    "accuracy, precision, recall, f1, conf_matrix = evaluate_model(model, loader)\n",
    "print(f'Accuracy: {accuracy}')\n",
    "print(f'Precision: {precision}')\n",
    "print(f'Recall: {recall}')\n",
    "print(f'F1 Score: {f1}')\n",
    "print('Confusion Matrix:')\n",
    "print(conf_matrix)"
   ]
  },
  {
   "cell_type": "code",
   "execution_count": null,
   "metadata": {},
   "outputs": [],
   "source": []
  }
 ],
 "metadata": {
  "kernelspec": {
   "display_name": "Python 3",
   "language": "python",
   "name": "python3"
  },
  "language_info": {
   "codemirror_mode": {
    "name": "ipython",
    "version": 3
   },
   "file_extension": ".py",
   "mimetype": "text/x-python",
   "name": "python",
   "nbconvert_exporter": "python",
   "pygments_lexer": "ipython3",
   "version": "3.9.1"
  }
 },
 "nbformat": 4,
 "nbformat_minor": 2
}
