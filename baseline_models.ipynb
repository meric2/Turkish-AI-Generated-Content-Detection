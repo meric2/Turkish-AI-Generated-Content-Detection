{
 "cells": [
  {
   "cell_type": "code",
   "execution_count": 1,
   "metadata": {},
   "outputs": [
    {
     "name": "stdout",
     "output_type": "stream",
     "text": [
      "HINT: You are attempting to install a package literally named \"requirements.txt\" (which cannot exist). Consider using the '-r' flag to install the packages listed in requirements.txt\n"
     ]
    },
    {
     "name": "stderr",
     "output_type": "stream",
     "text": [
      "ERROR: Could not find a version that satisfies the requirement requirements.txt (from versions: none)\n",
      "ERROR: No matching distribution found for requirements.txt\n"
     ]
    }
   ],
   "source": [
    "!pip install requirements.txt"
   ]
  },
  {
   "cell_type": "code",
   "execution_count": 1,
   "metadata": {},
   "outputs": [],
   "source": [
    "from datasets import load_dataset\n",
    "import pandas as pd\n",
    "import numpy as np\n",
    "import matplotlib.pyplot as plt\n",
    "import seaborn as sns\n",
    "import joblib\n",
    "\n",
    "import re\n",
    "import nltk\n",
    "from nltk.corpus import stopwords\n",
    "from nltk.corpus import wordnet as wn\n",
    "from nltk.tokenize import word_tokenize\n",
    "from snowballstemmer import TurkishStemmer\n",
    "\n",
    "from sklearn.model_selection import train_test_split\n",
    "from sklearn.feature_extraction.text import CountVectorizer, TfidfVectorizer\n",
    "from sklearn.linear_model import LogisticRegression\n",
    "from sklearn.metrics import accuracy_score, classification_report, confusion_matrix, f1_score\n",
    "from sklearn.model_selection import KFold\n",
    "from sklearn.preprocessing import LabelEncoder\n",
    "from sklearn import naive_bayes, svm"
   ]
  },
  {
   "cell_type": "code",
   "execution_count": 2,
   "metadata": {},
   "outputs": [
    {
     "data": {
      "text/html": [
       "<div>\n",
       "<style scoped>\n",
       "    .dataframe tbody tr th:only-of-type {\n",
       "        vertical-align: middle;\n",
       "    }\n",
       "\n",
       "    .dataframe tbody tr th {\n",
       "        vertical-align: top;\n",
       "    }\n",
       "\n",
       "    .dataframe thead th {\n",
       "        text-align: right;\n",
       "    }\n",
       "</style>\n",
       "<table border=\"1\" class=\"dataframe\">\n",
       "  <thead>\n",
       "    <tr style=\"text-align: right;\">\n",
       "      <th></th>\n",
       "      <th>review</th>\n",
       "      <th>review_length</th>\n",
       "    </tr>\n",
       "  </thead>\n",
       "  <tbody>\n",
       "    <tr>\n",
       "      <th>0</th>\n",
       "      <td>Okan Üniversitesi Hastanesi'nde Çalışanların S...</td>\n",
       "      <td>45</td>\n",
       "    </tr>\n",
       "    <tr>\n",
       "      <th>1</th>\n",
       "      <td>Ekici Kaşar Peynirinin Peynir İle Alakası Yok....</td>\n",
       "      <td>49</td>\n",
       "    </tr>\n",
       "    <tr>\n",
       "      <th>2</th>\n",
       "      <td>Similac 2 Devam Sütunun İçinden Tahta Çıktı.  ...</td>\n",
       "      <td>55</td>\n",
       "    </tr>\n",
       "    <tr>\n",
       "      <th>3</th>\n",
       "      <td>İlhan Duman Hukuk Bürosu Borç Mesajı Geliyor. ...</td>\n",
       "      <td>44</td>\n",
       "    </tr>\n",
       "    <tr>\n",
       "      <th>4</th>\n",
       "      <td>Samsung Kamera Flaş Sorunu. Alalı 1 gün oldu S...</td>\n",
       "      <td>40</td>\n",
       "    </tr>\n",
       "  </tbody>\n",
       "</table>\n",
       "</div>"
      ],
      "text/plain": [
       "                                              review  review_length\n",
       "0  Okan Üniversitesi Hastanesi'nde Çalışanların S...             45\n",
       "1  Ekici Kaşar Peynirinin Peynir İle Alakası Yok....             49\n",
       "2  Similac 2 Devam Sütunun İçinden Tahta Çıktı.  ...             55\n",
       "3  İlhan Duman Hukuk Bürosu Borç Mesajı Geliyor. ...             44\n",
       "4  Samsung Kamera Flaş Sorunu. Alalı 1 gün oldu S...             40"
      ]
     },
     "execution_count": 2,
     "metadata": {},
     "output_type": "execute_result"
    }
   ],
   "source": [
    "human_data = load_dataset('kmkarakaya/turkishReviews-ds')\n",
    "human_data = human_data['train'].to_pandas()\n",
    "human_data.head()"
   ]
  },
  {
   "cell_type": "code",
   "execution_count": 3,
   "metadata": {},
   "outputs": [
    {
     "data": {
      "text/plain": [
       "(392772, 2)"
      ]
     },
     "execution_count": 3,
     "metadata": {},
     "output_type": "execute_result"
    }
   ],
   "source": [
    "# Some parts of this dataset is used for AI generated review production, so we need to filter out those\n",
    "human_data = human_data.iloc[6000:].reset_index(drop=True)\n",
    "human_data.shape"
   ]
  },
  {
   "cell_type": "code",
   "execution_count": 4,
   "metadata": {},
   "outputs": [
    {
     "data": {
      "text/plain": [
       "Index(['review', 'review_length'], dtype='object')"
      ]
     },
     "execution_count": 4,
     "metadata": {},
     "output_type": "execute_result"
    }
   ],
   "source": [
    "human_data.columns"
   ]
  },
  {
   "cell_type": "code",
   "execution_count": 5,
   "metadata": {},
   "outputs": [
    {
     "data": {
      "text/html": [
       "<div>\n",
       "<style scoped>\n",
       "    .dataframe tbody tr th:only-of-type {\n",
       "        vertical-align: middle;\n",
       "    }\n",
       "\n",
       "    .dataframe tbody tr th {\n",
       "        vertical-align: top;\n",
       "    }\n",
       "\n",
       "    .dataframe thead th {\n",
       "        text-align: right;\n",
       "    }\n",
       "</style>\n",
       "<table border=\"1\" class=\"dataframe\">\n",
       "  <thead>\n",
       "    <tr style=\"text-align: right;\">\n",
       "      <th></th>\n",
       "      <th>review</th>\n",
       "      <th>review_length</th>\n",
       "    </tr>\n",
       "  </thead>\n",
       "  <tbody>\n",
       "    <tr>\n",
       "      <th>0</th>\n",
       "      <td>Sony Eurasia Garantiye Gönderdiğim Ps4'üm Gelm...</td>\n",
       "      <td>48</td>\n",
       "    </tr>\n",
       "    <tr>\n",
       "      <th>1</th>\n",
       "      <td>Snopy Sıfır Kulaklık Açılmıyor. İki aydır almı...</td>\n",
       "      <td>35</td>\n",
       "    </tr>\n",
       "    <tr>\n",
       "      <th>2</th>\n",
       "      <td>İETT  Otobüs Seferleri Saatleri. Ht29 avcılar ...</td>\n",
       "      <td>57</td>\n",
       "    </tr>\n",
       "    <tr>\n",
       "      <th>3</th>\n",
       "      <td>Aras Kargo Kargom Tarafıma Gelmedi. Kargom gel...</td>\n",
       "      <td>48</td>\n",
       "    </tr>\n",
       "    <tr>\n",
       "      <th>4</th>\n",
       "      <td>MACFit Kayıt Maili Gelmedi. Macfit' e 17.11.20...</td>\n",
       "      <td>41</td>\n",
       "    </tr>\n",
       "  </tbody>\n",
       "</table>\n",
       "</div>"
      ],
      "text/plain": [
       "                                              review  review_length\n",
       "0  Sony Eurasia Garantiye Gönderdiğim Ps4'üm Gelm...             48\n",
       "1  Snopy Sıfır Kulaklık Açılmıyor. İki aydır almı...             35\n",
       "2  İETT  Otobüs Seferleri Saatleri. Ht29 avcılar ...             57\n",
       "3  Aras Kargo Kargom Tarafıma Gelmedi. Kargom gel...             48\n",
       "4  MACFit Kayıt Maili Gelmedi. Macfit' e 17.11.20...             41"
      ]
     },
     "execution_count": 5,
     "metadata": {},
     "output_type": "execute_result"
    }
   ],
   "source": [
    "# All the reviews contain their titles as the first sentence. They can be removed to make the dataset more clean.\n",
    "human_data['review'] = human_data['review'].apply(lambda x: re.sub(r'^.*\\n', '', x))\n",
    "\n",
    "# Update review lengths after removing titles\n",
    "human_data['review_length'] = human_data['review'].apply(lambda x: len(x.split()))\n",
    "\n",
    "human_data.head()"
   ]
  },
  {
   "cell_type": "code",
   "execution_count": 6,
   "metadata": {},
   "outputs": [
    {
     "data": {
      "text/html": [
       "<div>\n",
       "<style scoped>\n",
       "    .dataframe tbody tr th:only-of-type {\n",
       "        vertical-align: middle;\n",
       "    }\n",
       "\n",
       "    .dataframe tbody tr th {\n",
       "        vertical-align: top;\n",
       "    }\n",
       "\n",
       "    .dataframe thead th {\n",
       "        text-align: right;\n",
       "    }\n",
       "</style>\n",
       "<table border=\"1\" class=\"dataframe\">\n",
       "  <thead>\n",
       "    <tr style=\"text-align: right;\">\n",
       "      <th></th>\n",
       "      <th>prompt</th>\n",
       "      <th>review</th>\n",
       "      <th>model</th>\n",
       "    </tr>\n",
       "  </thead>\n",
       "  <tbody>\n",
       "    <tr>\n",
       "      <th>0</th>\n",
       "      <td>Okan Üniversitesi Hastanesi'nde Çalışanların S...</td>\n",
       "      <td>Okan Üniversitesi Hastanesi'nde çalışanların s...</td>\n",
       "      <td>gpt-3.5-turbo</td>\n",
       "    </tr>\n",
       "    <tr>\n",
       "      <th>1</th>\n",
       "      <td>Ekici Kaşar Peynirinin Peynir İle Alakası Yok....</td>\n",
       "      <td>Ekici Kaşar Peyniri tam bir hayal kırıklığı! M...</td>\n",
       "      <td>gpt-3.5-turbo</td>\n",
       "    </tr>\n",
       "    <tr>\n",
       "      <th>2</th>\n",
       "      <td>Similac 2 Devam Sütunun İçinden Tahta Çıktı.  ...</td>\n",
       "      <td>Similac 2 Devam Sütü aldığımda içinden tahta ç...</td>\n",
       "      <td>gpt-3.5-turbo</td>\n",
       "    </tr>\n",
       "    <tr>\n",
       "      <th>3</th>\n",
       "      <td>İlhan Duman Hukuk Bürosu Borç Mesajı Geliyor. ...</td>\n",
       "      <td>İlhan Duman Hukuk Bürosu'ndan sürekli borç mes...</td>\n",
       "      <td>gpt-3.5-turbo</td>\n",
       "    </tr>\n",
       "    <tr>\n",
       "      <th>4</th>\n",
       "      <td>Samsung Kamera Flaş Sorunu.  Sen bir tüketicis...</td>\n",
       "      <td>Samsung marka kameramın flaşıyla ilgili yaşadı...</td>\n",
       "      <td>gpt-3.5-turbo</td>\n",
       "    </tr>\n",
       "  </tbody>\n",
       "</table>\n",
       "</div>"
      ],
      "text/plain": [
       "                                              prompt  \\\n",
       "0  Okan Üniversitesi Hastanesi'nde Çalışanların S...   \n",
       "1  Ekici Kaşar Peynirinin Peynir İle Alakası Yok....   \n",
       "2  Similac 2 Devam Sütunun İçinden Tahta Çıktı.  ...   \n",
       "3  İlhan Duman Hukuk Bürosu Borç Mesajı Geliyor. ...   \n",
       "4  Samsung Kamera Flaş Sorunu.  Sen bir tüketicis...   \n",
       "\n",
       "                                              review          model  \n",
       "0  Okan Üniversitesi Hastanesi'nde çalışanların s...  gpt-3.5-turbo  \n",
       "1  Ekici Kaşar Peyniri tam bir hayal kırıklığı! M...  gpt-3.5-turbo  \n",
       "2  Similac 2 Devam Sütü aldığımda içinden tahta ç...  gpt-3.5-turbo  \n",
       "3  İlhan Duman Hukuk Bürosu'ndan sürekli borç mes...  gpt-3.5-turbo  \n",
       "4  Samsung marka kameramın flaşıyla ilgili yaşadı...  gpt-3.5-turbo  "
      ]
     },
     "execution_count": 6,
     "metadata": {},
     "output_type": "execute_result"
    }
   ],
   "source": [
    "ai_data = pd.read_excel('ai_data.xlsx')\n",
    "ai_data.head()"
   ]
  },
  {
   "cell_type": "code",
   "execution_count": 7,
   "metadata": {},
   "outputs": [
    {
     "name": "stdout",
     "output_type": "stream",
     "text": [
      "AI Data Shape:  (5800, 3)\n",
      "Human Data Shape:  (392772, 2)\n",
      "Human Data:\n",
      "        review_length\n",
      "count  392772.000000\n",
      "mean       46.002123\n",
      "std         5.194209\n",
      "min        29.000000\n",
      "25%        43.000000\n",
      "50%        46.000000\n",
      "75%        49.000000\n",
      "max       176.000000\n",
      "Human Data Columns:  Index(['review', 'review_length'], dtype='object')\n",
      "Human Data Number of Words:  46.00212336928294\n",
      "Human Data Maximum Number of Words:  176\n",
      "Human Data Minimum Number of Words:  29\n"
     ]
    }
   ],
   "source": [
    "print(\"AI Data Shape: \", ai_data.shape)\n",
    "print(\"Human Data Shape: \", human_data.shape)\n",
    "print(\"Human Data:\\n\", human_data.describe())\n",
    "print(\"Human Data Columns: \", human_data.columns)\n",
    "print(\"Human Data Number of Words: \", human_data['review_length'].mean())\n",
    "print(\"Human Data Maximum Number of Words: \", human_data['review_length'].max())\n",
    "print(\"Human Data Minimum Number of Words: \", human_data['review_length'].min())"
   ]
  },
  {
   "cell_type": "code",
   "execution_count": 8,
   "metadata": {
    "scrolled": true
   },
   "outputs": [
    {
     "name": "stdout",
     "output_type": "stream",
     "text": [
      "Human Data Shape:  (392772, 2)\n",
      "Human Data:         review_length\n",
      "count  392772.000000\n",
      "mean       46.002123\n",
      "std         5.194209\n",
      "min        29.000000\n",
      "25%        43.000000\n",
      "50%        46.000000\n",
      "75%        49.000000\n",
      "max       176.000000\n",
      "Human Data Num of Words:  46.00212336928294\n"
     ]
    }
   ],
   "source": [
    "# Human dataset\n",
    "print(\"Human Data Shape: \", human_data.shape)\n",
    "print(\"Human Data: \", human_data.describe())\n",
    "print(\"Human Data Num of Words: \", human_data['review_length'].mean())"
   ]
  },
  {
   "cell_type": "code",
   "execution_count": 9,
   "metadata": {},
   "outputs": [
    {
     "data": {
      "image/png": "[encoded data removed]",
      "text/plain": [
       "<Figure size 720x432 with 1 Axes>"
      ]
     },
     "metadata": {
      "needs_background": "light"
     },
     "output_type": "display_data"
    }
   ],
   "source": [
    "# Text Length Distribution for Human Data\n",
    "plt.figure(figsize=(10, 6))\n",
    "sns.histplot(human_data['review_length'], bins=50)\n",
    "plt.title('Distribution of Review Lengths of Human Data')\n",
    "plt.xlabel('Review Length')\n",
    "plt.ylabel('Frequency')\n",
    "plt.show()"
   ]
  },
  {
   "cell_type": "code",
   "execution_count": 10,
   "metadata": {},
   "outputs": [
    {
     "data": {
      "image/png": "[encoded data removed]",
      "text/plain": [
       "<Figure size 720x432 with 1 Axes>"
      ]
     },
     "metadata": {
      "needs_background": "light"
     },
     "output_type": "display_data"
    }
   ],
   "source": [
    "# Text Length Distribution for AI Data\n",
    "ai_data['review_length'] = ai_data['review'].apply(lambda x: len(x.split()))\n",
    "\n",
    "plt.figure(figsize=(10, 6))\n",
    "sns.histplot(ai_data['review_length'], bins=50)\n",
    "plt.title('Distribution of Review Lengths of AI Generated Data')\n",
    "plt.xlabel('Review Length')\n",
    "plt.ylabel('Frequency')\n",
    "plt.show()"
   ]
  },
  {
   "cell_type": "code",
   "execution_count": 11,
   "metadata": {},
   "outputs": [
    {
     "data": {
      "text/html": [
       "<div>\n",
       "<style scoped>\n",
       "    .dataframe tbody tr th:only-of-type {\n",
       "        vertical-align: middle;\n",
       "    }\n",
       "\n",
       "    .dataframe tbody tr th {\n",
       "        vertical-align: top;\n",
       "    }\n",
       "\n",
       "    .dataframe thead th {\n",
       "        text-align: right;\n",
       "    }\n",
       "</style>\n",
       "<table border=\"1\" class=\"dataframe\">\n",
       "  <thead>\n",
       "    <tr style=\"text-align: right;\">\n",
       "      <th></th>\n",
       "      <th>review</th>\n",
       "      <th>review_length</th>\n",
       "      <th>label</th>\n",
       "    </tr>\n",
       "  </thead>\n",
       "  <tbody>\n",
       "    <tr>\n",
       "      <th>0</th>\n",
       "      <td>Sony Eurasia Garantiye Gönderdiğim Ps4'üm Gelm...</td>\n",
       "      <td>48.0</td>\n",
       "      <td>human</td>\n",
       "    </tr>\n",
       "    <tr>\n",
       "      <th>1</th>\n",
       "      <td>Snopy Sıfır Kulaklık Açılmıyor. İki aydır almı...</td>\n",
       "      <td>35.0</td>\n",
       "      <td>human</td>\n",
       "    </tr>\n",
       "    <tr>\n",
       "      <th>2</th>\n",
       "      <td>İETT  Otobüs Seferleri Saatleri. Ht29 avcılar ...</td>\n",
       "      <td>57.0</td>\n",
       "      <td>human</td>\n",
       "    </tr>\n",
       "    <tr>\n",
       "      <th>3</th>\n",
       "      <td>Aras Kargo Kargom Tarafıma Gelmedi. Kargom gel...</td>\n",
       "      <td>48.0</td>\n",
       "      <td>human</td>\n",
       "    </tr>\n",
       "    <tr>\n",
       "      <th>4</th>\n",
       "      <td>MACFit Kayıt Maili Gelmedi. Macfit' e 17.11.20...</td>\n",
       "      <td>41.0</td>\n",
       "      <td>human</td>\n",
       "    </tr>\n",
       "    <tr>\n",
       "      <th>...</th>\n",
       "      <td>...</td>\n",
       "      <td>...</td>\n",
       "      <td>...</td>\n",
       "    </tr>\n",
       "    <tr>\n",
       "      <th>398567</th>\n",
       "      <td>Philips Süpürge Borusu Kırılması. Philips mark...</td>\n",
       "      <td>NaN</td>\n",
       "      <td>ai</td>\n",
       "    </tr>\n",
       "    <tr>\n",
       "      <th>398568</th>\n",
       "      <td>Asdem Beach Hotel'de kaldım ve ciddi sorunlar ...</td>\n",
       "      <td>NaN</td>\n",
       "      <td>ai</td>\n",
       "    </tr>\n",
       "    <tr>\n",
       "      <th>398569</th>\n",
       "      <td>Palette 12.1 Buzul Sarı Saç Yanması ile ilgili...</td>\n",
       "      <td>NaN</td>\n",
       "      <td>ai</td>\n",
       "    </tr>\n",
       "    <tr>\n",
       "      <th>398570</th>\n",
       "      <td>Çöz Sigorta'dan 20 gündür şikayetçiyim. Poliçe...</td>\n",
       "      <td>NaN</td>\n",
       "      <td>ai</td>\n",
       "    </tr>\n",
       "    <tr>\n",
       "      <th>398571</th>\n",
       "      <td>Merhaba,\\n\\nEBA Eğitim Bilişim Sitesi'ne son g...</td>\n",
       "      <td>NaN</td>\n",
       "      <td>ai</td>\n",
       "    </tr>\n",
       "  </tbody>\n",
       "</table>\n",
       "<p>398572 rows × 3 columns</p>\n",
       "</div>"
      ],
      "text/plain": [
       "                                                   review  review_length  \\\n",
       "0       Sony Eurasia Garantiye Gönderdiğim Ps4'üm Gelm...           48.0   \n",
       "1       Snopy Sıfır Kulaklık Açılmıyor. İki aydır almı...           35.0   \n",
       "2       İETT  Otobüs Seferleri Saatleri. Ht29 avcılar ...           57.0   \n",
       "3       Aras Kargo Kargom Tarafıma Gelmedi. Kargom gel...           48.0   \n",
       "4       MACFit Kayıt Maili Gelmedi. Macfit' e 17.11.20...           41.0   \n",
       "...                                                   ...            ...   \n",
       "398567  Philips Süpürge Borusu Kırılması. Philips mark...            NaN   \n",
       "398568  Asdem Beach Hotel'de kaldım ve ciddi sorunlar ...            NaN   \n",
       "398569  Palette 12.1 Buzul Sarı Saç Yanması ile ilgili...            NaN   \n",
       "398570  Çöz Sigorta'dan 20 gündür şikayetçiyim. Poliçe...            NaN   \n",
       "398571  Merhaba,\\n\\nEBA Eğitim Bilişim Sitesi'ne son g...            NaN   \n",
       "\n",
       "        label  \n",
       "0       human  \n",
       "1       human  \n",
       "2       human  \n",
       "3       human  \n",
       "4       human  \n",
       "...       ...  \n",
       "398567     ai  \n",
       "398568     ai  \n",
       "398569     ai  \n",
       "398570     ai  \n",
       "398571     ai  \n",
       "\n",
       "[398572 rows x 3 columns]"
      ]
     },
     "execution_count": 11,
     "metadata": {},
     "output_type": "execute_result"
    }
   ],
   "source": [
    "ai_data['label'] = 'ai'\n",
    "ai_data = ai_data[['review', 'label']]\n",
    "human_data['label'] = 'human'\n",
    "\n",
    "dataset = pd.concat([human_data, ai_data], ignore_index=True)\n",
    "dataset"
   ]
  },
  {
   "cell_type": "markdown",
   "metadata": {},
   "source": [
    "# Preprocess AI Generated Data"
   ]
  },
  {
   "cell_type": "code",
   "execution_count": 12,
   "metadata": {
    "scrolled": false
   },
   "outputs": [
    {
     "name": "stderr",
     "output_type": "stream",
     "text": [
      "[nltk_data] Downloading package stopwords to\n",
      "[nltk_data]     C:\\Users\\Asus\\AppData\\Roaming\\nltk_data...\n",
      "[nltk_data]   Package stopwords is already up-to-date!\n"
     ]
    },
    {
     "name": "stdout",
     "output_type": "stream",
     "text": [
      "                                                 review label\n",
      "0     oka üniversites hastane çalışa son zaman göste...    ai\n",
      "1     ekiç kaşar peynir tam bir hayal kırıklık marke...    ai\n",
      "2     similaç deva süt aldık iç tah çık bebek ür tük...    ai\n",
      "3     ilha duma hukuk büro sürekli borç mesaj alıyor...    ai\n",
      "4     samsungu marka kamera flaş ilgil yaşadık sor i...    ai\n",
      "...                                                 ...   ...\n",
      "5795  philips süpürge borus kırılmas philips marka s...    ai\n",
      "5796  asde beach hotel kal cidi sorun yaşadı oda tel...    ai\n",
      "5797  palet buzul sar saç yanmas ilgil yaşadık sor p...    ai\n",
      "5798  çöz sigorta g şikayetçi poliçe yer ala hasar ö...    ai\n",
      "5799  merhap eba eğit biliş site son güncelleme sonr...    ai\n",
      "\n",
      "[5800 rows x 2 columns]\n"
     ]
    }
   ],
   "source": [
    "# Stopwords listesi yükleniyor\n",
    "nltk.download('stopwords')\n",
    "turkish_stopwords = stopwords.words('turkish')\n",
    "\n",
    "# Kelime kökü bulucu\n",
    "stemmer = TurkishStemmer()\n",
    "\n",
    "def preprocess_text(text):\n",
    "    # Küçük harfe çevirme\n",
    "    text = text.lower()\n",
    "    # Noktalama işaretlerini çıkarma\n",
    "    text = re.sub(r'[^\\w\\s]', '', text)\n",
    "    # Rakamları çıkarma\n",
    "    text = re.sub(r'\\d+', '', text)\n",
    "    # Tokenleme\n",
    "    words = word_tokenize(text)\n",
    "    # Durdurma kelimelerini çıkarma ve stemming\n",
    "    words = [stemmer.stemWord(word) for word in words if word not in turkish_stopwords]\n",
    "    # Temizlenmiş metni birleştirme\n",
    "    return ' '.join(words)\n",
    "\n",
    "# AI veri setindeki metinleri ön işlemeden geçirme\n",
    "ai_data['review'] = ai_data['review'].apply(preprocess_text)\n",
    "print(ai_data)"
   ]
  },
  {
   "cell_type": "code",
   "execution_count": 13,
   "metadata": {},
   "outputs": [
    {
     "name": "stdout",
     "output_type": "stream",
     "text": [
      "Sony Eurasia Garantiye Gönderdiğim Ps4'üm Gelmedi. Yaklaşık 1.5 ay önce garantiye gönderdiğim ps4 cihazım azami tamir süresinin 20 iş günü geçmesine rağmen hem benim kendi cihazım gelmedi. Hem de 10 iş günü geçmesi takdirinde verilmesi gereken muadili cihazı verilmedi. Teknik servisi arayıp konuştuğum zaman elimizde yeni cihaz bulunmamaktadır. \n",
      "\n",
      "sony eurasia garanti gönderdik psüm gelmedi yaklaşık ay ö garanti gönderdik ps cihaz azami tamir süre iş g geçme rağme be ke cihaz gelmedi iş g geçmes takdir verilmes gereke muadil cihaz verilmedi teknik servis arayıp konuştuk zama el ye cihaz bulunmamak \n",
      "\n",
      "Snopy Sıfır Kulaklık Açılmıyor. İki aydır almışım kulaklık hiç açılmıyor. Aldığım firmaya sordum kargoyla servise göndermem gerektiğini söyledi. Kendileri göndermeleri gerekiyordu ama uğraşmıyorlar. Şahsen memnun değilim. Firma ile satış temsilcileri aralarında anlaşmaları iyi yapmaları gerekiyor. \n",
      "\n",
      "snopy sıfır kulaklık açılmıyor ik ay al kulaklık açılmıyor aldık firma sor kargo servis gönderme gerektik söyledi kendi gönderme gerekiyor uğraşmıyor şah memn değil firma satış temsilci ara anlaşma i yapma gerekiyor \n",
      "\n",
      "İETT  Otobüs Seferleri Saatleri. Ht29 avcılar Kıraç ve 429 Yenibosna Kıraç zaten her konuda sorunlu bu iki hat. Bugün 1 Mayıs işçi bayramı, milletin emeğinden almayın. Metrobüs seferi 06:00 da başlıyor ise bu iki hat neden 06:30 da başlıyor sizin yüzünüzden işe geç kalmamak için 45 dakika metrobüse yürüdüm. 2 ve 3 Mayıs ta da bu ik \n",
      "\n",
      "iett otobüs sefer saat ht avcı kıraç yenibosna kıraç zate konu sorunlu ik hat bugu mayıs işçi bayra millet emek almay metrobüs sefer başlıyor ik hat başlıyor siz yüz iş geç kalmamak dakik metrobüs yürüdü mayıs ta ik \n",
      "\n"
     ]
    }
   ],
   "source": [
    "sampling = human_data.iloc[0:3].reset_index(drop=True)\n",
    "print(sampling['review'][0], \"\\n\")\n",
    "print(preprocess_text(sampling['review'][0]), \"\\n\")\n",
    "print(sampling['review'][1], \"\\n\")\n",
    "print(preprocess_text(sampling['review'][1]), \"\\n\")\n",
    "print(sampling['review'][2], \"\\n\")\n",
    "print(preprocess_text(sampling['review'][2]), \"\\n\")"
   ]
  },
  {
   "cell_type": "code",
   "execution_count": 14,
   "metadata": {},
   "outputs": [
    {
     "data": {
      "text/html": [
       "<div>\n",
       "<style scoped>\n",
       "    .dataframe tbody tr th:only-of-type {\n",
       "        vertical-align: middle;\n",
       "    }\n",
       "\n",
       "    .dataframe tbody tr th {\n",
       "        vertical-align: top;\n",
       "    }\n",
       "\n",
       "    .dataframe thead th {\n",
       "        text-align: right;\n",
       "    }\n",
       "</style>\n",
       "<table border=\"1\" class=\"dataframe\">\n",
       "  <thead>\n",
       "    <tr style=\"text-align: right;\">\n",
       "      <th></th>\n",
       "      <th>review</th>\n",
       "      <th>label</th>\n",
       "    </tr>\n",
       "  </thead>\n",
       "  <tbody>\n",
       "    <tr>\n",
       "      <th>0</th>\n",
       "      <td>oka üniversites hastane çalışa son zaman göste...</td>\n",
       "      <td>ai</td>\n",
       "    </tr>\n",
       "    <tr>\n",
       "      <th>1</th>\n",
       "      <td>ekiç kaşar peynir tam bir hayal kırıklık marke...</td>\n",
       "      <td>ai</td>\n",
       "    </tr>\n",
       "    <tr>\n",
       "      <th>2</th>\n",
       "      <td>similaç deva süt aldık iç tah çık bebek ür tük...</td>\n",
       "      <td>ai</td>\n",
       "    </tr>\n",
       "    <tr>\n",
       "      <th>3</th>\n",
       "      <td>ilha duma hukuk büro sürekli borç mesaj alıyor...</td>\n",
       "      <td>ai</td>\n",
       "    </tr>\n",
       "    <tr>\n",
       "      <th>4</th>\n",
       "      <td>samsungu marka kamera flaş ilgil yaşadık sor i...</td>\n",
       "      <td>ai</td>\n",
       "    </tr>\n",
       "  </tbody>\n",
       "</table>\n",
       "</div>"
      ],
      "text/plain": [
       "                                              review label\n",
       "0  oka üniversites hastane çalışa son zaman göste...    ai\n",
       "1  ekiç kaşar peynir tam bir hayal kırıklık marke...    ai\n",
       "2  similaç deva süt aldık iç tah çık bebek ür tük...    ai\n",
       "3  ilha duma hukuk büro sürekli borç mesaj alıyor...    ai\n",
       "4  samsungu marka kamera flaş ilgil yaşadık sor i...    ai"
      ]
     },
     "execution_count": 14,
     "metadata": {},
     "output_type": "execute_result"
    }
   ],
   "source": [
    "ai_data.head()"
   ]
  },
  {
   "cell_type": "code",
   "execution_count": 15,
   "metadata": {
    "scrolled": true
   },
   "outputs": [
    {
     "data": {
      "text/html": [
       "<div>\n",
       "<style scoped>\n",
       "    .dataframe tbody tr th:only-of-type {\n",
       "        vertical-align: middle;\n",
       "    }\n",
       "\n",
       "    .dataframe tbody tr th {\n",
       "        vertical-align: top;\n",
       "    }\n",
       "\n",
       "    .dataframe thead th {\n",
       "        text-align: right;\n",
       "    }\n",
       "</style>\n",
       "<table border=\"1\" class=\"dataframe\">\n",
       "  <thead>\n",
       "    <tr style=\"text-align: right;\">\n",
       "      <th></th>\n",
       "      <th>review</th>\n",
       "      <th>review_length</th>\n",
       "      <th>label</th>\n",
       "    </tr>\n",
       "  </thead>\n",
       "  <tbody>\n",
       "    <tr>\n",
       "      <th>0</th>\n",
       "      <td>Sony Eurasia Garantiye Gönderdiğim Ps4'üm Gelm...</td>\n",
       "      <td>48</td>\n",
       "      <td>human</td>\n",
       "    </tr>\n",
       "    <tr>\n",
       "      <th>1</th>\n",
       "      <td>Snopy Sıfır Kulaklık Açılmıyor. İki aydır almı...</td>\n",
       "      <td>35</td>\n",
       "      <td>human</td>\n",
       "    </tr>\n",
       "    <tr>\n",
       "      <th>2</th>\n",
       "      <td>İETT  Otobüs Seferleri Saatleri. Ht29 avcılar ...</td>\n",
       "      <td>57</td>\n",
       "      <td>human</td>\n",
       "    </tr>\n",
       "    <tr>\n",
       "      <th>3</th>\n",
       "      <td>Aras Kargo Kargom Tarafıma Gelmedi. Kargom gel...</td>\n",
       "      <td>48</td>\n",
       "      <td>human</td>\n",
       "    </tr>\n",
       "    <tr>\n",
       "      <th>4</th>\n",
       "      <td>MACFit Kayıt Maili Gelmedi. Macfit' e 17.11.20...</td>\n",
       "      <td>41</td>\n",
       "      <td>human</td>\n",
       "    </tr>\n",
       "  </tbody>\n",
       "</table>\n",
       "</div>"
      ],
      "text/plain": [
       "                                              review  review_length  label\n",
       "0  Sony Eurasia Garantiye Gönderdiğim Ps4'üm Gelm...             48  human\n",
       "1  Snopy Sıfır Kulaklık Açılmıyor. İki aydır almı...             35  human\n",
       "2  İETT  Otobüs Seferleri Saatleri. Ht29 avcılar ...             57  human\n",
       "3  Aras Kargo Kargom Tarafıma Gelmedi. Kargom gel...             48  human\n",
       "4  MACFit Kayıt Maili Gelmedi. Macfit' e 17.11.20...             41  human"
      ]
     },
     "execution_count": 15,
     "metadata": {},
     "output_type": "execute_result"
    }
   ],
   "source": [
    "human_data.head()"
   ]
  },
  {
   "cell_type": "code",
   "execution_count": 16,
   "metadata": {},
   "outputs": [
    {
     "data": {
      "text/html": [
       "<div>\n",
       "<style scoped>\n",
       "    .dataframe tbody tr th:only-of-type {\n",
       "        vertical-align: middle;\n",
       "    }\n",
       "\n",
       "    .dataframe tbody tr th {\n",
       "        vertical-align: top;\n",
       "    }\n",
       "\n",
       "    .dataframe thead th {\n",
       "        text-align: right;\n",
       "    }\n",
       "</style>\n",
       "<table border=\"1\" class=\"dataframe\">\n",
       "  <thead>\n",
       "    <tr style=\"text-align: right;\">\n",
       "      <th></th>\n",
       "      <th>review</th>\n",
       "      <th>label</th>\n",
       "    </tr>\n",
       "  </thead>\n",
       "  <tbody>\n",
       "    <tr>\n",
       "      <th>386972</th>\n",
       "      <td>farabi hastanes konya öde sor devlet hastane b...</td>\n",
       "      <td>human</td>\n",
       "    </tr>\n",
       "    <tr>\n",
       "      <th>386973</th>\n",
       "      <td>sürat kargo kargo getiremedi tarih verdik sipa...</td>\n",
       "      <td>human</td>\n",
       "    </tr>\n",
       "    <tr>\n",
       "      <th>386974</th>\n",
       "      <td>apple değiş ola ekra el deforme ür takılmas pl...</td>\n",
       "      <td>human</td>\n",
       "    </tr>\n",
       "    <tr>\n",
       "      <th>386975</th>\n",
       "      <td>molfix şekerle bez molfix numar bez al bez şek...</td>\n",
       "      <td>human</td>\n",
       "    </tr>\n",
       "    <tr>\n",
       "      <th>386976</th>\n",
       "      <td>huawei p li isınma kasılma sor ay ö teknos dan...</td>\n",
       "      <td>human</td>\n",
       "    </tr>\n",
       "  </tbody>\n",
       "</table>\n",
       "</div>"
      ],
      "text/plain": [
       "                                                   review  label\n",
       "386972  farabi hastanes konya öde sor devlet hastane b...  human\n",
       "386973  sürat kargo kargo getiremedi tarih verdik sipa...  human\n",
       "386974  apple değiş ola ekra el deforme ür takılmas pl...  human\n",
       "386975  molfix şekerle bez molfix numar bez al bez şek...  human\n",
       "386976  huawei p li isınma kasılma sor ay ö teknos dan...  human"
      ]
     },
     "execution_count": 16,
     "metadata": {},
     "output_type": "execute_result"
    }
   ],
   "source": [
    "human = human_data.iloc[-len(ai_data):].copy()\n",
    "human['review'] = human['review'].apply(preprocess_text)\n",
    "human.drop('review_length', axis=1, inplace=True)\n",
    "human.head()"
   ]
  },
  {
   "cell_type": "code",
   "execution_count": 17,
   "metadata": {},
   "outputs": [],
   "source": [
    "ai_data['review'] = ai_data['review'].apply(lambda x: ' '.join(x.split()[:-15]))\n",
    "\n",
    "combined_df = pd.concat([ai_data, human], ignore_index=True)\n",
    "combined_df.to_csv('reviews.csv', index=False, encoding='utf-8-sig')"
   ]
  },
  {
   "cell_type": "markdown",
   "metadata": {},
   "source": [
    "## Training Models"
   ]
  },
  {
   "cell_type": "code",
   "execution_count": 20,
   "metadata": {
    "scrolled": false
   },
   "outputs": [
    {
     "name": "stdout",
     "output_type": "stream",
     "text": [
      "Logistic Regression Classification Report:\n",
      "              precision    recall  f1-score   support\n",
      "\n",
      "           0       0.97      0.95      0.96      1740\n",
      "           1       0.95      0.98      0.96      1740\n",
      "\n",
      "    accuracy                           0.96      3480\n",
      "   macro avg       0.96      0.96      0.96      3480\n",
      "weighted avg       0.96      0.96      0.96      3480\n",
      "\n",
      "Naive Bayes Classification Report:\n",
      "              precision    recall  f1-score   support\n",
      "\n",
      "           0       0.95      0.96      0.96      1740\n",
      "           1       0.96      0.95      0.96      1740\n",
      "\n",
      "    accuracy                           0.96      3480\n",
      "   macro avg       0.96      0.96      0.96      3480\n",
      "weighted avg       0.96      0.96      0.96      3480\n",
      "\n",
      "SVM Classification Report:\n",
      "              precision    recall  f1-score   support\n",
      "\n",
      "           0       0.98      0.96      0.97      1740\n",
      "           1       0.96      0.98      0.97      1740\n",
      "\n",
      "    accuracy                           0.97      3480\n",
      "   macro avg       0.97      0.97      0.97      3480\n",
      "weighted avg       0.97      0.97      0.97      3480\n",
      "\n"
     ]
    },
    {
     "data": {
      "text/plain": [
       "['test/svm_vectorizer.pkl']"
      ]
     },
     "execution_count": 20,
     "metadata": {},
     "output_type": "execute_result"
    }
   ],
   "source": [
    "# Initialize lists to store results\n",
    "conf_matrices = {'LR': None, 'NB': None, 'SVM': None}\n",
    "\n",
    "# Split data into train and test sets\n",
    "train_ai, test_ai = train_test_split(ai_data, test_size=0.3, random_state=42)\n",
    "train_human_df, test_human_df = train_test_split(human, test_size=0.3, random_state=42)\n",
    "\n",
    "# Combine datasets\n",
    "combined_train_df = pd.concat([train_ai, train_human_df])\n",
    "combined_test_df = pd.concat([test_ai, test_human_df])\n",
    "\n",
    "# Encode labels\n",
    "Encoder = LabelEncoder()\n",
    "Train_Y = Encoder.fit_transform(combined_train_df['label'])\n",
    "Test_Y = Encoder.transform(combined_test_df['label'])\n",
    "\n",
    "# Vectorization\n",
    "Tfidf_vect = TfidfVectorizer(max_features=5000)\n",
    "Tfidf_vect.fit(pd.concat([ai_data['review'], human['review']]))  # Use full text data for fitting\n",
    "Train_X_Tfidf = Tfidf_vect.transform(combined_train_df['review'])\n",
    "Test_X_Tfidf = Tfidf_vect.transform(combined_test_df['review'])\n",
    "\n",
    "# Logistic Regression\n",
    "vectorizer = CountVectorizer(ngram_range=(1, 3))\n",
    "X_train = vectorizer.fit_transform(combined_train_df['review'])\n",
    "X_test = vectorizer.transform(combined_test_df['review'])\n",
    "\n",
    "log_reg = LogisticRegression()\n",
    "log_reg.fit(X_train, Train_Y)\n",
    "\n",
    "predictions_LR = log_reg.predict(X_test)\n",
    "conf_matrices['LR'] = confusion_matrix(Test_Y, predictions_LR)\n",
    "print(\"Logistic Regression Classification Report:\")\n",
    "print(classification_report(Test_Y, predictions_LR))\n",
    "\n",
    "# Save Logistic Regression model and vectorizer\n",
    "joblib.dump(log_reg, \"test/lr_model.pkl\")\n",
    "joblib.dump(vectorizer, \"test/lr_vectorizer.pkl\")\n",
    "\n",
    "# Naive Bayes\n",
    "Naive = naive_bayes.MultinomialNB()\n",
    "Naive.fit(Train_X_Tfidf, Train_Y)\n",
    "\n",
    "predictions_NB = Naive.predict(Test_X_Tfidf)\n",
    "conf_matrices['NB'] = confusion_matrix(Test_Y, predictions_NB)\n",
    "print(\"Naive Bayes Classification Report:\")\n",
    "print(classification_report(Test_Y, predictions_NB))\n",
    "\n",
    "# Save Naive Bayes model and vectorizer\n",
    "joblib.dump(Naive, \"test/nb_model.pkl\")\n",
    "joblib.dump(Tfidf_vect, \"test/nb_vectorizer.pkl\")\n",
    "\n",
    "# SVM\n",
    "SVM = svm.SVC(C=1.0, kernel='linear', degree=3, gamma='auto')\n",
    "SVM.fit(Train_X_Tfidf, Train_Y)\n",
    "\n",
    "predictions_SVM = SVM.predict(Test_X_Tfidf)\n",
    "conf_matrices['SVM'] = confusion_matrix(Test_Y, predictions_SVM)\n",
    "print(\"SVM Classification Report:\")\n",
    "print(classification_report(Test_Y, predictions_SVM))\n",
    "\n",
    "# Save SVM model and vectorizer\n",
    "joblib.dump(SVM, \"test/svm_model.pkl\")\n",
    "joblib.dump(Tfidf_vect, \"test/svm_vectorizer.pkl\")"
   ]
  },
  {
   "cell_type": "code",
   "execution_count": 24,
   "metadata": {},
   "outputs": [
    {
     "data": {
      "image/png": "[encoded data removed]",
      "text/plain": [
       "<Figure size 1296x432 with 3 Axes>"
      ]
     },
     "metadata": {
      "needs_background": "light"
     },
     "output_type": "display_data"
    }
   ],
   "source": [
    "def plot_confusion_matrix(cm, title, ax):\n",
    "    sns.heatmap(cm, annot=True, fmt=\"d\", cmap='Blues', cbar=False, ax=ax)\n",
    "    ax.set_title(title)\n",
    "    ax.set_xlabel('Predicted Labels')\n",
    "    ax.set_ylabel('True Labels')\n",
    "    ax.set_xticklabels(['AI', 'Human'])\n",
    "    ax.set_yticklabels(['AI', 'Human'])\n",
    "\n",
    "# Plot confusion matrices\n",
    "fig, axes = plt.subplots(1, 3, figsize=(18, 6))\n",
    "plot_confusion_matrix(conf_matrices['LR'], 'Logistic Regression', axes[0])\n",
    "plot_confusion_matrix(conf_matrices['NB'], 'Naive Bayes', axes[1])\n",
    "plot_confusion_matrix(conf_matrices['SVM'], 'SVM', axes[2])\n",
    "plt.tight_layout()\n",
    "plt.show()"
   ]
  },
  {
   "cell_type": "markdown",
   "metadata": {},
   "source": [
    "The model seem to work too good. Let's see the results with cross validation"
   ]
  },
  {
   "cell_type": "code",
   "execution_count": 25,
   "metadata": {},
   "outputs": [
    {
     "name": "stdout",
     "output_type": "stream",
     "text": [
      "Cross-Validation Average Accuracy: 0.9637931034482758\n",
      "Test Set Accuracy: 0.9580459770114943\n",
      "Classification Report on Test Set:\n",
      "               precision    recall  f1-score   support\n",
      "\n",
      "          ai       0.97      0.94      0.96      1740\n",
      "       human       0.95      0.97      0.96      1740\n",
      "\n",
      "    accuracy                           0.96      3480\n",
      "   macro avg       0.96      0.96      0.96      3480\n",
      "weighted avg       0.96      0.96      0.96      3480\n",
      "\n"
     ]
    },
    {
     "data": {
      "image/png": "[encoded data removed]",
      "text/plain": [
       "<Figure size 432x288 with 2 Axes>"
      ]
     },
     "metadata": {
      "needs_background": "light"
     },
     "output_type": "display_data"
    }
   ],
   "source": [
    "# Split data into training and testing sets\n",
    "vectorizer = CountVectorizer(ngram_range=(1,3))\n",
    "X_train = vectorizer.fit_transform(combined_train_df['review'])\n",
    "X_test = vectorizer.transform(combined_test_df['review'])\n",
    "\n",
    "y_train = combined_train_df['label'].values\n",
    "y_test = combined_test_df['label'].values\n",
    "\n",
    "# Initialize KFold for the training set only\n",
    "kf = KFold(n_splits=5, shuffle=True, random_state=42)\n",
    "\n",
    "# Initialize the Logistic Regression model\n",
    "model = LogisticRegression(max_iter=1000)\n",
    "\n",
    "# Lists to store results for each fold\n",
    "accuracies = []\n",
    "class_reports = []\n",
    "conf_matrices = []\n",
    "\n",
    "# Perform cross-validation on the training data only\n",
    "for train_index, val_index in kf.split(X_train):\n",
    "    X_train_fold, X_val_fold = X_train[train_index], X_train[val_index]\n",
    "    y_train_fold, y_val_fold = y_train[train_index], y_train[val_index]\n",
    "\n",
    "    # Train the model on the fold\n",
    "    model.fit(X_train_fold, y_train_fold)\n",
    "    \n",
    "    # Make predictions on the validation fold\n",
    "    predictions = model.predict(X_val_fold)\n",
    "    \n",
    "    # Metrics calculation\n",
    "    accuracies.append(accuracy_score(y_val_fold, predictions))\n",
    "    class_reports.append(classification_report(y_val_fold, predictions, output_dict=True))\n",
    "    conf_matrices.append(confusion_matrix(y_val_fold, predictions))\n",
    "\n",
    "# Evaluate the final model on the test set\n",
    "final_predictions = model.predict(X_test)\n",
    "final_accuracy = accuracy_score(y_test, final_predictions)\n",
    "final_class_report = classification_report(y_test, final_predictions)\n",
    "final_conf_matrix = confusion_matrix(y_test, final_predictions)\n",
    "\n",
    "# Display results\n",
    "print(\"Cross-Validation Average Accuracy:\", np.mean(accuracies))\n",
    "print(\"Test Set Accuracy:\", final_accuracy)\n",
    "print(\"Classification Report on Test Set:\\n\", final_class_report)\n",
    "\n",
    "# Display confusion matrix for the test set\n",
    "sns.heatmap(final_conf_matrix, annot=True, fmt='d', cmap='Blues', xticklabels=['AI', 'Human'], yticklabels=['AI', 'Human'])\n",
    "plt.ylabel('Actual')\n",
    "plt.xlabel('Predicted')\n",
    "plt.title('Test Set Confusion Matrix')\n",
    "plt.show()"
   ]
  }
 ],
 "metadata": {
  "kernelspec": {
   "display_name": "Python 3 (ipykernel)",
   "language": "python",
   "name": "python3"
  },
  "language_info": {
   "codemirror_mode": {
    "name": "ipython",
    "version": 3
   },
   "file_extension": ".py",
   "mimetype": "text/x-python",
   "name": "python",
   "nbconvert_exporter": "python",
   "pygments_lexer": "ipython3",
   "version": "3.9.1"
  }
 },
 "nbformat": 4,
 "nbformat_minor": 2
}
