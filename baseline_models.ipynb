{
 "cells": [
  {
   "cell_type": "code",
   "execution_count": 1,
   "metadata": {},
   "outputs": [],
   "source": [
    "#!pip install requirements.txt\n",
    "\n",
    "\n",
    "# After preparing the data, save it to a csv file to use in other models directly"
   ]
  },
  {
   "cell_type": "code",
   "execution_count": 2,
   "metadata": {},
   "outputs": [],
   "source": [
    "from datasets import load_dataset\n",
    "import pandas as pd\n",
    "import numpy as np\n",
    "import matplotlib.pyplot as plt\n",
    "import seaborn as sns\n",
    "import re\n",
    "\n",
    "from sklearn.model_selection import train_test_split\n",
    "from sklearn.feature_extraction.text import CountVectorizer, TfidfVectorizer\n",
    "from sklearn.linear_model import LogisticRegression\n",
    "from sklearn.metrics import accuracy_score, classification_report, confusion_matrix, f1_score\n",
    "from sklearn.model_selection import KFold, cross_val_score\n",
    "from sklearn.preprocessing import LabelEncoder\n",
    "from sklearn import naive_bayes, svm\n",
    "\n",
    "from nltk.tokenize import word_tokenize\n",
    "from nltk import pos_tag\n",
    "from nltk.corpus import stopwords\n",
    "from nltk.stem import WordNetLemmatizer\n",
    "from collections import defaultdict\n",
    "from nltk.corpus import wordnet as wn\n",
    "import pickle\n",
    "import nltk"
   ]
  },
  {
   "cell_type": "code",
   "execution_count": 3,
   "metadata": {},
   "outputs": [
    {
     "data": {
      "text/html": [
       "<div>\n",
       "<style scoped>\n",
       "    .dataframe tbody tr th:only-of-type {\n",
       "        vertical-align: middle;\n",
       "    }\n",
       "\n",
       "    .dataframe tbody tr th {\n",
       "        vertical-align: top;\n",
       "    }\n",
       "\n",
       "    .dataframe thead th {\n",
       "        text-align: right;\n",
       "    }\n",
       "</style>\n",
       "<table border=\"1\" class=\"dataframe\">\n",
       "  <thead>\n",
       "    <tr style=\"text-align: right;\">\n",
       "      <th></th>\n",
       "      <th>review</th>\n",
       "      <th>review_length</th>\n",
       "    </tr>\n",
       "  </thead>\n",
       "  <tbody>\n",
       "    <tr>\n",
       "      <th>0</th>\n",
       "      <td>Okan Üniversitesi Hastanesi'nde Çalışanların S...</td>\n",
       "      <td>45</td>\n",
       "    </tr>\n",
       "    <tr>\n",
       "      <th>1</th>\n",
       "      <td>Ekici Kaşar Peynirinin Peynir İle Alakası Yok....</td>\n",
       "      <td>49</td>\n",
       "    </tr>\n",
       "    <tr>\n",
       "      <th>2</th>\n",
       "      <td>Similac 2 Devam Sütunun İçinden Tahta Çıktı.  ...</td>\n",
       "      <td>55</td>\n",
       "    </tr>\n",
       "    <tr>\n",
       "      <th>3</th>\n",
       "      <td>İlhan Duman Hukuk Bürosu Borç Mesajı Geliyor. ...</td>\n",
       "      <td>44</td>\n",
       "    </tr>\n",
       "    <tr>\n",
       "      <th>4</th>\n",
       "      <td>Samsung Kamera Flaş Sorunu. Alalı 1 gün oldu S...</td>\n",
       "      <td>40</td>\n",
       "    </tr>\n",
       "  </tbody>\n",
       "</table>\n",
       "</div>"
      ],
      "text/plain": [
       "                                              review  review_length\n",
       "0  Okan Üniversitesi Hastanesi'nde Çalışanların S...             45\n",
       "1  Ekici Kaşar Peynirinin Peynir İle Alakası Yok....             49\n",
       "2  Similac 2 Devam Sütunun İçinden Tahta Çıktı.  ...             55\n",
       "3  İlhan Duman Hukuk Bürosu Borç Mesajı Geliyor. ...             44\n",
       "4  Samsung Kamera Flaş Sorunu. Alalı 1 gün oldu S...             40"
      ]
     },
     "execution_count": 3,
     "metadata": {},
     "output_type": "execute_result"
    }
   ],
   "source": [
    "human_data = load_dataset('kmkarakaya/turkishReviews-ds')\n",
    "human_data = human_data['train'].to_pandas()\n",
    "human_data.head()"
   ]
  },
  {
   "cell_type": "code",
   "execution_count": 4,
   "metadata": {},
   "outputs": [
    {
     "data": {
      "text/plain": [
       "(395772, 2)"
      ]
     },
     "execution_count": 4,
     "metadata": {},
     "output_type": "execute_result"
    }
   ],
   "source": [
    "# Some parts of this dataset is used for AI generated review production, so we need to filter out those\n",
    "human_data = human_data.iloc[3000:].reset_index(drop=True)\n",
    "human_data.shape"
   ]
  },
  {
   "cell_type": "code",
   "execution_count": 5,
   "metadata": {},
   "outputs": [
    {
     "data": {
      "text/plain": [
       "Index(['review', 'review_length'], dtype='object')"
      ]
     },
     "execution_count": 5,
     "metadata": {},
     "output_type": "execute_result"
    }
   ],
   "source": [
    "human_data.columns"
   ]
  },
  {
   "cell_type": "code",
   "execution_count": 6,
   "metadata": {},
   "outputs": [
    {
     "data": {
      "text/html": [
       "<div>\n",
       "<style scoped>\n",
       "    .dataframe tbody tr th:only-of-type {\n",
       "        vertical-align: middle;\n",
       "    }\n",
       "\n",
       "    .dataframe tbody tr th {\n",
       "        vertical-align: top;\n",
       "    }\n",
       "\n",
       "    .dataframe thead th {\n",
       "        text-align: right;\n",
       "    }\n",
       "</style>\n",
       "<table border=\"1\" class=\"dataframe\">\n",
       "  <thead>\n",
       "    <tr style=\"text-align: right;\">\n",
       "      <th></th>\n",
       "      <th>review</th>\n",
       "      <th>review_length</th>\n",
       "    </tr>\n",
       "  </thead>\n",
       "  <tbody>\n",
       "    <tr>\n",
       "      <th>0</th>\n",
       "      <td>Stüdyo Burak (Eskişehir) Biyometrik Vesikalık ...</td>\n",
       "      <td>46</td>\n",
       "    </tr>\n",
       "    <tr>\n",
       "      <th>1</th>\n",
       "      <td>Ziraat Bankası Konut Kredisi Yapılandırma. Ağu...</td>\n",
       "      <td>46</td>\n",
       "    </tr>\n",
       "    <tr>\n",
       "      <th>2</th>\n",
       "      <td>Grundig Televizyon Aldığımdan Beri Arıza Veriy...</td>\n",
       "      <td>48</td>\n",
       "    </tr>\n",
       "    <tr>\n",
       "      <th>3</th>\n",
       "      <td>Sürat Kargo Teslim Edilemeyen Ürünler. 7790108...</td>\n",
       "      <td>42</td>\n",
       "    </tr>\n",
       "    <tr>\n",
       "      <th>4</th>\n",
       "      <td>Okan Üniversitesi Ödenen Paranın Geri Verilmes...</td>\n",
       "      <td>52</td>\n",
       "    </tr>\n",
       "  </tbody>\n",
       "</table>\n",
       "</div>"
      ],
      "text/plain": [
       "                                              review  review_length\n",
       "0  Stüdyo Burak (Eskişehir) Biyometrik Vesikalık ...             46\n",
       "1  Ziraat Bankası Konut Kredisi Yapılandırma. Ağu...             46\n",
       "2  Grundig Televizyon Aldığımdan Beri Arıza Veriy...             48\n",
       "3  Sürat Kargo Teslim Edilemeyen Ürünler. 7790108...             42\n",
       "4  Okan Üniversitesi Ödenen Paranın Geri Verilmes...             52"
      ]
     },
     "execution_count": 6,
     "metadata": {},
     "output_type": "execute_result"
    }
   ],
   "source": [
    "# All the reviews contain their titles as the first sentence. They can be removed to make the dataset more clean.\n",
    "human_data['review'] = human_data['review'].apply(lambda x: re.sub(r'^.*\\n', '', x))\n",
    "\n",
    "# Update review lengths after removing titles\n",
    "human_data['review_length'] = human_data['review'].apply(lambda x: len(x.split()))\n",
    "\n",
    "human_data.head()"
   ]
  },
  {
   "cell_type": "code",
   "execution_count": 7,
   "metadata": {},
   "outputs": [
    {
     "data": {
      "text/html": [
       "<div>\n",
       "<style scoped>\n",
       "    .dataframe tbody tr th:only-of-type {\n",
       "        vertical-align: middle;\n",
       "    }\n",
       "\n",
       "    .dataframe tbody tr th {\n",
       "        vertical-align: top;\n",
       "    }\n",
       "\n",
       "    .dataframe thead th {\n",
       "        text-align: right;\n",
       "    }\n",
       "</style>\n",
       "<table border=\"1\" class=\"dataframe\">\n",
       "  <thead>\n",
       "    <tr style=\"text-align: right;\">\n",
       "      <th></th>\n",
       "      <th>prompt</th>\n",
       "      <th>review</th>\n",
       "      <th>model</th>\n",
       "    </tr>\n",
       "  </thead>\n",
       "  <tbody>\n",
       "    <tr>\n",
       "      <th>0</th>\n",
       "      <td>Okan Üniversitesi Hastanesi'nde Çalışanların S...</td>\n",
       "      <td>Okan Üniversitesi Hastanesi'nde çalışanların s...</td>\n",
       "      <td>gpt-3.5-turbo</td>\n",
       "    </tr>\n",
       "    <tr>\n",
       "      <th>1</th>\n",
       "      <td>Ekici Kaşar Peynirinin Peynir İle Alakası Yok....</td>\n",
       "      <td>Ekici Kaşar Peyniri tam bir hayal kırıklığı! M...</td>\n",
       "      <td>gpt-3.5-turbo</td>\n",
       "    </tr>\n",
       "    <tr>\n",
       "      <th>2</th>\n",
       "      <td>Similac 2 Devam Sütunun İçinden Tahta Çıktı.  ...</td>\n",
       "      <td>Similac 2 Devam Sütü aldığımda içinden tahta ç...</td>\n",
       "      <td>gpt-3.5-turbo</td>\n",
       "    </tr>\n",
       "    <tr>\n",
       "      <th>3</th>\n",
       "      <td>İlhan Duman Hukuk Bürosu Borç Mesajı Geliyor. ...</td>\n",
       "      <td>İlhan Duman Hukuk Bürosu'ndan sürekli borç mes...</td>\n",
       "      <td>gpt-3.5-turbo</td>\n",
       "    </tr>\n",
       "    <tr>\n",
       "      <th>4</th>\n",
       "      <td>Samsung Kamera Flaş Sorunu.  Sen bir tüketicis...</td>\n",
       "      <td>Samsung marka kameramın flaşıyla ilgili yaşadı...</td>\n",
       "      <td>gpt-3.5-turbo</td>\n",
       "    </tr>\n",
       "  </tbody>\n",
       "</table>\n",
       "</div>"
      ],
      "text/plain": [
       "                                              prompt  \\\n",
       "0  Okan Üniversitesi Hastanesi'nde Çalışanların S...   \n",
       "1  Ekici Kaşar Peynirinin Peynir İle Alakası Yok....   \n",
       "2  Similac 2 Devam Sütunun İçinden Tahta Çıktı.  ...   \n",
       "3  İlhan Duman Hukuk Bürosu Borç Mesajı Geliyor. ...   \n",
       "4  Samsung Kamera Flaş Sorunu.  Sen bir tüketicis...   \n",
       "\n",
       "                                              review          model  \n",
       "0  Okan Üniversitesi Hastanesi'nde çalışanların s...  gpt-3.5-turbo  \n",
       "1  Ekici Kaşar Peyniri tam bir hayal kırıklığı! M...  gpt-3.5-turbo  \n",
       "2  Similac 2 Devam Sütü aldığımda içinden tahta ç...  gpt-3.5-turbo  \n",
       "3  İlhan Duman Hukuk Bürosu'ndan sürekli borç mes...  gpt-3.5-turbo  \n",
       "4  Samsung marka kameramın flaşıyla ilgili yaşadı...  gpt-3.5-turbo  "
      ]
     },
     "execution_count": 7,
     "metadata": {},
     "output_type": "execute_result"
    }
   ],
   "source": [
    "ai_data = pd.read_excel('ai_data.xlsx')\n",
    "ai_data.head()"
   ]
  },
  {
   "cell_type": "code",
   "execution_count": 8,
   "metadata": {},
   "outputs": [
    {
     "name": "stdout",
     "output_type": "stream",
     "text": [
      "AI Data Shape:  (3000, 3)\n",
      "Human Data Shape:  (395772, 2)\n",
      "Human Data:\n",
      "        review_length\n",
      "count  395772.000000\n",
      "mean       46.002044\n",
      "std         5.194381\n",
      "min        29.000000\n",
      "25%        43.000000\n",
      "50%        46.000000\n",
      "75%        49.000000\n",
      "max       176.000000\n",
      "Human Data Columns:  Index(['review', 'review_length'], dtype='object')\n",
      "Human Data Number of Words:  46.00204410620256\n",
      "Human Data Maximum Number of Words:  176\n",
      "Human Data Minimum Number of Words:  29\n"
     ]
    }
   ],
   "source": [
    "print(\"AI Data Shape: \", ai_data.shape)\n",
    "print(\"Human Data Shape: \", human_data.shape)\n",
    "print(\"Human Data:\\n\", human_data.describe())\n",
    "print(\"Human Data Columns: \", human_data.columns)\n",
    "print(\"Human Data Number of Words: \", human_data['review_length'].mean())\n",
    "print(\"Human Data Maximum Number of Words: \", human_data['review_length'].max())\n",
    "print(\"Human Data Minimum Number of Words: \", human_data['review_length'].min())"
   ]
  },
  {
   "cell_type": "code",
   "execution_count": 9,
   "metadata": {
    "scrolled": true
   },
   "outputs": [
    {
     "name": "stdout",
     "output_type": "stream",
     "text": [
      "Human Data Shape:  (395772, 2)\n",
      "Human Data:         review_length\n",
      "count  395772.000000\n",
      "mean       46.002044\n",
      "std         5.194381\n",
      "min        29.000000\n",
      "25%        43.000000\n",
      "50%        46.000000\n",
      "75%        49.000000\n",
      "max       176.000000\n",
      "Human Data Num of Words:  46.00204410620256\n"
     ]
    }
   ],
   "source": [
    "# Human dataset\n",
    "print(\"Human Data Shape: \", human_data.shape)\n",
    "print(\"Human Data: \", human_data.describe())\n",
    "print(\"Human Data Num of Words: \", human_data['review_length'].mean())"
   ]
  },
  {
   "cell_type": "code",
   "execution_count": 10,
   "metadata": {},
   "outputs": [
    {
     "data": {
      "image/png": "[encoded data removed]",
      "text/plain": [
       "<Figure size 720x432 with 1 Axes>"
      ]
     },
     "metadata": {
      "needs_background": "light"
     },
     "output_type": "display_data"
    }
   ],
   "source": [
    "# Text Length Distribution for Human Data\n",
    "plt.figure(figsize=(10, 6))\n",
    "sns.histplot(human_data['review_length'], bins=50)\n",
    "plt.title('Distribution of Review Lengths of Human Data')\n",
    "plt.xlabel('Review Length')\n",
    "plt.ylabel('Frequency')\n",
    "plt.show()"
   ]
  },
  {
   "cell_type": "code",
   "execution_count": 11,
   "metadata": {},
   "outputs": [
    {
     "data": {
      "image/png": "[encoded data removed]",
      "text/plain": [
       "<Figure size 720x432 with 1 Axes>"
      ]
     },
     "metadata": {
      "needs_background": "light"
     },
     "output_type": "display_data"
    }
   ],
   "source": [
    "# Text Length Distribution for AI Data\n",
    "ai_data['review_length'] = ai_data['review'].apply(lambda x: len(x.split()))\n",
    "\n",
    "plt.figure(figsize=(10, 6))\n",
    "sns.histplot(ai_data['review_length'], bins=50)\n",
    "plt.title('Distribution of Review Lengths of AI Generated Data')\n",
    "plt.xlabel('Review Length')\n",
    "plt.ylabel('Frequency')\n",
    "plt.show()"
   ]
  },
  {
   "cell_type": "code",
   "execution_count": 12,
   "metadata": {},
   "outputs": [
    {
     "data": {
      "text/html": [
       "<div>\n",
       "<style scoped>\n",
       "    .dataframe tbody tr th:only-of-type {\n",
       "        vertical-align: middle;\n",
       "    }\n",
       "\n",
       "    .dataframe tbody tr th {\n",
       "        vertical-align: top;\n",
       "    }\n",
       "\n",
       "    .dataframe thead th {\n",
       "        text-align: right;\n",
       "    }\n",
       "</style>\n",
       "<table border=\"1\" class=\"dataframe\">\n",
       "  <thead>\n",
       "    <tr style=\"text-align: right;\">\n",
       "      <th></th>\n",
       "      <th>review</th>\n",
       "      <th>review_length</th>\n",
       "      <th>label</th>\n",
       "    </tr>\n",
       "  </thead>\n",
       "  <tbody>\n",
       "    <tr>\n",
       "      <th>0</th>\n",
       "      <td>Stüdyo Burak (Eskişehir) Biyometrik Vesikalık ...</td>\n",
       "      <td>46.0</td>\n",
       "      <td>human</td>\n",
       "    </tr>\n",
       "    <tr>\n",
       "      <th>1</th>\n",
       "      <td>Ziraat Bankası Konut Kredisi Yapılandırma. Ağu...</td>\n",
       "      <td>46.0</td>\n",
       "      <td>human</td>\n",
       "    </tr>\n",
       "    <tr>\n",
       "      <th>2</th>\n",
       "      <td>Grundig Televizyon Aldığımdan Beri Arıza Veriy...</td>\n",
       "      <td>48.0</td>\n",
       "      <td>human</td>\n",
       "    </tr>\n",
       "    <tr>\n",
       "      <th>3</th>\n",
       "      <td>Sürat Kargo Teslim Edilemeyen Ürünler. 7790108...</td>\n",
       "      <td>42.0</td>\n",
       "      <td>human</td>\n",
       "    </tr>\n",
       "    <tr>\n",
       "      <th>4</th>\n",
       "      <td>Okan Üniversitesi Ödenen Paranın Geri Verilmes...</td>\n",
       "      <td>52.0</td>\n",
       "      <td>human</td>\n",
       "    </tr>\n",
       "    <tr>\n",
       "      <th>...</th>\n",
       "      <td>...</td>\n",
       "      <td>...</td>\n",
       "      <td>...</td>\n",
       "    </tr>\n",
       "    <tr>\n",
       "      <th>398767</th>\n",
       "      <td>DeFacto’dan sipariş ettiğim ürün iki haftadır ...</td>\n",
       "      <td>NaN</td>\n",
       "      <td>ai</td>\n",
       "    </tr>\n",
       "    <tr>\n",
       "      <th>398768</th>\n",
       "      <td>Ziraat Bankası Bireysel Temel İhtiyaç Kredisi ...</td>\n",
       "      <td>NaN</td>\n",
       "      <td>ai</td>\n",
       "    </tr>\n",
       "    <tr>\n",
       "      <th>398769</th>\n",
       "      <td>QNB Finansbank Kredi Kartı İadeleri Düşmüyor S...</td>\n",
       "      <td>NaN</td>\n",
       "      <td>ai</td>\n",
       "    </tr>\n",
       "    <tr>\n",
       "      <th>398770</th>\n",
       "      <td>Turkcell TV kumandasıyla ilgili yaşadığım soru...</td>\n",
       "      <td>NaN</td>\n",
       "      <td>ai</td>\n",
       "    </tr>\n",
       "    <tr>\n",
       "      <th>398771</th>\n",
       "      <td>Demir Opel Otomotiv parçalarında deformasyon o...</td>\n",
       "      <td>NaN</td>\n",
       "      <td>ai</td>\n",
       "    </tr>\n",
       "  </tbody>\n",
       "</table>\n",
       "<p>398772 rows × 3 columns</p>\n",
       "</div>"
      ],
      "text/plain": [
       "                                                   review  review_length  \\\n",
       "0       Stüdyo Burak (Eskişehir) Biyometrik Vesikalık ...           46.0   \n",
       "1       Ziraat Bankası Konut Kredisi Yapılandırma. Ağu...           46.0   \n",
       "2       Grundig Televizyon Aldığımdan Beri Arıza Veriy...           48.0   \n",
       "3       Sürat Kargo Teslim Edilemeyen Ürünler. 7790108...           42.0   \n",
       "4       Okan Üniversitesi Ödenen Paranın Geri Verilmes...           52.0   \n",
       "...                                                   ...            ...   \n",
       "398767  DeFacto’dan sipariş ettiğim ürün iki haftadır ...            NaN   \n",
       "398768  Ziraat Bankası Bireysel Temel İhtiyaç Kredisi ...            NaN   \n",
       "398769  QNB Finansbank Kredi Kartı İadeleri Düşmüyor S...            NaN   \n",
       "398770  Turkcell TV kumandasıyla ilgili yaşadığım soru...            NaN   \n",
       "398771  Demir Opel Otomotiv parçalarında deformasyon o...            NaN   \n",
       "\n",
       "        label  \n",
       "0       human  \n",
       "1       human  \n",
       "2       human  \n",
       "3       human  \n",
       "4       human  \n",
       "...       ...  \n",
       "398767     ai  \n",
       "398768     ai  \n",
       "398769     ai  \n",
       "398770     ai  \n",
       "398771     ai  \n",
       "\n",
       "[398772 rows x 3 columns]"
      ]
     },
     "execution_count": 12,
     "metadata": {},
     "output_type": "execute_result"
    }
   ],
   "source": [
    "ai_data['label'] = 'ai'\n",
    "ai_data = ai_data[['review', 'label']]\n",
    "human_data['label'] = 'human'\n",
    "\n",
    "dataset = pd.concat([human_data, ai_data], ignore_index=True)\n",
    "dataset"
   ]
  },
  {
   "cell_type": "markdown",
   "metadata": {},
   "source": [
    "# Preprocess AI Generated Data"
   ]
  },
  {
   "cell_type": "code",
   "execution_count": 13,
   "metadata": {
    "scrolled": false
   },
   "outputs": [
    {
     "name": "stderr",
     "output_type": "stream",
     "text": [
      "[nltk_data] Downloading package stopwords to\n",
      "[nltk_data]     C:\\Users\\Asus\\AppData\\Roaming\\nltk_data...\n",
      "[nltk_data]   Package stopwords is already up-to-date!\n"
     ]
    },
    {
     "name": "stdout",
     "output_type": "stream",
     "text": [
      "                                                 review label\n",
      "0     oka üniversites hastane çalışa son zaman göste...    ai\n",
      "1     ekiç kaşar peynir tam bir hayal kırıklık marke...    ai\n",
      "2     similaç deva süt aldık iç tah çık bebek ür tük...    ai\n",
      "3     ilha duma hukuk büro sürekli borç mesaj alıyor...    ai\n",
      "4     samsungu marka kamera flaş ilgil yaşadık sor i...    ai\n",
      "...                                                 ...   ...\n",
      "2995  defacto sipariş ettik ür ik haf el ulaşmadı si...    ai\n",
      "2996  ziraat bankas bireysel temel ihtiyaç kredis ha...    ai\n",
      "2997  qnb finansbank kredi kar iade düşmüyor siz bor...    ai\n",
      "2998  turkcell tv kumanda ilgil yaşadık sor be gerçe...    ai\n",
      "2999  demir opel otomotiv parça deformasyo olduk far...    ai\n",
      "\n",
      "[3000 rows x 2 columns]\n"
     ]
    }
   ],
   "source": [
    "import re\n",
    "import nltk\n",
    "from nltk.corpus import stopwords\n",
    "from nltk.tokenize import word_tokenize\n",
    "from snowballstemmer import TurkishStemmer\n",
    "\n",
    "# Stopwords listesi yükleniyor\n",
    "nltk.download('stopwords')\n",
    "turkish_stopwords = stopwords.words('turkish')\n",
    "\n",
    "# Kelime kökü bulucu\n",
    "stemmer = TurkishStemmer()\n",
    "\n",
    "def preprocess_text(text):\n",
    "    # Küçük harfe çevirme\n",
    "    text = text.lower()\n",
    "    # Noktalama işaretlerini çıkarma\n",
    "    text = re.sub(r'[^\\w\\s]', '', text)\n",
    "    # Rakamları çıkarma\n",
    "    text = re.sub(r'\\d+', '', text)\n",
    "    # Tokenleme\n",
    "    words = word_tokenize(text)\n",
    "    # Durdurma kelimelerini çıkarma ve stemming\n",
    "    words = [stemmer.stemWord(word) for word in words if word not in turkish_stopwords]\n",
    "    # Temizlenmiş metni birleştirme\n",
    "    return ' '.join(words)\n",
    "\n",
    "# AI veri setindeki metinleri ön işlemeden geçirme\n",
    "ai_data['review'] = ai_data['review'].apply(preprocess_text)\n",
    "print(ai_data)"
   ]
  },
  {
   "cell_type": "code",
   "execution_count": 14,
   "metadata": {},
   "outputs": [
    {
     "name": "stdout",
     "output_type": "stream",
     "text": [
      "Stüdyo Burak (Eskişehir) Biyometrik Vesikalık Hatalı Çekiliyor. Ehliyet için 12 Biyometrik vesikalığı 50 TL'ye çekiyorlar, Sürücü kursu arka fonun sistemde hata verdiğini ve Stüdyonun negatifi e-mail göndermesi gerektiğini iletti. Telefonda e-mail için 10 TL istediklerini ve Stüdyo'ya gelmem gerektiğini ilettiler. Yaptıkları iş hatalı, ayrıca insan psikolojisind \n",
      "\n",
      "stüdyo burak eskişehir biyometrik vesikalık hatal çekiliyor ehliyet biyometrik vesikalık tlye çekiyor sürüç kursu arka fo siste ha verdik stüdyo negatif email göndermes gerektik ilet telefo email tl istedik stüdyo gelme gerektik ilet yaptık iş hatal ayrıç in psikolojisindi \n",
      "\n",
      "Ziraat Bankası Konut Kredisi Yapılandırma. Ağustos 2019 tarihinde %0. 99 faiz oranı ile bankanızdan kullanmış olduğum konut kredim bulunmaktadır. Açıklanan son güncel kredi paketleri kapsamında %0. 74 oranına düşürülen konut kredisi faiz oranından yararlanmayı ve oluşan hak kaybımın giderilmesini Tüketiciyi Koruma Kanununun 36 ve 37. Maddeleri \n",
      "\n",
      "ziraat bankas konut kredis yapılandırma ağustos tarih faiz ora banka kulla olduk konut kredi bulunmak açıklana son güncel kredi paket kapsam oran düşürüle konut kredis faiz oran yararlanma oluşa hak kayp giderilme tüketici kor kanun madde \n",
      "\n",
      "Grundig Televizyon Aldığımdan Beri Arıza Veriyor. TV'yi Netflix için aldım bir ay olmadan Netflix uygulaması kalktı. Sürekli kanal değiştiremiyoruz kapatıp bekliyoruz tekrar açıyoruz. Aldığımdan beri TV'de arıza var, kumandalarda da arıza var. Kaç defa servis geldi yapar gibi görünüyorlar ama yapılmıyor. Ben bu televizyonu istemiyorum bunu da dile  \n",
      "\n",
      "grundigi televizyo aldık ber arız veriyor tvyi netflix al bir ay olma netflix uygulamas kalktı sürekli kanal değiştiremiyor kapatıp bekliyor tekrar açıyor aldık ber tvde arız var kumanda arız var kaç servis gel yapar görünüyor yapılmıyor ben televizyo istemiyor p dil \n",
      "\n"
     ]
    }
   ],
   "source": [
    "sampling = human_data.iloc[0:3].reset_index(drop=True)\n",
    "print(sampling['review'][0], \"\\n\")\n",
    "print(preprocess_text(sampling['review'][0]), \"\\n\")\n",
    "print(sampling['review'][1], \"\\n\")\n",
    "print(preprocess_text(sampling['review'][1]), \"\\n\")\n",
    "print(sampling['review'][2], \"\\n\")\n",
    "print(preprocess_text(sampling['review'][2]), \"\\n\")"
   ]
  },
  {
   "cell_type": "code",
   "execution_count": 15,
   "metadata": {},
   "outputs": [
    {
     "data": {
      "text/html": [
       "<div>\n",
       "<style scoped>\n",
       "    .dataframe tbody tr th:only-of-type {\n",
       "        vertical-align: middle;\n",
       "    }\n",
       "\n",
       "    .dataframe tbody tr th {\n",
       "        vertical-align: top;\n",
       "    }\n",
       "\n",
       "    .dataframe thead th {\n",
       "        text-align: right;\n",
       "    }\n",
       "</style>\n",
       "<table border=\"1\" class=\"dataframe\">\n",
       "  <thead>\n",
       "    <tr style=\"text-align: right;\">\n",
       "      <th></th>\n",
       "      <th>review</th>\n",
       "      <th>label</th>\n",
       "    </tr>\n",
       "  </thead>\n",
       "  <tbody>\n",
       "    <tr>\n",
       "      <th>0</th>\n",
       "      <td>oka üniversites hastane çalışa son zaman göste...</td>\n",
       "      <td>ai</td>\n",
       "    </tr>\n",
       "    <tr>\n",
       "      <th>1</th>\n",
       "      <td>ekiç kaşar peynir tam bir hayal kırıklık marke...</td>\n",
       "      <td>ai</td>\n",
       "    </tr>\n",
       "    <tr>\n",
       "      <th>2</th>\n",
       "      <td>similaç deva süt aldık iç tah çık bebek ür tük...</td>\n",
       "      <td>ai</td>\n",
       "    </tr>\n",
       "    <tr>\n",
       "      <th>3</th>\n",
       "      <td>ilha duma hukuk büro sürekli borç mesaj alıyor...</td>\n",
       "      <td>ai</td>\n",
       "    </tr>\n",
       "    <tr>\n",
       "      <th>4</th>\n",
       "      <td>samsungu marka kamera flaş ilgil yaşadık sor i...</td>\n",
       "      <td>ai</td>\n",
       "    </tr>\n",
       "  </tbody>\n",
       "</table>\n",
       "</div>"
      ],
      "text/plain": [
       "                                              review label\n",
       "0  oka üniversites hastane çalışa son zaman göste...    ai\n",
       "1  ekiç kaşar peynir tam bir hayal kırıklık marke...    ai\n",
       "2  similaç deva süt aldık iç tah çık bebek ür tük...    ai\n",
       "3  ilha duma hukuk büro sürekli borç mesaj alıyor...    ai\n",
       "4  samsungu marka kamera flaş ilgil yaşadık sor i...    ai"
      ]
     },
     "execution_count": 15,
     "metadata": {},
     "output_type": "execute_result"
    }
   ],
   "source": [
    "ai_data.head()"
   ]
  },
  {
   "cell_type": "code",
   "execution_count": 16,
   "metadata": {},
   "outputs": [
    {
     "data": {
      "text/html": [
       "<div>\n",
       "<style scoped>\n",
       "    .dataframe tbody tr th:only-of-type {\n",
       "        vertical-align: middle;\n",
       "    }\n",
       "\n",
       "    .dataframe tbody tr th {\n",
       "        vertical-align: top;\n",
       "    }\n",
       "\n",
       "    .dataframe thead th {\n",
       "        text-align: right;\n",
       "    }\n",
       "</style>\n",
       "<table border=\"1\" class=\"dataframe\">\n",
       "  <thead>\n",
       "    <tr style=\"text-align: right;\">\n",
       "      <th></th>\n",
       "      <th>review</th>\n",
       "      <th>review_length</th>\n",
       "      <th>label</th>\n",
       "    </tr>\n",
       "  </thead>\n",
       "  <tbody>\n",
       "    <tr>\n",
       "      <th>0</th>\n",
       "      <td>Stüdyo Burak (Eskişehir) Biyometrik Vesikalık ...</td>\n",
       "      <td>46</td>\n",
       "      <td>human</td>\n",
       "    </tr>\n",
       "    <tr>\n",
       "      <th>1</th>\n",
       "      <td>Ziraat Bankası Konut Kredisi Yapılandırma. Ağu...</td>\n",
       "      <td>46</td>\n",
       "      <td>human</td>\n",
       "    </tr>\n",
       "    <tr>\n",
       "      <th>2</th>\n",
       "      <td>Grundig Televizyon Aldığımdan Beri Arıza Veriy...</td>\n",
       "      <td>48</td>\n",
       "      <td>human</td>\n",
       "    </tr>\n",
       "    <tr>\n",
       "      <th>3</th>\n",
       "      <td>Sürat Kargo Teslim Edilemeyen Ürünler. 7790108...</td>\n",
       "      <td>42</td>\n",
       "      <td>human</td>\n",
       "    </tr>\n",
       "    <tr>\n",
       "      <th>4</th>\n",
       "      <td>Okan Üniversitesi Ödenen Paranın Geri Verilmes...</td>\n",
       "      <td>52</td>\n",
       "      <td>human</td>\n",
       "    </tr>\n",
       "  </tbody>\n",
       "</table>\n",
       "</div>"
      ],
      "text/plain": [
       "                                              review  review_length  label\n",
       "0  Stüdyo Burak (Eskişehir) Biyometrik Vesikalık ...             46  human\n",
       "1  Ziraat Bankası Konut Kredisi Yapılandırma. Ağu...             46  human\n",
       "2  Grundig Televizyon Aldığımdan Beri Arıza Veriy...             48  human\n",
       "3  Sürat Kargo Teslim Edilemeyen Ürünler. 7790108...             42  human\n",
       "4  Okan Üniversitesi Ödenen Paranın Geri Verilmes...             52  human"
      ]
     },
     "execution_count": 16,
     "metadata": {},
     "output_type": "execute_result"
    }
   ],
   "source": [
    "human_data.head()"
   ]
  },
  {
   "cell_type": "code",
   "execution_count": 19,
   "metadata": {},
   "outputs": [
    {
     "data": {
      "text/html": [
       "<div>\n",
       "<style scoped>\n",
       "    .dataframe tbody tr th:only-of-type {\n",
       "        vertical-align: middle;\n",
       "    }\n",
       "\n",
       "    .dataframe tbody tr th {\n",
       "        vertical-align: top;\n",
       "    }\n",
       "\n",
       "    .dataframe thead th {\n",
       "        text-align: right;\n",
       "    }\n",
       "</style>\n",
       "<table border=\"1\" class=\"dataframe\">\n",
       "  <thead>\n",
       "    <tr style=\"text-align: right;\">\n",
       "      <th></th>\n",
       "      <th>review</th>\n",
       "      <th>label</th>\n",
       "    </tr>\n",
       "  </thead>\n",
       "  <tbody>\n",
       "    <tr>\n",
       "      <th>392772</th>\n",
       "      <td>çap tıp fakültes yaşadık mağduriyet çap tıp fa...</td>\n",
       "      <td>human</td>\n",
       "    </tr>\n",
       "    <tr>\n",
       "      <th>392773</th>\n",
       "      <td>sarayha termal otel rezervasyo iptal yaklaşık ...</td>\n",
       "      <td>human</td>\n",
       "    </tr>\n",
       "    <tr>\n",
       "      <th>392774</th>\n",
       "      <td>defacto ia et haber yokdefacto internet sites ...</td>\n",
       "      <td>human</td>\n",
       "    </tr>\n",
       "    <tr>\n",
       "      <th>392775</th>\n",
       "      <td>karaç züccaci bio diamondu tencer takım taba s...</td>\n",
       "      <td>human</td>\n",
       "    </tr>\n",
       "    <tr>\n",
       "      <th>392776</th>\n",
       "      <td>foto burç müşteri saygısızlık konya zafer foto...</td>\n",
       "      <td>human</td>\n",
       "    </tr>\n",
       "  </tbody>\n",
       "</table>\n",
       "</div>"
      ],
      "text/plain": [
       "                                                   review  label\n",
       "392772  çap tıp fakültes yaşadık mağduriyet çap tıp fa...  human\n",
       "392773  sarayha termal otel rezervasyo iptal yaklaşık ...  human\n",
       "392774  defacto ia et haber yokdefacto internet sites ...  human\n",
       "392775  karaç züccaci bio diamondu tencer takım taba s...  human\n",
       "392776  foto burç müşteri saygısızlık konya zafer foto...  human"
      ]
     },
     "execution_count": 19,
     "metadata": {},
     "output_type": "execute_result"
    }
   ],
   "source": [
    "human = human_data.iloc[-len(ai_data):].copy()\n",
    "human['review'] = human['review'].apply(preprocess_text)\n",
    "human.drop('review_length', axis=1, inplace=True)\n",
    "human.head()"
   ]
  },
  {
   "cell_type": "code",
   "execution_count": 23,
   "metadata": {},
   "outputs": [],
   "source": [
    "combined_df = pd.concat([ai_data, human], ignore_index=True)\n",
    "combined_df.to_csv('reviews.csv', index=False)"
   ]
  },
  {
   "cell_type": "markdown",
   "metadata": {},
   "source": [
    "## Training Models"
   ]
  },
  {
   "cell_type": "code",
   "execution_count": 33,
   "metadata": {
    "scrolled": false
   },
   "outputs": [
    {
     "name": "stdout",
     "output_type": "stream",
     "text": [
      "1. Iteration -> LR Acc: 0.9906, LR F1: 0.9906, NB Acc: 0.9517, NB F1: 0.9516, SVM Acc: 0.9844, SVM F1: 0.9844\n",
      "2. Iteration -> LR Acc: 0.9856, LR F1: 0.9856, NB Acc: 0.9533, NB F1: 0.9532, SVM Acc: 0.9778, SVM F1: 0.9778\n",
      "3. Iteration -> LR Acc: 0.9878, LR F1: 0.9878, NB Acc: 0.9561, NB F1: 0.956, SVM Acc: 0.9794, SVM F1: 0.9794\n",
      "4. Iteration -> LR Acc: 0.9894, LR F1: 0.9894, NB Acc: 0.9444, NB F1: 0.9443, SVM Acc: 0.9856, SVM F1: 0.9856\n",
      "5. Iteration -> LR Acc: 0.9883, LR F1: 0.9883, NB Acc: 0.9556, NB F1: 0.9555, SVM Acc: 0.9889, SVM F1: 0.9889\n",
      "Logistic Regression - Average Accuracy: 0.9883\n",
      "Logistic Regression - Average F1 Score: 0.9883\n",
      "Naive Bayes - Average Accuracy: 0.9522\n",
      "Naive Bayes - Average F1 Score: 0.9521\n",
      "SVM - Average Accuracy: 0.9832\n",
      "SVM - Average F1 Score: 0.9832\n"
     ]
    }
   ],
   "source": [
    "# Initialize lists to store results\n",
    "all_accuracies = {'LR': [], 'NB': [], 'SVM': []}\n",
    "all_f1_scores = {'LR': [], 'NB': [], 'SVM': []}\n",
    "all_conf_matrices = {'LR': [], 'NB': [], 'SVM': []}\n",
    "\n",
    "# Loop to train and evaluate models\n",
    "for i in range(5):\n",
    "    # Augment AI data and sample human data\n",
    "    train_ai, test_ai = train_test_split(ai_data, test_size=0.3, random_state=i)\n",
    "    sampled_human_data = human_data.sample(n=len(ai_data), random_state=i)\n",
    "    \n",
    "    # Preprocess sampled human data\n",
    "    sampled_human_data['review'] = sampled_human_data['review'].apply(preprocess_text)\n",
    "    train_human_df, test_human_df = train_test_split(sampled_human_data, test_size=0.3, random_state=i)\n",
    "    \n",
    "    # Combine and shuffle datasets\n",
    "    combined_train_df = pd.concat([train_ai, train_human_df])\n",
    "    combined_test_df = pd.concat([test_ai, test_human_df])\n",
    "\n",
    "    # Encode labels\n",
    "    Encoder = LabelEncoder()\n",
    "    Train_Y = Encoder.fit_transform(combined_train_df['label'])\n",
    "    Test_Y = Encoder.transform(combined_test_df['label'])\n",
    "\n",
    "    # Vectorization\n",
    "    Tfidf_vect = TfidfVectorizer(max_features=5000)\n",
    "    Tfidf_vect.fit(pd.concat([ai_data['review'], human_data['review']]))  # Use full text data for fitting\n",
    "    Train_X_Tfidf = Tfidf_vect.transform(combined_train_df['review'])\n",
    "    Test_X_Tfidf = Tfidf_vect.transform(combined_test_df['review'])\n",
    "\n",
    "    # Logistic Regression\n",
    "    vectorizer = CountVectorizer(ngram_range=(1,3))\n",
    "    X_train = vectorizer.fit_transform(combined_train_df['review'])\n",
    "    X_test = vectorizer.transform(combined_test_df['review'])\n",
    "\n",
    "    log_reg = LogisticRegression()\n",
    "    log_reg.fit(X_train, Train_Y)\n",
    "\n",
    "    predictions_LR = log_reg.predict(X_test)\n",
    "    acc_lr = round(accuracy_score(predictions_LR, Test_Y), 4)\n",
    "    f1_lr = round(f1_score(Test_Y, predictions_LR, average='weighted'), 4)\n",
    "    all_accuracies['LR'].append(acc_lr)\n",
    "    all_f1_scores['LR'].append(f1_lr)\n",
    "    all_conf_matrices['LR'].append(confusion_matrix(Test_Y, predictions_LR))\n",
    "\n",
    "    # Naive Bayes\n",
    "    Naive = naive_bayes.MultinomialNB()\n",
    "    Naive.fit(Train_X_Tfidf, Train_Y)\n",
    "    predictions_NB = Naive.predict(Test_X_Tfidf)\n",
    "    acc_naive = round(accuracy_score(predictions_NB, Test_Y), 4)\n",
    "    f1_naive = round(f1_score(Test_Y, predictions_NB, average='weighted'), 4)\n",
    "    all_accuracies['NB'].append(acc_naive)\n",
    "    all_f1_scores['NB'].append(f1_naive)\n",
    "    all_conf_matrices['NB'].append(confusion_matrix(Test_Y, predictions_NB))\n",
    "\n",
    "    # SVM\n",
    "    SVM = svm.SVC(C=1.0, kernel='linear', degree=3, gamma='auto')\n",
    "    SVM.fit(Train_X_Tfidf, Train_Y)\n",
    "    predictions_SVM = SVM.predict(Test_X_Tfidf)\n",
    "    acc_svm = round(accuracy_score(predictions_SVM, Test_Y), 4)\n",
    "    f1_svm = round(f1_score(Test_Y, predictions_SVM, average='weighted'), 4)\n",
    "    all_accuracies['SVM'].append(acc_svm)\n",
    "    all_f1_scores['SVM'].append(f1_svm)\n",
    "    all_conf_matrices['SVM'].append(confusion_matrix(Test_Y, predictions_SVM))\n",
    "    print(f\"{i+1}. Iteration -> LR Acc: {acc_lr}, LR F1: {f1_lr}, NB Acc: {acc_naive}, NB F1: {f1_naive}, SVM Acc: {acc_svm}, SVM F1: {f1_svm}\")\n",
    "\n",
    "# Final results\n",
    "print(\"Logistic Regression - Average Accuracy:\", round(np.mean(all_accuracies['LR']), 4))\n",
    "print(\"Logistic Regression - Average F1 Score:\", round(np.mean(all_f1_scores['LR']), 4))\n",
    "print(\"Naive Bayes - Average Accuracy:\", round(np.mean(all_accuracies['NB']), 4))\n",
    "print(\"Naive Bayes - Average F1 Score:\", round(np.mean(all_f1_scores['NB']), 4))\n",
    "print(\"SVM - Average Accuracy:\", round(np.mean(all_accuracies['SVM']), 4))\n",
    "print(\"SVM - Average F1 Score:\", round(np.mean(all_f1_scores['SVM']), 4))"
   ]
  },
  {
   "cell_type": "code",
   "execution_count": 17,
   "metadata": {},
   "outputs": [
    {
     "data": {
      "image/png": "[encoded data removed]",
      "text/plain": [
       "<Figure size 1800x600 with 3 Axes>"
      ]
     },
     "metadata": {},
     "output_type": "display_data"
    }
   ],
   "source": [
    "import numpy as np\n",
    "import matplotlib.pyplot as plt\n",
    "import seaborn as sns\n",
    "\n",
    "# Define function to calculate the mean of confusion matrices\n",
    "def mean_confusion_matrix(conf_matrices):\n",
    "    sum_matrix = np.zeros_like(conf_matrices[0])\n",
    "    for matrix in conf_matrices:\n",
    "        sum_matrix += matrix\n",
    "    return sum_matrix / len(conf_matrices)\n",
    "\n",
    "# Calculate mean confusion matrices for each model\n",
    "mean_cm_LR = mean_confusion_matrix(all_conf_matrices['LR'])\n",
    "mean_cm_NB = mean_confusion_matrix(all_conf_matrices['NB'])\n",
    "mean_cm_SVM = mean_confusion_matrix(all_conf_matrices['SVM'])\n",
    "\n",
    "def plot_confusion_matrix(cm, title, ax):\n",
    "    sns.heatmap(cm, annot=True, fmt=\".2f\", cmap='Blues', cbar=False, ax=ax)\n",
    "    ax.set_title(title)\n",
    "    ax.set_xlabel('Predicted Labels')\n",
    "    ax.set_ylabel('True Labels')\n",
    "    ax.set_xticklabels(['AI', 'Human'])\n",
    "    ax.set_yticklabels(['AI', 'Human'])\n",
    "\n",
    "fig, axes = plt.subplots(1, 3, figsize=(18, 6))\n",
    "plot_confusion_matrix(mean_cm_LR, 'Logistic Regression', axes[0])\n",
    "plot_confusion_matrix(mean_cm_NB, 'Naive Bayes', axes[1])\n",
    "plot_confusion_matrix(mean_cm_SVM, 'SVM', axes[2])\n",
    "plt.tight_layout()\n",
    "plt.show()"
   ]
  },
  {
   "cell_type": "markdown",
   "metadata": {},
   "source": [
    "The model seem to work too good. Let's see the results with cross validation"
   ]
  },
  {
   "cell_type": "code",
   "execution_count": 21,
   "metadata": {},
   "outputs": [
    {
     "name": "stdout",
     "output_type": "stream",
     "text": [
      "Cross-Validation Average Accuracy: 0.9995459704880817\n",
      "Test Set Accuracy: 0.9559366754617414\n",
      "Classification Report on Test Set:\n",
      "               precision    recall  f1-score   support\n",
      "\n",
      "          ai       1.00      0.91      0.95      1900\n",
      "       human       0.92      1.00      0.96      1890\n",
      "\n",
      "    accuracy                           0.96      3790\n",
      "   macro avg       0.96      0.96      0.96      3790\n",
      "weighted avg       0.96      0.96      0.96      3790\n",
      "\n"
     ]
    },
    {
     "data": {
      "image/png": "[encoded data removed]",
      "text/plain": [
       "<Figure size 640x480 with 2 Axes>"
      ]
     },
     "metadata": {},
     "output_type": "display_data"
    }
   ],
   "source": [
    "# Split data into training and testing sets\n",
    "vectorizer = CountVectorizer(ngram_range=(1,3))\n",
    "X_train = vectorizer.fit_transform(combined_train_df['review'])\n",
    "X_test = vectorizer.transform(combined_test_df['review'])\n",
    "\n",
    "y_train = combined_train_df['label'].values\n",
    "y_test = combined_test_df['label'].values\n",
    "\n",
    "# Initialize KFold for the training set only\n",
    "kf = KFold(n_splits=5, shuffle=True, random_state=42)\n",
    "\n",
    "# Initialize the Logistic Regression model\n",
    "model = LogisticRegression(max_iter=1000)\n",
    "\n",
    "# Lists to store results for each fold\n",
    "accuracies = []\n",
    "class_reports = []\n",
    "conf_matrices = []\n",
    "\n",
    "# Perform cross-validation on the training data only\n",
    "for train_index, val_index in kf.split(X_train):\n",
    "    X_train_fold, X_val_fold = X_train[train_index], X_train[val_index]\n",
    "    y_train_fold, y_val_fold = y_train[train_index], y_train[val_index]\n",
    "\n",
    "    # Train the model on the fold\n",
    "    model.fit(X_train_fold, y_train_fold)\n",
    "    \n",
    "    # Make predictions on the validation fold\n",
    "    predictions = model.predict(X_val_fold)\n",
    "    \n",
    "    # Metrics calculation\n",
    "    accuracies.append(accuracy_score(y_val_fold, predictions))\n",
    "    class_reports.append(classification_report(y_val_fold, predictions, output_dict=True))\n",
    "    conf_matrices.append(confusion_matrix(y_val_fold, predictions))\n",
    "\n",
    "# Evaluate the final model on the test set\n",
    "final_predictions = model.predict(X_test)\n",
    "final_accuracy = accuracy_score(y_test, final_predictions)\n",
    "final_class_report = classification_report(y_test, final_predictions)\n",
    "final_conf_matrix = confusion_matrix(y_test, final_predictions)\n",
    "\n",
    "# Display results\n",
    "print(\"Cross-Validation Average Accuracy:\", np.mean(accuracies))\n",
    "print(\"Test Set Accuracy:\", final_accuracy)\n",
    "print(\"Classification Report on Test Set:\\n\", final_class_report)\n",
    "\n",
    "# Display confusion matrix for the test set\n",
    "sns.heatmap(final_conf_matrix, annot=True, fmt='d', cmap='Blues', xticklabels=['AI', 'Human'], yticklabels=['AI', 'Human'])\n",
    "plt.ylabel('Actual')\n",
    "plt.xlabel('Predicted')\n",
    "plt.title('Test Set Confusion Matrix')\n",
    "plt.show()"
   ]
  },
  {
   "cell_type": "code",
   "execution_count": null,
   "metadata": {},
   "outputs": [],
   "source": []
  }
 ],
 "metadata": {
  "kernelspec": {
   "display_name": "Python 3 (ipykernel)",
   "language": "python",
   "name": "python3"
  },
  "language_info": {
   "codemirror_mode": {
    "name": "ipython",
    "version": 3
   },
   "file_extension": ".py",
   "mimetype": "text/x-python",
   "name": "python",
   "nbconvert_exporter": "python",
   "pygments_lexer": "ipython3",
   "version": "3.9.1"
  }
 },
 "nbformat": 4,
 "nbformat_minor": 2
}
