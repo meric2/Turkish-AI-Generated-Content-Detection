{
 "cells": [
  {
   "cell_type": "markdown",
   "metadata": {},
   "source": [
    "# Human Dataset Pre-processing and Analyzing"
   ]
  },
  {
   "cell_type": "code",
   "execution_count": 1,
   "metadata": {},
   "outputs": [],
   "source": [
    "from datasets import load_dataset\n",
    "import pandas as pd\n",
    "import numpy as np\n",
    "import matplotlib.pyplot as plt\n",
    "import seaborn as sns"
   ]
  },
  {
   "cell_type": "code",
   "execution_count": 2,
   "metadata": {},
   "outputs": [],
   "source": [
    "human_data = load_dataset(\"umarigan/turkish_wikipedia_dataset_NER\")"
   ]
  },
  {
   "cell_type": "code",
   "execution_count": 3,
   "metadata": {},
   "outputs": [
    {
     "data": {
      "text/html": [
       "<div>\n",
       "<style scoped>\n",
       "    .dataframe tbody tr th:only-of-type {\n",
       "        vertical-align: middle;\n",
       "    }\n",
       "\n",
       "    .dataframe tbody tr th {\n",
       "        vertical-align: top;\n",
       "    }\n",
       "\n",
       "    .dataframe thead th {\n",
       "        text-align: right;\n",
       "    }\n",
       "</style>\n",
       "<table border=\"1\" class=\"dataframe\">\n",
       "  <thead>\n",
       "    <tr style=\"text-align: right;\">\n",
       "      <th></th>\n",
       "      <th>id</th>\n",
       "      <th>text</th>\n",
       "      <th>title</th>\n",
       "      <th>ner</th>\n",
       "      <th>cleaned_ners</th>\n",
       "      <th>cleaned_new</th>\n",
       "    </tr>\n",
       "  </thead>\n",
       "  <tbody>\n",
       "    <tr>\n",
       "      <th>0</th>\n",
       "      <td>16</td>\n",
       "      <td>Film şu anlamlara gelebilir: * Camlara yapıştı...</td>\n",
       "      <td>Film (anlam ayrımı)</td>\n",
       "      <td>[{'end': 188, 'entity': 'I-ORG', 'index': 38, ...</td>\n",
       "      <td>[Sam, Bec, To, Film, İngiltere]</td>\n",
       "      <td>[Sam, Bec, İngiltere, Film]</td>\n",
       "    </tr>\n",
       "    <tr>\n",
       "      <th>1</th>\n",
       "      <td>30</td>\n",
       "      <td>Bolşevik, çoğunluktan yana anlamına gelen Rusç...</td>\n",
       "      <td>Bolşevizm</td>\n",
       "      <td>[{'end': 85, 'entity': 'B-ORG', 'index': 17, '...</td>\n",
       "      <td>[Rusya, Sosyal, Demokrat, İşçi, Partisi, nin, ...</td>\n",
       "      <td>[İşçi, Ekim, Londra, Partisi, Brüksel, Birliği...</td>\n",
       "    </tr>\n",
       "    <tr>\n",
       "      <th>2</th>\n",
       "      <td>39</td>\n",
       "      <td>küçükresim|200px|Cinepaint ekran yakalama görü...</td>\n",
       "      <td>Cinepaint</td>\n",
       "      <td>[{'end': 55, 'entity': 'B-ORG', 'index': 15, '...</td>\n",
       "      <td>[Cin, Film, Gi, Cin]</td>\n",
       "      <td>[Film, Cin]</td>\n",
       "    </tr>\n",
       "    <tr>\n",
       "      <th>3</th>\n",
       "      <td>24</td>\n",
       "      <td>Linux (telaffuz: Lin-uks); Linux çekirdeğine d...</td>\n",
       "      <td>Linux</td>\n",
       "      <td>[{'end': 32, 'entity': 'B-ORG', 'index': 11, '...</td>\n",
       "      <td>[Uni, G, Genel, Kamu, Lisans, Linux, Vakfı, Li...</td>\n",
       "      <td>[Lin, bülten, Uni, Richard, Stal, Lisans, Gene...</td>\n",
       "    </tr>\n",
       "    <tr>\n",
       "      <th>4</th>\n",
       "      <td>10</td>\n",
       "      <td>Cengiz Han (doğum adıyla Temuçin, – 18 Ağustos...</td>\n",
       "      <td>Cengiz Han</td>\n",
       "      <td>[{'end': 6, 'entity': 'B-PER', 'index': 1, 'sc...</td>\n",
       "      <td>[Cengiz, Han, İmparatorluğu, Cengiz, Han, Orta...</td>\n",
       "      <td>[Nehri, Bulgar, Cengiz, Orta, Xia, Tarihi, İmp...</td>\n",
       "    </tr>\n",
       "  </tbody>\n",
       "</table>\n",
       "</div>"
      ],
      "text/plain": [
       "   id                                               text                title  \\\n",
       "0  16  Film şu anlamlara gelebilir: * Camlara yapıştı...  Film (anlam ayrımı)   \n",
       "1  30  Bolşevik, çoğunluktan yana anlamına gelen Rusç...            Bolşevizm   \n",
       "2  39  küçükresim|200px|Cinepaint ekran yakalama görü...            Cinepaint   \n",
       "3  24  Linux (telaffuz: Lin-uks); Linux çekirdeğine d...                Linux   \n",
       "4  10  Cengiz Han (doğum adıyla Temuçin, – 18 Ağustos...           Cengiz Han   \n",
       "\n",
       "                                                 ner  \\\n",
       "0  [{'end': 188, 'entity': 'I-ORG', 'index': 38, ...   \n",
       "1  [{'end': 85, 'entity': 'B-ORG', 'index': 17, '...   \n",
       "2  [{'end': 55, 'entity': 'B-ORG', 'index': 15, '...   \n",
       "3  [{'end': 32, 'entity': 'B-ORG', 'index': 11, '...   \n",
       "4  [{'end': 6, 'entity': 'B-PER', 'index': 1, 'sc...   \n",
       "\n",
       "                                        cleaned_ners  \\\n",
       "0                    [Sam, Bec, To, Film, İngiltere]   \n",
       "1  [Rusya, Sosyal, Demokrat, İşçi, Partisi, nin, ...   \n",
       "2                               [Cin, Film, Gi, Cin]   \n",
       "3  [Uni, G, Genel, Kamu, Lisans, Linux, Vakfı, Li...   \n",
       "4  [Cengiz, Han, İmparatorluğu, Cengiz, Han, Orta...   \n",
       "\n",
       "                                         cleaned_new  \n",
       "0                        [Sam, Bec, İngiltere, Film]  \n",
       "1  [İşçi, Ekim, Londra, Partisi, Brüksel, Birliği...  \n",
       "2                                        [Film, Cin]  \n",
       "3  [Lin, bülten, Uni, Richard, Stal, Lisans, Gene...  \n",
       "4  [Nehri, Bulgar, Cengiz, Orta, Xia, Tarihi, İmp...  "
      ]
     },
     "execution_count": 3,
     "metadata": {},
     "output_type": "execute_result"
    }
   ],
   "source": [
    "data = pd.DataFrame(human_data['train'])\n",
    "data.head()"
   ]
  },
  {
   "cell_type": "code",
   "execution_count": 4,
   "metadata": {},
   "outputs": [
    {
     "data": {
      "text/plain": [
       "Index(['id', 'text'], dtype='object')"
      ]
     },
     "execution_count": 4,
     "metadata": {},
     "output_type": "execute_result"
    }
   ],
   "source": [
    "# We do not need the NER tags nor the title, so we will drop them\n",
    "data = data.drop(columns=['title', 'ner', 'cleaned_ners', 'cleaned_new'])\n",
    "data.columns"
   ]
  },
  {
   "cell_type": "code",
   "execution_count": 5,
   "metadata": {},
   "outputs": [
    {
     "data": {
      "text/html": [
       "<div>\n",
       "<style scoped>\n",
       "    .dataframe tbody tr th:only-of-type {\n",
       "        vertical-align: middle;\n",
       "    }\n",
       "\n",
       "    .dataframe tbody tr th {\n",
       "        vertical-align: top;\n",
       "    }\n",
       "\n",
       "    .dataframe thead th {\n",
       "        text-align: right;\n",
       "    }\n",
       "</style>\n",
       "<table border=\"1\" class=\"dataframe\">\n",
       "  <thead>\n",
       "    <tr style=\"text-align: right;\">\n",
       "      <th></th>\n",
       "      <th>id</th>\n",
       "      <th>text</th>\n",
       "      <th>text_length</th>\n",
       "      <th>num_words</th>\n",
       "    </tr>\n",
       "  </thead>\n",
       "  <tbody>\n",
       "    <tr>\n",
       "      <th>0</th>\n",
       "      <td>16</td>\n",
       "      <td>Film şu anlamlara gelebilir: * Camlara yapıştı...</td>\n",
       "      <td>530</td>\n",
       "      <td>69</td>\n",
       "    </tr>\n",
       "    <tr>\n",
       "      <th>1</th>\n",
       "      <td>30</td>\n",
       "      <td>Bolşevik, çoğunluktan yana anlamına gelen Rusç...</td>\n",
       "      <td>8924</td>\n",
       "      <td>1096</td>\n",
       "    </tr>\n",
       "    <tr>\n",
       "      <th>2</th>\n",
       "      <td>39</td>\n",
       "      <td>küçükresim|200px|Cinepaint ekran yakalama görü...</td>\n",
       "      <td>253</td>\n",
       "      <td>33</td>\n",
       "    </tr>\n",
       "    <tr>\n",
       "      <th>3</th>\n",
       "      <td>24</td>\n",
       "      <td>Linux (telaffuz: Lin-uks); Linux çekirdeğine d...</td>\n",
       "      <td>17678</td>\n",
       "      <td>2243</td>\n",
       "    </tr>\n",
       "    <tr>\n",
       "      <th>4</th>\n",
       "      <td>10</td>\n",
       "      <td>Cengiz Han (doğum adıyla Temuçin, – 18 Ağustos...</td>\n",
       "      <td>105641</td>\n",
       "      <td>13853</td>\n",
       "    </tr>\n",
       "  </tbody>\n",
       "</table>\n",
       "</div>"
      ],
      "text/plain": [
       "   id                                               text  text_length  \\\n",
       "0  16  Film şu anlamlara gelebilir: * Camlara yapıştı...          530   \n",
       "1  30  Bolşevik, çoğunluktan yana anlamına gelen Rusç...         8924   \n",
       "2  39  küçükresim|200px|Cinepaint ekran yakalama görü...          253   \n",
       "3  24  Linux (telaffuz: Lin-uks); Linux çekirdeğine d...        17678   \n",
       "4  10  Cengiz Han (doğum adıyla Temuçin, – 18 Ağustos...       105641   \n",
       "\n",
       "   num_words  \n",
       "0         69  \n",
       "1       1096  \n",
       "2         33  \n",
       "3       2243  \n",
       "4      13853  "
      ]
     },
     "execution_count": 5,
     "metadata": {},
     "output_type": "execute_result"
    }
   ],
   "source": [
    "# We will now create new columns that will contain the number of characters and words in the text\n",
    "data['text_length'] = data['text'].apply(lambda x: len(x))\n",
    "data['num_words'] = data['text'].apply(lambda x: len(x.split()))\n",
    "data.head()"
   ]
  },
  {
   "cell_type": "code",
   "execution_count": 6,
   "metadata": {},
   "outputs": [
    {
     "data": {
      "text/plain": [
       "(265000, 4)"
      ]
     },
     "execution_count": 6,
     "metadata": {},
     "output_type": "execute_result"
    }
   ],
   "source": [
    "data.shape"
   ]
  },
  {
   "cell_type": "code",
   "execution_count": 7,
   "metadata": {},
   "outputs": [
    {
     "data": {
      "text/html": [
       "<div>\n",
       "<style scoped>\n",
       "    .dataframe tbody tr th:only-of-type {\n",
       "        vertical-align: middle;\n",
       "    }\n",
       "\n",
       "    .dataframe tbody tr th {\n",
       "        vertical-align: top;\n",
       "    }\n",
       "\n",
       "    .dataframe thead th {\n",
       "        text-align: right;\n",
       "    }\n",
       "</style>\n",
       "<table border=\"1\" class=\"dataframe\">\n",
       "  <thead>\n",
       "    <tr style=\"text-align: right;\">\n",
       "      <th></th>\n",
       "      <th>id</th>\n",
       "      <th>text_length</th>\n",
       "      <th>num_words</th>\n",
       "    </tr>\n",
       "  </thead>\n",
       "  <tbody>\n",
       "    <tr>\n",
       "      <th>count</th>\n",
       "      <td>2.650000e+05</td>\n",
       "      <td>265000.000000</td>\n",
       "      <td>265000.000000</td>\n",
       "    </tr>\n",
       "    <tr>\n",
       "      <th>mean</th>\n",
       "      <td>9.909467e+05</td>\n",
       "      <td>2444.496611</td>\n",
       "      <td>335.448955</td>\n",
       "    </tr>\n",
       "    <tr>\n",
       "      <th>std</th>\n",
       "      <td>7.190184e+05</td>\n",
       "      <td>5347.812227</td>\n",
       "      <td>732.749545</td>\n",
       "    </tr>\n",
       "    <tr>\n",
       "      <th>min</th>\n",
       "      <td>1.000000e+01</td>\n",
       "      <td>16.000000</td>\n",
       "      <td>2.000000</td>\n",
       "    </tr>\n",
       "    <tr>\n",
       "      <th>25%</th>\n",
       "      <td>2.801188e+05</td>\n",
       "      <td>486.000000</td>\n",
       "      <td>61.000000</td>\n",
       "    </tr>\n",
       "    <tr>\n",
       "      <th>50%</th>\n",
       "      <td>9.630830e+05</td>\n",
       "      <td>1053.000000</td>\n",
       "      <td>138.000000</td>\n",
       "    </tr>\n",
       "    <tr>\n",
       "      <th>75%</th>\n",
       "      <td>1.574292e+06</td>\n",
       "      <td>2343.000000</td>\n",
       "      <td>319.000000</td>\n",
       "    </tr>\n",
       "    <tr>\n",
       "      <th>max</th>\n",
       "      <td>2.161594e+06</td>\n",
       "      <td>429224.000000</td>\n",
       "      <td>62923.000000</td>\n",
       "    </tr>\n",
       "  </tbody>\n",
       "</table>\n",
       "</div>"
      ],
      "text/plain": [
       "                 id    text_length      num_words\n",
       "count  2.650000e+05  265000.000000  265000.000000\n",
       "mean   9.909467e+05    2444.496611     335.448955\n",
       "std    7.190184e+05    5347.812227     732.749545\n",
       "min    1.000000e+01      16.000000       2.000000\n",
       "25%    2.801188e+05     486.000000      61.000000\n",
       "50%    9.630830e+05    1053.000000     138.000000\n",
       "75%    1.574292e+06    2343.000000     319.000000\n",
       "max    2.161594e+06  429224.000000   62923.000000"
      ]
     },
     "execution_count": 7,
     "metadata": {},
     "output_type": "execute_result"
    }
   ],
   "source": [
    "data.describe()"
   ]
  },
  {
   "cell_type": "code",
   "execution_count": 8,
   "metadata": {},
   "outputs": [
    {
     "data": {
      "text/plain": [
       "id             0\n",
       "text           0\n",
       "text_length    0\n",
       "num_words      0\n",
       "dtype: int64"
      ]
     },
     "execution_count": 8,
     "metadata": {},
     "output_type": "execute_result"
    }
   ],
   "source": [
    "data.isnull().sum()"
   ]
  },
  {
   "cell_type": "code",
   "execution_count": 9,
   "metadata": {},
   "outputs": [
    {
     "data": {
      "text/plain": [
       "335.4489547169811"
      ]
     },
     "execution_count": 9,
     "metadata": {},
     "output_type": "execute_result"
    }
   ],
   "source": [
    "# Average number of words in the texts\n",
    "data['num_words'].mean()"
   ]
  },
  {
   "cell_type": "code",
   "execution_count": 10,
   "metadata": {},
   "outputs": [
    {
     "data": {
      "text/plain": [
       "(2, 62923)"
      ]
     },
     "execution_count": 10,
     "metadata": {},
     "output_type": "execute_result"
    }
   ],
   "source": [
    "# The minimum and maximum number of words in all texts\n",
    "data['num_words'].min(), data['num_words'].max()"
   ]
  },
  {
   "cell_type": "code",
   "execution_count": 11,
   "metadata": {},
   "outputs": [
    {
     "data": {
      "text/plain": [
       "2444.4966113207547"
      ]
     },
     "execution_count": 11,
     "metadata": {},
     "output_type": "execute_result"
    }
   ],
   "source": [
    "# Average number of characters in the texts\n",
    "data['text_length'].mean()"
   ]
  },
  {
   "cell_type": "code",
   "execution_count": 12,
   "metadata": {},
   "outputs": [
    {
     "data": {
      "text/plain": [
       "(16, 429224)"
      ]
     },
     "execution_count": 12,
     "metadata": {},
     "output_type": "execute_result"
    }
   ],
   "source": [
    "# The minimum and maximum number of characters in all texts\n",
    "data['text_length'].min(), data['text_length'].max()"
   ]
  },
  {
   "cell_type": "markdown",
   "metadata": {},
   "source": [
    "We need to check the data thoroughly before constructing the AI generated dataset so that the datasets are similar in some context."
   ]
  },
  {
   "cell_type": "markdown",
   "metadata": {},
   "source": [
    "## EDA"
   ]
  },
  {
   "cell_type": "code",
   "execution_count": 13,
   "metadata": {},
   "outputs": [
    {
     "data": {
      "image/png": "[encoded data removed]",
      "text/plain": [
       "<Figure size 720x432 with 1 Axes>"
      ]
     },
     "metadata": {
      "needs_background": "light"
     },
     "output_type": "display_data"
    }
   ],
   "source": [
    "# Text Length Distribution\n",
    "plt.figure(figsize=(10, 6))\n",
    "sns.histplot(data['text_length'], bins=50)\n",
    "plt.title('Distribution of Text Lengths')\n",
    "plt.xlabel('Text Length')\n",
    "plt.ylabel('Frequency')\n",
    "plt.show()"
   ]
  },
  {
   "cell_type": "code",
   "execution_count": 11,
   "metadata": {},
   "outputs": [
    {
     "data": {
      "image/png": "[encoded data removed]",
      "text/plain": [
       "<Figure size 720x432 with 1 Axes>"
      ]
     },
     "metadata": {
      "needs_background": "light"
     },
     "output_type": "display_data"
    }
   ],
   "source": [
    "# Number of Words Distribution\n",
    "plt.figure(figsize=(10, 6))\n",
    "sns.histplot(data['num_words'], bins=50)\n",
    "plt.title('Distribution of Number of Words')\n",
    "plt.xlabel('Number of Words')\n",
    "plt.ylabel('Frequency')\n",
    "plt.show()"
   ]
  },
  {
   "cell_type": "markdown",
   "metadata": {},
   "source": [
    "As it can be seen here most of the texts have less than 8000 words and 50000 characters. Rest of the data can be marked as corrupted and dropped. The reason for this is that some algorithms have a token limit which 50000 characters can be challenging enough. So it is the best to save computation time and efficiency. "
   ]
  },
  {
   "cell_type": "code",
   "execution_count": 16,
   "metadata": {},
   "outputs": [
    {
     "data": {
      "text/plain": [
       "(264278, 4)"
      ]
     },
     "execution_count": 16,
     "metadata": {},
     "output_type": "execute_result"
    }
   ],
   "source": [
    "# Drop rows with more than 8000 words\n",
    "data = data[data['num_words'] <= 8000]\n",
    "data.shape"
   ]
  },
  {
   "cell_type": "code",
   "execution_count": 17,
   "metadata": {},
   "outputs": [
    {
     "data": {
      "image/png": "[encoded data removed]",
      "text/plain": [
       "<Figure size 720x432 with 1 Axes>"
      ]
     },
     "metadata": {
      "needs_background": "light"
     },
     "output_type": "display_data"
    }
   ],
   "source": [
    "# Number of Words Distribution\n",
    "plt.figure(figsize=(10, 6))\n",
    "sns.histplot(data['num_words'], bins=50)\n",
    "plt.title('Distribution of Number of Words')\n",
    "plt.xlabel('Number of Words')\n",
    "plt.ylabel('Frequency')\n",
    "plt.show()"
   ]
  },
  {
   "cell_type": "code",
   "execution_count": 20,
   "metadata": {},
   "outputs": [
    {
     "data": {
      "image/png": "[encoded data removed]",
      "text/plain": [
       "<Figure size 720x432 with 1 Axes>"
      ]
     },
     "metadata": {
      "needs_background": "light"
     },
     "output_type": "display_data"
    }
   ],
   "source": [
    "# Text Length Distribution\n",
    "plt.figure(figsize=(10, 6))\n",
    "sns.histplot(data['text_length'], bins=50)\n",
    "plt.title('Distribution of Text Lengths')\n",
    "plt.xlabel('Text Length')\n",
    "plt.ylabel('Frequency')\n",
    "plt.show()"
   ]
  },
  {
   "cell_type": "code",
   "execution_count": 21,
   "metadata": {},
   "outputs": [
    {
     "data": {
      "text/plain": [
       "(264278, 4)"
      ]
     },
     "execution_count": 21,
     "metadata": {},
     "output_type": "execute_result"
    }
   ],
   "source": [
    "data.shape"
   ]
  },
  {
   "cell_type": "markdown",
   "metadata": {},
   "source": [
    "It can be said that there were not many extremely long texts anyways from the shape of the dataset"
   ]
  },
  {
   "cell_type": "code",
   "execution_count": 25,
   "metadata": {},
   "outputs": [
    {
     "data": {
      "image/png": "[encoded data removed]",
      "text/plain": [
       "<Figure size 360x360 with 6 Axes>"
      ]
     },
     "metadata": {
      "needs_background": "light"
     },
     "output_type": "display_data"
    }
   ],
   "source": [
    "# Pair Plot\n",
    "sns.pairplot(data[['text_length', 'num_words']])\n",
    "plt.suptitle('Pair Plot of Text Length and Number of Words', y=1.02)\n",
    "plt.show()"
   ]
  },
  {
   "cell_type": "code",
   "execution_count": null,
   "metadata": {},
   "outputs": [],
   "source": []
  }
 ],
 "metadata": {
  "kernelspec": {
   "display_name": "Python 3",
   "language": "python",
   "name": "python3"
  },
  "language_info": {
   "codemirror_mode": {
    "name": "ipython",
    "version": 3
   },
   "file_extension": ".py",
   "mimetype": "text/x-python",
   "name": "python",
   "nbconvert_exporter": "python",
   "pygments_lexer": "ipython3",
   "version": "3.9.1"
  }
 },
 "nbformat": 4,
 "nbformat_minor": 2
}
