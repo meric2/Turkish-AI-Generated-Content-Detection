{
 "cells": [
  {
   "cell_type": "markdown",
   "metadata": {},
   "source": [
    "# Human Dataset Pre-processing and Analyzing"
   ]
  },
  {
   "cell_type": "code",
   "execution_count": 1,
   "metadata": {},
   "outputs": [],
   "source": [
    "from datasets import load_dataset\n",
    "import pandas as pd\n",
    "import numpy as np\n",
    "import matplotlib.pyplot as plt\n",
    "import seaborn as sns\n",
    "import re\n",
    "\n",
    "from sklearn.model_selection import train_test_split\n",
    "from sklearn.feature_extraction.text import CountVectorizer\n",
    "from sklearn.linear_model import LogisticRegression\n",
    "from sklearn.metrics import accuracy_score, classification_report, confusion_matrix\n",
    "from sklearn.model_selection import KFold, cross_val_score"
   ]
  },
  {
   "cell_type": "code",
   "execution_count": 2,
   "metadata": {},
   "outputs": [],
   "source": [
    "human_data = load_dataset(\"umarigan/turkish_wikipedia_dataset_NER\")"
   ]
  },
  {
   "cell_type": "code",
   "execution_count": 3,
   "metadata": {},
   "outputs": [
    {
     "data": {
      "text/html": [
       "<div>\n",
       "<style scoped>\n",
       "    .dataframe tbody tr th:only-of-type {\n",
       "        vertical-align: middle;\n",
       "    }\n",
       "\n",
       "    .dataframe tbody tr th {\n",
       "        vertical-align: top;\n",
       "    }\n",
       "\n",
       "    .dataframe thead th {\n",
       "        text-align: right;\n",
       "    }\n",
       "</style>\n",
       "<table border=\"1\" class=\"dataframe\">\n",
       "  <thead>\n",
       "    <tr style=\"text-align: right;\">\n",
       "      <th></th>\n",
       "      <th>id</th>\n",
       "      <th>text</th>\n",
       "      <th>title</th>\n",
       "      <th>ner</th>\n",
       "      <th>cleaned_ners</th>\n",
       "      <th>cleaned_new</th>\n",
       "    </tr>\n",
       "  </thead>\n",
       "  <tbody>\n",
       "    <tr>\n",
       "      <th>0</th>\n",
       "      <td>16</td>\n",
       "      <td>Film şu anlamlara gelebilir: * Camlara yapıştı...</td>\n",
       "      <td>Film (anlam ayrımı)</td>\n",
       "      <td>[{'end': 188, 'entity': 'I-ORG', 'index': 38, ...</td>\n",
       "      <td>[Sam, Bec, To, Film, İngiltere]</td>\n",
       "      <td>[Sam, Bec, İngiltere, Film]</td>\n",
       "    </tr>\n",
       "    <tr>\n",
       "      <th>1</th>\n",
       "      <td>30</td>\n",
       "      <td>Bolşevik, çoğunluktan yana anlamına gelen Rusç...</td>\n",
       "      <td>Bolşevizm</td>\n",
       "      <td>[{'end': 85, 'entity': 'B-ORG', 'index': 17, '...</td>\n",
       "      <td>[Rusya, Sosyal, Demokrat, İşçi, Partisi, nin, ...</td>\n",
       "      <td>[İşçi, Ekim, Londra, Partisi, Brüksel, Birliği...</td>\n",
       "    </tr>\n",
       "    <tr>\n",
       "      <th>2</th>\n",
       "      <td>39</td>\n",
       "      <td>küçükresim|200px|Cinepaint ekran yakalama görü...</td>\n",
       "      <td>Cinepaint</td>\n",
       "      <td>[{'end': 55, 'entity': 'B-ORG', 'index': 15, '...</td>\n",
       "      <td>[Cin, Film, Gi, Cin]</td>\n",
       "      <td>[Film, Cin]</td>\n",
       "    </tr>\n",
       "    <tr>\n",
       "      <th>3</th>\n",
       "      <td>24</td>\n",
       "      <td>Linux (telaffuz: Lin-uks); Linux çekirdeğine d...</td>\n",
       "      <td>Linux</td>\n",
       "      <td>[{'end': 32, 'entity': 'B-ORG', 'index': 11, '...</td>\n",
       "      <td>[Uni, G, Genel, Kamu, Lisans, Linux, Vakfı, Li...</td>\n",
       "      <td>[Lin, bülten, Uni, Richard, Stal, Lisans, Gene...</td>\n",
       "    </tr>\n",
       "    <tr>\n",
       "      <th>4</th>\n",
       "      <td>10</td>\n",
       "      <td>Cengiz Han (doğum adıyla Temuçin, – 18 Ağustos...</td>\n",
       "      <td>Cengiz Han</td>\n",
       "      <td>[{'end': 6, 'entity': 'B-PER', 'index': 1, 'sc...</td>\n",
       "      <td>[Cengiz, Han, İmparatorluğu, Cengiz, Han, Orta...</td>\n",
       "      <td>[Nehri, Bulgar, Cengiz, Orta, Xia, Tarihi, İmp...</td>\n",
       "    </tr>\n",
       "  </tbody>\n",
       "</table>\n",
       "</div>"
      ],
      "text/plain": [
       "   id                                               text                title  \\\n",
       "0  16  Film şu anlamlara gelebilir: * Camlara yapıştı...  Film (anlam ayrımı)   \n",
       "1  30  Bolşevik, çoğunluktan yana anlamına gelen Rusç...            Bolşevizm   \n",
       "2  39  küçükresim|200px|Cinepaint ekran yakalama görü...            Cinepaint   \n",
       "3  24  Linux (telaffuz: Lin-uks); Linux çekirdeğine d...                Linux   \n",
       "4  10  Cengiz Han (doğum adıyla Temuçin, – 18 Ağustos...           Cengiz Han   \n",
       "\n",
       "                                                 ner  \\\n",
       "0  [{'end': 188, 'entity': 'I-ORG', 'index': 38, ...   \n",
       "1  [{'end': 85, 'entity': 'B-ORG', 'index': 17, '...   \n",
       "2  [{'end': 55, 'entity': 'B-ORG', 'index': 15, '...   \n",
       "3  [{'end': 32, 'entity': 'B-ORG', 'index': 11, '...   \n",
       "4  [{'end': 6, 'entity': 'B-PER', 'index': 1, 'sc...   \n",
       "\n",
       "                                        cleaned_ners  \\\n",
       "0                    [Sam, Bec, To, Film, İngiltere]   \n",
       "1  [Rusya, Sosyal, Demokrat, İşçi, Partisi, nin, ...   \n",
       "2                               [Cin, Film, Gi, Cin]   \n",
       "3  [Uni, G, Genel, Kamu, Lisans, Linux, Vakfı, Li...   \n",
       "4  [Cengiz, Han, İmparatorluğu, Cengiz, Han, Orta...   \n",
       "\n",
       "                                         cleaned_new  \n",
       "0                        [Sam, Bec, İngiltere, Film]  \n",
       "1  [İşçi, Ekim, Londra, Partisi, Brüksel, Birliği...  \n",
       "2                                        [Film, Cin]  \n",
       "3  [Lin, bülten, Uni, Richard, Stal, Lisans, Gene...  \n",
       "4  [Nehri, Bulgar, Cengiz, Orta, Xia, Tarihi, İmp...  "
      ]
     },
     "execution_count": 3,
     "metadata": {},
     "output_type": "execute_result"
    }
   ],
   "source": [
    "data = pd.DataFrame(human_data['train'])\n",
    "data.head()"
   ]
  },
  {
   "cell_type": "code",
   "execution_count": 4,
   "metadata": {},
   "outputs": [
    {
     "data": {
      "text/plain": [
       "Index(['id', 'text'], dtype='object')"
      ]
     },
     "execution_count": 4,
     "metadata": {},
     "output_type": "execute_result"
    }
   ],
   "source": [
    "# We do not need the NER tags nor the title, so we will drop them\n",
    "data = data.drop(columns=['title', 'ner', 'cleaned_ners', 'cleaned_new'])\n",
    "data.columns"
   ]
  },
  {
   "cell_type": "code",
   "execution_count": 5,
   "metadata": {},
   "outputs": [
    {
     "data": {
      "text/html": [
       "<div>\n",
       "<style scoped>\n",
       "    .dataframe tbody tr th:only-of-type {\n",
       "        vertical-align: middle;\n",
       "    }\n",
       "\n",
       "    .dataframe tbody tr th {\n",
       "        vertical-align: top;\n",
       "    }\n",
       "\n",
       "    .dataframe thead th {\n",
       "        text-align: right;\n",
       "    }\n",
       "</style>\n",
       "<table border=\"1\" class=\"dataframe\">\n",
       "  <thead>\n",
       "    <tr style=\"text-align: right;\">\n",
       "      <th></th>\n",
       "      <th>id</th>\n",
       "      <th>text</th>\n",
       "      <th>text_length</th>\n",
       "      <th>num_words</th>\n",
       "    </tr>\n",
       "  </thead>\n",
       "  <tbody>\n",
       "    <tr>\n",
       "      <th>0</th>\n",
       "      <td>16</td>\n",
       "      <td>Film şu anlamlara gelebilir: * Camlara yapıştı...</td>\n",
       "      <td>530</td>\n",
       "      <td>69</td>\n",
       "    </tr>\n",
       "    <tr>\n",
       "      <th>1</th>\n",
       "      <td>30</td>\n",
       "      <td>Bolşevik, çoğunluktan yana anlamına gelen Rusç...</td>\n",
       "      <td>8924</td>\n",
       "      <td>1096</td>\n",
       "    </tr>\n",
       "    <tr>\n",
       "      <th>2</th>\n",
       "      <td>39</td>\n",
       "      <td>küçükresim|200px|Cinepaint ekran yakalama görü...</td>\n",
       "      <td>253</td>\n",
       "      <td>33</td>\n",
       "    </tr>\n",
       "    <tr>\n",
       "      <th>3</th>\n",
       "      <td>24</td>\n",
       "      <td>Linux (telaffuz: Lin-uks); Linux çekirdeğine d...</td>\n",
       "      <td>17678</td>\n",
       "      <td>2243</td>\n",
       "    </tr>\n",
       "    <tr>\n",
       "      <th>4</th>\n",
       "      <td>10</td>\n",
       "      <td>Cengiz Han (doğum adıyla Temuçin, – 18 Ağustos...</td>\n",
       "      <td>105641</td>\n",
       "      <td>13853</td>\n",
       "    </tr>\n",
       "  </tbody>\n",
       "</table>\n",
       "</div>"
      ],
      "text/plain": [
       "   id                                               text  text_length  \\\n",
       "0  16  Film şu anlamlara gelebilir: * Camlara yapıştı...          530   \n",
       "1  30  Bolşevik, çoğunluktan yana anlamına gelen Rusç...         8924   \n",
       "2  39  küçükresim|200px|Cinepaint ekran yakalama görü...          253   \n",
       "3  24  Linux (telaffuz: Lin-uks); Linux çekirdeğine d...        17678   \n",
       "4  10  Cengiz Han (doğum adıyla Temuçin, – 18 Ağustos...       105641   \n",
       "\n",
       "   num_words  \n",
       "0         69  \n",
       "1       1096  \n",
       "2         33  \n",
       "3       2243  \n",
       "4      13853  "
      ]
     },
     "execution_count": 5,
     "metadata": {},
     "output_type": "execute_result"
    }
   ],
   "source": [
    "# We will now create new columns that will contain the number of characters and words in the text\n",
    "data['text_length'] = data['text'].apply(lambda x: len(x))\n",
    "data['num_words'] = data['text'].apply(lambda x: len(x.split()))\n",
    "data.head()"
   ]
  },
  {
   "cell_type": "code",
   "execution_count": 6,
   "metadata": {},
   "outputs": [
    {
     "data": {
      "text/plain": [
       "(265000, 4)"
      ]
     },
     "execution_count": 6,
     "metadata": {},
     "output_type": "execute_result"
    }
   ],
   "source": [
    "data.shape"
   ]
  },
  {
   "cell_type": "code",
   "execution_count": 7,
   "metadata": {},
   "outputs": [
    {
     "data": {
      "text/html": [
       "<div>\n",
       "<style scoped>\n",
       "    .dataframe tbody tr th:only-of-type {\n",
       "        vertical-align: middle;\n",
       "    }\n",
       "\n",
       "    .dataframe tbody tr th {\n",
       "        vertical-align: top;\n",
       "    }\n",
       "\n",
       "    .dataframe thead th {\n",
       "        text-align: right;\n",
       "    }\n",
       "</style>\n",
       "<table border=\"1\" class=\"dataframe\">\n",
       "  <thead>\n",
       "    <tr style=\"text-align: right;\">\n",
       "      <th></th>\n",
       "      <th>id</th>\n",
       "      <th>text_length</th>\n",
       "      <th>num_words</th>\n",
       "    </tr>\n",
       "  </thead>\n",
       "  <tbody>\n",
       "    <tr>\n",
       "      <th>count</th>\n",
       "      <td>2.650000e+05</td>\n",
       "      <td>265000.000000</td>\n",
       "      <td>265000.000000</td>\n",
       "    </tr>\n",
       "    <tr>\n",
       "      <th>mean</th>\n",
       "      <td>9.909467e+05</td>\n",
       "      <td>2444.496611</td>\n",
       "      <td>335.448955</td>\n",
       "    </tr>\n",
       "    <tr>\n",
       "      <th>std</th>\n",
       "      <td>7.190184e+05</td>\n",
       "      <td>5347.812227</td>\n",
       "      <td>732.749545</td>\n",
       "    </tr>\n",
       "    <tr>\n",
       "      <th>min</th>\n",
       "      <td>1.000000e+01</td>\n",
       "      <td>16.000000</td>\n",
       "      <td>2.000000</td>\n",
       "    </tr>\n",
       "    <tr>\n",
       "      <th>25%</th>\n",
       "      <td>2.801188e+05</td>\n",
       "      <td>486.000000</td>\n",
       "      <td>61.000000</td>\n",
       "    </tr>\n",
       "    <tr>\n",
       "      <th>50%</th>\n",
       "      <td>9.630830e+05</td>\n",
       "      <td>1053.000000</td>\n",
       "      <td>138.000000</td>\n",
       "    </tr>\n",
       "    <tr>\n",
       "      <th>75%</th>\n",
       "      <td>1.574292e+06</td>\n",
       "      <td>2343.000000</td>\n",
       "      <td>319.000000</td>\n",
       "    </tr>\n",
       "    <tr>\n",
       "      <th>max</th>\n",
       "      <td>2.161594e+06</td>\n",
       "      <td>429224.000000</td>\n",
       "      <td>62923.000000</td>\n",
       "    </tr>\n",
       "  </tbody>\n",
       "</table>\n",
       "</div>"
      ],
      "text/plain": [
       "                 id    text_length      num_words\n",
       "count  2.650000e+05  265000.000000  265000.000000\n",
       "mean   9.909467e+05    2444.496611     335.448955\n",
       "std    7.190184e+05    5347.812227     732.749545\n",
       "min    1.000000e+01      16.000000       2.000000\n",
       "25%    2.801188e+05     486.000000      61.000000\n",
       "50%    9.630830e+05    1053.000000     138.000000\n",
       "75%    1.574292e+06    2343.000000     319.000000\n",
       "max    2.161594e+06  429224.000000   62923.000000"
      ]
     },
     "execution_count": 7,
     "metadata": {},
     "output_type": "execute_result"
    }
   ],
   "source": [
    "data.describe()"
   ]
  },
  {
   "cell_type": "code",
   "execution_count": 8,
   "metadata": {},
   "outputs": [
    {
     "data": {
      "text/plain": [
       "id             0\n",
       "text           0\n",
       "text_length    0\n",
       "num_words      0\n",
       "dtype: int64"
      ]
     },
     "execution_count": 8,
     "metadata": {},
     "output_type": "execute_result"
    }
   ],
   "source": [
    "data.isnull().sum()"
   ]
  },
  {
   "cell_type": "code",
   "execution_count": 9,
   "metadata": {},
   "outputs": [
    {
     "data": {
      "text/plain": [
       "335.4489547169811"
      ]
     },
     "execution_count": 9,
     "metadata": {},
     "output_type": "execute_result"
    }
   ],
   "source": [
    "# Average number of words in the texts\n",
    "data['num_words'].mean()"
   ]
  },
  {
   "cell_type": "code",
   "execution_count": 10,
   "metadata": {},
   "outputs": [
    {
     "data": {
      "text/plain": [
       "(2, 62923)"
      ]
     },
     "execution_count": 10,
     "metadata": {},
     "output_type": "execute_result"
    }
   ],
   "source": [
    "# The minimum and maximum number of words in all texts\n",
    "data['num_words'].min(), data['num_words'].max()"
   ]
  },
  {
   "cell_type": "code",
   "execution_count": 11,
   "metadata": {},
   "outputs": [
    {
     "data": {
      "text/plain": [
       "2444.4966113207547"
      ]
     },
     "execution_count": 11,
     "metadata": {},
     "output_type": "execute_result"
    }
   ],
   "source": [
    "# Average number of characters in the texts\n",
    "data['text_length'].mean()"
   ]
  },
  {
   "cell_type": "code",
   "execution_count": 12,
   "metadata": {},
   "outputs": [
    {
     "data": {
      "text/plain": [
       "(16, 429224)"
      ]
     },
     "execution_count": 12,
     "metadata": {},
     "output_type": "execute_result"
    }
   ],
   "source": [
    "# The minimum and maximum number of characters in all texts\n",
    "data['text_length'].min(), data['text_length'].max()"
   ]
  },
  {
   "cell_type": "markdown",
   "metadata": {},
   "source": [
    "We need to check the data thoroughly before constructing the AI generated dataset so that the datasets are similar in some context."
   ]
  },
  {
   "cell_type": "markdown",
   "metadata": {},
   "source": [
    "## EDA"
   ]
  },
  {
   "cell_type": "code",
   "execution_count": 13,
   "metadata": {},
   "outputs": [
    {
     "data": {
      "image/png": "[encoded data removed]",
      "text/plain": [
       "<Figure size 720x432 with 1 Axes>"
      ]
     },
     "metadata": {
      "needs_background": "light"
     },
     "output_type": "display_data"
    }
   ],
   "source": [
    "# Text Length Distribution\n",
    "plt.figure(figsize=(10, 6))\n",
    "sns.histplot(data['text_length'], bins=50)\n",
    "plt.title('Distribution of Text Lengths')\n",
    "plt.xlabel('Text Length')\n",
    "plt.ylabel('Frequency')\n",
    "plt.show()"
   ]
  },
  {
   "cell_type": "code",
   "execution_count": 14,
   "metadata": {},
   "outputs": [
    {
     "data": {
      "image/png": "[encoded data removed]",
      "text/plain": [
       "<Figure size 720x432 with 1 Axes>"
      ]
     },
     "metadata": {
      "needs_background": "light"
     },
     "output_type": "display_data"
    }
   ],
   "source": [
    "# Number of Words Distribution\n",
    "plt.figure(figsize=(10, 6))\n",
    "sns.histplot(data['num_words'], bins=50)\n",
    "plt.title('Distribution of Number of Words')\n",
    "plt.xlabel('Number of Words')\n",
    "plt.ylabel('Frequency')\n",
    "plt.show()"
   ]
  },
  {
   "cell_type": "markdown",
   "metadata": {},
   "source": [
    "As it can be seen here most of the texts have less than 4000 words and 50000 characters. Rest of the data can be marked as corrupted and dropped. The reason for this is that some algorithms have a token limit which 50000 characters can be challenging enough. So it is the best to save computation time and efficiency. "
   ]
  },
  {
   "cell_type": "code",
   "execution_count": 15,
   "metadata": {},
   "outputs": [
    {
     "data": {
      "text/plain": [
       "(263245, 4)"
      ]
     },
     "execution_count": 15,
     "metadata": {},
     "output_type": "execute_result"
    }
   ],
   "source": [
    "# Drop rows with more than 4000 words\n",
    "data = data[data['num_words'] <= 4000]\n",
    "data.shape"
   ]
  },
  {
   "cell_type": "code",
   "execution_count": 16,
   "metadata": {},
   "outputs": [
    {
     "data": {
      "image/png": "[encoded data removed]",
      "text/plain": [
       "<Figure size 720x432 with 1 Axes>"
      ]
     },
     "metadata": {
      "needs_background": "light"
     },
     "output_type": "display_data"
    }
   ],
   "source": [
    "# Number of Words Distribution\n",
    "plt.figure(figsize=(10, 6))\n",
    "sns.histplot(data['num_words'], bins=50)\n",
    "plt.title('Distribution of Number of Words')\n",
    "plt.xlabel('Number of Words')\n",
    "plt.ylabel('Frequency')\n",
    "plt.show()"
   ]
  },
  {
   "cell_type": "code",
   "execution_count": 17,
   "metadata": {},
   "outputs": [
    {
     "data": {
      "image/png": "[encoded data removed]",
      "text/plain": [
       "<Figure size 720x432 with 1 Axes>"
      ]
     },
     "metadata": {
      "needs_background": "light"
     },
     "output_type": "display_data"
    }
   ],
   "source": [
    "# Text Length Distribution\n",
    "plt.figure(figsize=(10, 6))\n",
    "sns.histplot(data['text_length'], bins=50)\n",
    "plt.title('Distribution of Text Lengths')\n",
    "plt.xlabel('Text Length')\n",
    "plt.ylabel('Frequency')\n",
    "plt.show()"
   ]
  },
  {
   "cell_type": "code",
   "execution_count": 18,
   "metadata": {},
   "outputs": [
    {
     "data": {
      "text/plain": [
       "(263245, 4)"
      ]
     },
     "execution_count": 18,
     "metadata": {},
     "output_type": "execute_result"
    }
   ],
   "source": [
    "data.shape"
   ]
  },
  {
   "cell_type": "code",
   "execution_count": 19,
   "metadata": {},
   "outputs": [
    {
     "data": {
      "text/plain": [
       "294.02148188949457"
      ]
     },
     "execution_count": 19,
     "metadata": {},
     "output_type": "execute_result"
    }
   ],
   "source": [
    "data['num_words'].mean()"
   ]
  },
  {
   "cell_type": "code",
   "execution_count": 20,
   "metadata": {},
   "outputs": [
    {
     "data": {
      "text/plain": [
       "2140.923945374081"
      ]
     },
     "execution_count": 20,
     "metadata": {},
     "output_type": "execute_result"
    }
   ],
   "source": [
    "data['text_length'].mean()"
   ]
  },
  {
   "cell_type": "markdown",
   "metadata": {},
   "source": [
    "It can be said that there were not many extremely long texts anyways from the shape of the dataset"
   ]
  },
  {
   "cell_type": "code",
   "execution_count": 21,
   "metadata": {},
   "outputs": [
    {
     "data": {
      "image/png": "[encoded data removed]",
      "text/plain": [
       "<Figure size 360x360 with 6 Axes>"
      ]
     },
     "metadata": {
      "needs_background": "light"
     },
     "output_type": "display_data"
    }
   ],
   "source": [
    "# Pair Plot\n",
    "sns.pairplot(data[['text_length', 'num_words']])\n",
    "plt.suptitle('Pair Plot of Text Length and Number of Words', y=1.02)\n",
    "plt.show()"
   ]
  },
  {
   "cell_type": "markdown",
   "metadata": {},
   "source": [
    "## AI Data"
   ]
  },
  {
   "cell_type": "code",
   "execution_count": 22,
   "metadata": {},
   "outputs": [
    {
     "data": {
      "text/html": [
       "<div>\n",
       "<style scoped>\n",
       "    .dataframe tbody tr th:only-of-type {\n",
       "        vertical-align: middle;\n",
       "    }\n",
       "\n",
       "    .dataframe tbody tr th {\n",
       "        vertical-align: top;\n",
       "    }\n",
       "\n",
       "    .dataframe thead th {\n",
       "        text-align: right;\n",
       "    }\n",
       "</style>\n",
       "<table border=\"1\" class=\"dataframe\">\n",
       "  <thead>\n",
       "    <tr style=\"text-align: right;\">\n",
       "      <th></th>\n",
       "      <th>output</th>\n",
       "    </tr>\n",
       "  </thead>\n",
       "  <tbody>\n",
       "    <tr>\n",
       "      <th>0</th>\n",
       "      <td>Veri gizliliği , günümüzde hem bireylerin hem ...</td>\n",
       "    </tr>\n",
       "    <tr>\n",
       "      <th>1</th>\n",
       "      <td>Veri gizliliği , günümüzde hem bireylerin hem ...</td>\n",
       "    </tr>\n",
       "    <tr>\n",
       "      <th>2</th>\n",
       "      <td>Veri gizliliği , günümüzde hem bireylerin hem ...</td>\n",
       "    </tr>\n",
       "    <tr>\n",
       "      <th>3</th>\n",
       "      <td>Veri gizliliği , hem bireylerin hem de kurumla...</td>\n",
       "    </tr>\n",
       "    <tr>\n",
       "      <th>4</th>\n",
       "      <td>Veri gizliliği , günümüzde hem bireylerin hem ...</td>\n",
       "    </tr>\n",
       "  </tbody>\n",
       "</table>\n",
       "</div>"
      ],
      "text/plain": [
       "                                              output\n",
       "0  Veri gizliliği , günümüzde hem bireylerin hem ...\n",
       "1  Veri gizliliği , günümüzde hem bireylerin hem ...\n",
       "2  Veri gizliliği , günümüzde hem bireylerin hem ...\n",
       "3  Veri gizliliği , hem bireylerin hem de kurumla...\n",
       "4  Veri gizliliği , günümüzde hem bireylerin hem ..."
      ]
     },
     "execution_count": 22,
     "metadata": {},
     "output_type": "execute_result"
    }
   ],
   "source": [
    "ai_data = pd.read_csv('augmented_data.csv')\n",
    "ai_data.head()"
   ]
  },
  {
   "cell_type": "code",
   "execution_count": 23,
   "metadata": {},
   "outputs": [],
   "source": [
    "# Function to remove specific characters that LLM produces when copied\n",
    "def remove_characters(text):\n",
    "    return re.sub(r'[#*]', '', text)\n",
    "\n",
    "ai_data['output'] = ai_data['output'].apply(remove_characters)"
   ]
  },
  {
   "cell_type": "code",
   "execution_count": 24,
   "metadata": {},
   "outputs": [
    {
     "data": {
      "text/html": [
       "<div>\n",
       "<style scoped>\n",
       "    .dataframe tbody tr th:only-of-type {\n",
       "        vertical-align: middle;\n",
       "    }\n",
       "\n",
       "    .dataframe tbody tr th {\n",
       "        vertical-align: top;\n",
       "    }\n",
       "\n",
       "    .dataframe thead th {\n",
       "        text-align: right;\n",
       "    }\n",
       "</style>\n",
       "<table border=\"1\" class=\"dataframe\">\n",
       "  <thead>\n",
       "    <tr style=\"text-align: right;\">\n",
       "      <th></th>\n",
       "      <th>text</th>\n",
       "      <th>text_length</th>\n",
       "      <th>num_words</th>\n",
       "    </tr>\n",
       "  </thead>\n",
       "  <tbody>\n",
       "    <tr>\n",
       "      <th>0</th>\n",
       "      <td>Veri gizliliği , günümüzde hem bireylerin hem ...</td>\n",
       "      <td>2718</td>\n",
       "      <td>371</td>\n",
       "    </tr>\n",
       "    <tr>\n",
       "      <th>1</th>\n",
       "      <td>Veri gizliliği , günümüzde hem bireylerin hem ...</td>\n",
       "      <td>2746</td>\n",
       "      <td>374</td>\n",
       "    </tr>\n",
       "    <tr>\n",
       "      <th>2</th>\n",
       "      <td>Veri gizliliği , günümüzde hem bireylerin hem ...</td>\n",
       "      <td>2718</td>\n",
       "      <td>371</td>\n",
       "    </tr>\n",
       "    <tr>\n",
       "      <th>3</th>\n",
       "      <td>Veri gizliliği , hem bireylerin hem de kurumla...</td>\n",
       "      <td>2444</td>\n",
       "      <td>337</td>\n",
       "    </tr>\n",
       "    <tr>\n",
       "      <th>4</th>\n",
       "      <td>Veri gizliliği , günümüzde hem bireylerin hem ...</td>\n",
       "      <td>2718</td>\n",
       "      <td>371</td>\n",
       "    </tr>\n",
       "  </tbody>\n",
       "</table>\n",
       "</div>"
      ],
      "text/plain": [
       "                                                text  text_length  num_words\n",
       "0  Veri gizliliği , günümüzde hem bireylerin hem ...         2718        371\n",
       "1  Veri gizliliği , günümüzde hem bireylerin hem ...         2746        374\n",
       "2  Veri gizliliği , günümüzde hem bireylerin hem ...         2718        371\n",
       "3  Veri gizliliği , hem bireylerin hem de kurumla...         2444        337\n",
       "4  Veri gizliliği , günümüzde hem bireylerin hem ...         2718        371"
      ]
     },
     "execution_count": 24,
     "metadata": {},
     "output_type": "execute_result"
    }
   ],
   "source": [
    "# We will now create new columns that will contain the number of characters and words in the text\n",
    "ai_data.rename(columns={'output': 'text'}, inplace=True)\n",
    "ai_data['text_length'] = ai_data['text'].apply(lambda x: len(x))\n",
    "ai_data['num_words'] = ai_data['text'].apply(lambda x: len(x.split()))\n",
    "ai_data.head()"
   ]
  },
  {
   "cell_type": "code",
   "execution_count": 25,
   "metadata": {},
   "outputs": [
    {
     "data": {
      "text/plain": [
       "(7460, 3)"
      ]
     },
     "execution_count": 25,
     "metadata": {},
     "output_type": "execute_result"
    }
   ],
   "source": [
    "ai_data.shape"
   ]
  },
  {
   "cell_type": "code",
   "execution_count": 26,
   "metadata": {},
   "outputs": [
    {
     "data": {
      "text/html": [
       "<div>\n",
       "<style scoped>\n",
       "    .dataframe tbody tr th:only-of-type {\n",
       "        vertical-align: middle;\n",
       "    }\n",
       "\n",
       "    .dataframe tbody tr th {\n",
       "        vertical-align: top;\n",
       "    }\n",
       "\n",
       "    .dataframe thead th {\n",
       "        text-align: right;\n",
       "    }\n",
       "</style>\n",
       "<table border=\"1\" class=\"dataframe\">\n",
       "  <thead>\n",
       "    <tr style=\"text-align: right;\">\n",
       "      <th></th>\n",
       "      <th>text_length</th>\n",
       "      <th>num_words</th>\n",
       "    </tr>\n",
       "  </thead>\n",
       "  <tbody>\n",
       "    <tr>\n",
       "      <th>count</th>\n",
       "      <td>7460.000000</td>\n",
       "      <td>7460.000000</td>\n",
       "    </tr>\n",
       "    <tr>\n",
       "      <th>mean</th>\n",
       "      <td>2048.068633</td>\n",
       "      <td>306.306836</td>\n",
       "    </tr>\n",
       "    <tr>\n",
       "      <th>std</th>\n",
       "      <td>723.956386</td>\n",
       "      <td>107.822278</td>\n",
       "    </tr>\n",
       "    <tr>\n",
       "      <th>min</th>\n",
       "      <td>109.000000</td>\n",
       "      <td>20.000000</td>\n",
       "    </tr>\n",
       "    <tr>\n",
       "      <th>25%</th>\n",
       "      <td>1576.750000</td>\n",
       "      <td>238.000000</td>\n",
       "    </tr>\n",
       "    <tr>\n",
       "      <th>50%</th>\n",
       "      <td>2068.000000</td>\n",
       "      <td>306.000000</td>\n",
       "    </tr>\n",
       "    <tr>\n",
       "      <th>75%</th>\n",
       "      <td>2509.000000</td>\n",
       "      <td>368.000000</td>\n",
       "    </tr>\n",
       "    <tr>\n",
       "      <th>max</th>\n",
       "      <td>4114.000000</td>\n",
       "      <td>671.000000</td>\n",
       "    </tr>\n",
       "  </tbody>\n",
       "</table>\n",
       "</div>"
      ],
      "text/plain": [
       "       text_length    num_words\n",
       "count  7460.000000  7460.000000\n",
       "mean   2048.068633   306.306836\n",
       "std     723.956386   107.822278\n",
       "min     109.000000    20.000000\n",
       "25%    1576.750000   238.000000\n",
       "50%    2068.000000   306.000000\n",
       "75%    2509.000000   368.000000\n",
       "max    4114.000000   671.000000"
      ]
     },
     "execution_count": 26,
     "metadata": {},
     "output_type": "execute_result"
    }
   ],
   "source": [
    "ai_data.describe()"
   ]
  },
  {
   "cell_type": "code",
   "execution_count": 27,
   "metadata": {},
   "outputs": [
    {
     "data": {
      "text/plain": [
       "text           0\n",
       "text_length    0\n",
       "num_words      0\n",
       "dtype: int64"
      ]
     },
     "execution_count": 27,
     "metadata": {},
     "output_type": "execute_result"
    }
   ],
   "source": [
    "ai_data.isnull().sum()"
   ]
  },
  {
   "cell_type": "code",
   "execution_count": 28,
   "metadata": {},
   "outputs": [
    {
     "data": {
      "text/plain": [
       "306.306836461126"
      ]
     },
     "execution_count": 28,
     "metadata": {},
     "output_type": "execute_result"
    }
   ],
   "source": [
    "# Average number of words in the texts\n",
    "ai_data['num_words'].mean()"
   ]
  },
  {
   "cell_type": "code",
   "execution_count": 29,
   "metadata": {},
   "outputs": [
    {
     "data": {
      "text/plain": [
       "(20, 4000)"
      ]
     },
     "execution_count": 29,
     "metadata": {},
     "output_type": "execute_result"
    }
   ],
   "source": [
    "# The minimum and maximum number of words in all texts\n",
    "ai_data['num_words'].min(), data['num_words'].max()"
   ]
  },
  {
   "cell_type": "code",
   "execution_count": 30,
   "metadata": {},
   "outputs": [
    {
     "data": {
      "text/plain": [
       "2048.0686327077747"
      ]
     },
     "execution_count": 30,
     "metadata": {},
     "output_type": "execute_result"
    }
   ],
   "source": [
    "# Average number of words in the texts\n",
    "ai_data['text_length'].mean()"
   ]
  },
  {
   "cell_type": "code",
   "execution_count": 31,
   "metadata": {},
   "outputs": [
    {
     "data": {
      "text/plain": [
       "(109, 4114)"
      ]
     },
     "execution_count": 31,
     "metadata": {},
     "output_type": "execute_result"
    }
   ],
   "source": [
    "# The minimum and maximum number of words in all texts\n",
    "ai_data['text_length'].min(), ai_data['text_length'].max()"
   ]
  },
  {
   "cell_type": "code",
   "execution_count": 32,
   "metadata": {},
   "outputs": [
    {
     "data": {
      "image/png": "[encoded data removed]",
      "text/plain": [
       "<Figure size 720x432 with 1 Axes>"
      ]
     },
     "metadata": {
      "needs_background": "light"
     },
     "output_type": "display_data"
    }
   ],
   "source": [
    "# Text Length Distribution\n",
    "plt.figure(figsize=(10, 6))\n",
    "sns.histplot(ai_data['num_words'], bins=50)\n",
    "plt.title('Distribution of Number of Words')\n",
    "plt.xlabel('Number of Words')\n",
    "plt.ylabel('Frequency')\n",
    "plt.show()"
   ]
  },
  {
   "cell_type": "code",
   "execution_count": 33,
   "metadata": {},
   "outputs": [
    {
     "data": {
      "image/png": "[encoded data removed]",
      "text/plain": [
       "<Figure size 720x432 with 1 Axes>"
      ]
     },
     "metadata": {
      "needs_background": "light"
     },
     "output_type": "display_data"
    }
   ],
   "source": [
    "# Text Length Distribution\n",
    "plt.figure(figsize=(10, 6))\n",
    "sns.histplot(ai_data['text_length'], bins=50)\n",
    "plt.title('Distribution of Text Lengths')\n",
    "plt.xlabel('Text Length')\n",
    "plt.ylabel('Frequency')\n",
    "plt.show()"
   ]
  },
  {
   "cell_type": "markdown",
   "metadata": {},
   "source": [
    "The mean of human and ai datasets is close enough even though the distributions of length are completely dissimilar. Now let's try some baseline models to check if the mean is liable as a similarity metric."
   ]
  },
  {
   "cell_type": "markdown",
   "metadata": {},
   "source": [
    "## Training Baseline Models"
   ]
  },
  {
   "cell_type": "code",
   "execution_count": 35,
   "metadata": {},
   "outputs": [
    {
     "name": "stderr",
     "output_type": "stream",
     "text": [
      "[nltk_data] Downloading package punkt to\n",
      "[nltk_data]     C:\\Users\\Asus\\AppData\\Roaming\\nltk_data...\n",
      "[nltk_data]   Package punkt is already up-to-date!\n",
      "[nltk_data] Downloading package stopwords to\n",
      "[nltk_data]     C:\\Users\\Asus\\AppData\\Roaming\\nltk_data...\n",
      "[nltk_data]   Package stopwords is already up-to-date!\n"
     ]
    },
    {
     "name": "stdout",
     "output_type": "stream",
     "text": [
      "Augmentation done. Check the 'augmented_data.csv' file.\n"
     ]
    }
   ],
   "source": [
    "# Import Augmentation Functions\n",
    "%run data_augmentation.py"
   ]
  },
  {
   "cell_type": "code",
   "execution_count": 36,
   "metadata": {},
   "outputs": [
    {
     "data": {
      "text/html": [
       "<div>\n",
       "<style scoped>\n",
       "    .dataframe tbody tr th:only-of-type {\n",
       "        vertical-align: middle;\n",
       "    }\n",
       "\n",
       "    .dataframe tbody tr th {\n",
       "        vertical-align: top;\n",
       "    }\n",
       "\n",
       "    .dataframe thead th {\n",
       "        text-align: right;\n",
       "    }\n",
       "</style>\n",
       "<table border=\"1\" class=\"dataframe\">\n",
       "  <thead>\n",
       "    <tr style=\"text-align: right;\">\n",
       "      <th></th>\n",
       "      <th>model</th>\n",
       "      <th>instruction</th>\n",
       "      <th>text</th>\n",
       "    </tr>\n",
       "  </thead>\n",
       "  <tbody>\n",
       "    <tr>\n",
       "      <th>0</th>\n",
       "      <td>GPT-4o</td>\n",
       "      <td>Veri gizliliği sorununa etik bir çözüm önerin.</td>\n",
       "      <td>Veri gizliliği, günümüzde hem bireylerin hem d...</td>\n",
       "    </tr>\n",
       "    <tr>\n",
       "      <th>1</th>\n",
       "      <td>GPT-4o</td>\n",
       "      <td>Doğal Dil İşlemede kelime gömme kullanımını aç...</td>\n",
       "      <td>Doğal Dil İşleme (NLP) alanında, kelime gömme ...</td>\n",
       "    </tr>\n",
       "    <tr>\n",
       "      <th>2</th>\n",
       "      <td>GPT-4o</td>\n",
       "      <td>Cogging torku kavramını açıklayın.</td>\n",
       "      <td>Cogging torku, elektrik motorları, özellikle d...</td>\n",
       "    </tr>\n",
       "    <tr>\n",
       "      <th>3</th>\n",
       "      <td>GPT-4o</td>\n",
       "      <td>Bir inşaat şirketinin proje yöneticisi olduğun...</td>\n",
       "      <td>Bir büyük ölçekli konut projesinin proje yönet...</td>\n",
       "    </tr>\n",
       "    <tr>\n",
       "      <th>4</th>\n",
       "      <td>GPT-4o</td>\n",
       "      <td>Bitkilerde hücresel solunum sürecini açıklayın.</td>\n",
       "      <td>Bitkilerde hücresel solunum, bitki hücrelerini...</td>\n",
       "    </tr>\n",
       "    <tr>\n",
       "      <th>...</th>\n",
       "      <td>...</td>\n",
       "      <td>...</td>\n",
       "      <td>...</td>\n",
       "    </tr>\n",
       "    <tr>\n",
       "      <th>368</th>\n",
       "      <td>Claude 3 Sonnet</td>\n",
       "      <td>Yol Ayrımı şiirinin 200 kelime özeti yazın.</td>\n",
       "      <td>Yol Ayrımı şiirinde şair, hayatın bir dönüm no...</td>\n",
       "    </tr>\n",
       "    <tr>\n",
       "      <th>369</th>\n",
       "      <td>Claude 3 Sonnet</td>\n",
       "      <td>O her zaman ayı ziyaret etmek istemişti diyere...</td>\n",
       "      <td>O her zaman ayı ziyaret etmek istemişti. Küçük...</td>\n",
       "    </tr>\n",
       "    <tr>\n",
       "      <th>370</th>\n",
       "      <td>Claude 3 Sonnet</td>\n",
       "      <td>Aşağıdaki girdiler verildiğinde, durumun avant...</td>\n",
       "      <td>Editöryal: Evden Çalışmanın İki Yüzü Günümüzde...</td>\n",
       "    </tr>\n",
       "    <tr>\n",
       "      <th>371</th>\n",
       "      <td>Claude 3 Sonnet</td>\n",
       "      <td>Küresel ısınma hakkında 300 kelimelik bir maka...</td>\n",
       "      <td>Küresel Isınma: Gezegenimizi Tehdit Eden Büyük...</td>\n",
       "    </tr>\n",
       "    <tr>\n",
       "      <th>372</th>\n",
       "      <td>Claude 3 Sonnet</td>\n",
       "      <td>Sağlık sektöründe teknolojinin ilerlemesi hakk...</td>\n",
       "      <td>Teknoloji, Sağlık Alanında Devrim Yaratıyor Sa...</td>\n",
       "    </tr>\n",
       "  </tbody>\n",
       "</table>\n",
       "<p>373 rows × 3 columns</p>\n",
       "</div>"
      ],
      "text/plain": [
       "               model                                        instruction  \\\n",
       "0             GPT-4o     Veri gizliliği sorununa etik bir çözüm önerin.   \n",
       "1             GPT-4o  Doğal Dil İşlemede kelime gömme kullanımını aç...   \n",
       "2             GPT-4o                 Cogging torku kavramını açıklayın.   \n",
       "3             GPT-4o  Bir inşaat şirketinin proje yöneticisi olduğun...   \n",
       "4             GPT-4o    Bitkilerde hücresel solunum sürecini açıklayın.   \n",
       "..               ...                                                ...   \n",
       "368  Claude 3 Sonnet        Yol Ayrımı şiirinin 200 kelime özeti yazın.   \n",
       "369  Claude 3 Sonnet  O her zaman ayı ziyaret etmek istemişti diyere...   \n",
       "370  Claude 3 Sonnet  Aşağıdaki girdiler verildiğinde, durumun avant...   \n",
       "371  Claude 3 Sonnet  Küresel ısınma hakkında 300 kelimelik bir maka...   \n",
       "372  Claude 3 Sonnet  Sağlık sektöründe teknolojinin ilerlemesi hakk...   \n",
       "\n",
       "                                                  text  \n",
       "0    Veri gizliliği, günümüzde hem bireylerin hem d...  \n",
       "1    Doğal Dil İşleme (NLP) alanında, kelime gömme ...  \n",
       "2    Cogging torku, elektrik motorları, özellikle d...  \n",
       "3    Bir büyük ölçekli konut projesinin proje yönet...  \n",
       "4    Bitkilerde hücresel solunum, bitki hücrelerini...  \n",
       "..                                                 ...  \n",
       "368  Yol Ayrımı şiirinde şair, hayatın bir dönüm no...  \n",
       "369  O her zaman ayı ziyaret etmek istemişti. Küçük...  \n",
       "370  Editöryal: Evden Çalışmanın İki Yüzü Günümüzde...  \n",
       "371  Küresel Isınma: Gezegenimizi Tehdit Eden Büyük...  \n",
       "372  Teknoloji, Sağlık Alanında Devrim Yaratıyor Sa...  \n",
       "\n",
       "[373 rows x 3 columns]"
      ]
     },
     "execution_count": 36,
     "metadata": {},
     "output_type": "execute_result"
    }
   ],
   "source": [
    "df = pd.read_excel('ai_data.xlsx')\n",
    "df['output'] = df['output'].apply(remove_characters)\n",
    "df['text'] = df['output']\n",
    "df = df.drop('output', axis=1)\n",
    "df"
   ]
  },
  {
   "cell_type": "code",
   "execution_count": 37,
   "metadata": {},
   "outputs": [
    {
     "data": {
      "text/html": [
       "<div>\n",
       "<style scoped>\n",
       "    .dataframe tbody tr th:only-of-type {\n",
       "        vertical-align: middle;\n",
       "    }\n",
       "\n",
       "    .dataframe tbody tr th {\n",
       "        vertical-align: top;\n",
       "    }\n",
       "\n",
       "    .dataframe thead th {\n",
       "        text-align: right;\n",
       "    }\n",
       "</style>\n",
       "<table border=\"1\" class=\"dataframe\">\n",
       "  <thead>\n",
       "    <tr style=\"text-align: right;\">\n",
       "      <th></th>\n",
       "      <th>text</th>\n",
       "    </tr>\n",
       "  </thead>\n",
       "  <tbody>\n",
       "    <tr>\n",
       "      <th>0</th>\n",
       "      <td>Genç bir kız , ormanın derinliklerinde dolaşır...</td>\n",
       "    </tr>\n",
       "    <tr>\n",
       "      <th>1</th>\n",
       "      <td>Genç bir kız , ormanın derinliklerinde dolaşır...</td>\n",
       "    </tr>\n",
       "    <tr>\n",
       "      <th>2</th>\n",
       "      <td>Genç bir kız , ormanın derinliklerinde dolaşır...</td>\n",
       "    </tr>\n",
       "    <tr>\n",
       "      <th>3</th>\n",
       "      <td>bir kız , ormanın derinliklerinde dolaşırken b...</td>\n",
       "    </tr>\n",
       "    <tr>\n",
       "      <th>4</th>\n",
       "      <td>Genç bir kız , ormanın derinliklerinde dolaşır...</td>\n",
       "    </tr>\n",
       "    <tr>\n",
       "      <th>...</th>\n",
       "      <td>...</td>\n",
       "    </tr>\n",
       "    <tr>\n",
       "      <th>5955</th>\n",
       "      <td>Başlık Kayıp Anahtar Begüm , yıllardır büyük k...</td>\n",
       "    </tr>\n",
       "    <tr>\n",
       "      <th>5956</th>\n",
       "      <td>Başlık : Kayıp Anahtar Begüm , yıllardır bekle...</td>\n",
       "    </tr>\n",
       "    <tr>\n",
       "      <th>5957</th>\n",
       "      <td>Başlık : Kayıp Anahtar Begüm , yıllardır bekle...</td>\n",
       "    </tr>\n",
       "    <tr>\n",
       "      <th>5958</th>\n",
       "      <td>Başlık : Kayıp Anahtar Begüm , yıllardır bekle...</td>\n",
       "    </tr>\n",
       "    <tr>\n",
       "      <th>5959</th>\n",
       "      <td>: Kayıp Anahtar Begüm , beklediği büyük konser...</td>\n",
       "    </tr>\n",
       "  </tbody>\n",
       "</table>\n",
       "<p>5960 rows × 1 columns</p>\n",
       "</div>"
      ],
      "text/plain": [
       "                                                   text\n",
       "0     Genç bir kız , ormanın derinliklerinde dolaşır...\n",
       "1     Genç bir kız , ormanın derinliklerinde dolaşır...\n",
       "2     Genç bir kız , ormanın derinliklerinde dolaşır...\n",
       "3     bir kız , ormanın derinliklerinde dolaşırken b...\n",
       "4     Genç bir kız , ormanın derinliklerinde dolaşır...\n",
       "...                                                 ...\n",
       "5955  Başlık Kayıp Anahtar Begüm , yıllardır büyük k...\n",
       "5956  Başlık : Kayıp Anahtar Begüm , yıllardır bekle...\n",
       "5957  Başlık : Kayıp Anahtar Begüm , yıllardır bekle...\n",
       "5958  Başlık : Kayıp Anahtar Begüm , yıllardır bekle...\n",
       "5959  : Kayıp Anahtar Begüm , beklediği büyük konser...\n",
       "\n",
       "[5960 rows x 1 columns]"
      ]
     },
     "execution_count": 37,
     "metadata": {},
     "output_type": "execute_result"
    }
   ],
   "source": [
    "# Split data into training and testing sets before augmentation\n",
    "train_ai_df, test_ai_df = train_test_split(df, test_size=0.2, random_state=42)\n",
    "\n",
    "# Augment training data only\n",
    "augmented_texts = []\n",
    "for index, row in train_ai_df.iterrows():\n",
    "    text = row['text']\n",
    "    # Apply multiple transformations\n",
    "    for _ in range(5):  # Repeat each transformation 5 times\n",
    "        augmented_texts.append(synonym_replacement(text, n=2))\n",
    "        augmented_texts.append(random_insertion(text, n=3))\n",
    "        augmented_texts.append(random_swap(text, n=2))\n",
    "        augmented_texts.append(random_deletion(text, p=0.1))\n",
    "\n",
    "augmented_df = pd.DataFrame(augmented_texts, columns=['text'])\n",
    "augmented_df"
   ]
  },
  {
   "cell_type": "code",
   "execution_count": 38,
   "metadata": {},
   "outputs": [
    {
     "data": {
      "text/html": [
       "<div>\n",
       "<style scoped>\n",
       "    .dataframe tbody tr th:only-of-type {\n",
       "        vertical-align: middle;\n",
       "    }\n",
       "\n",
       "    .dataframe tbody tr th {\n",
       "        vertical-align: top;\n",
       "    }\n",
       "\n",
       "    .dataframe thead th {\n",
       "        text-align: right;\n",
       "    }\n",
       "</style>\n",
       "<table border=\"1\" class=\"dataframe\">\n",
       "  <thead>\n",
       "    <tr style=\"text-align: right;\">\n",
       "      <th></th>\n",
       "      <th>text</th>\n",
       "      <th>label</th>\n",
       "    </tr>\n",
       "  </thead>\n",
       "  <tbody>\n",
       "    <tr>\n",
       "      <th>0</th>\n",
       "      <td>Doğu Afrika'da bir çiftçinin yaşam tarzı, ikli...</td>\n",
       "      <td>ai</td>\n",
       "    </tr>\n",
       "    <tr>\n",
       "      <th>1</th>\n",
       "      <td>Dünya'nın klasikçi görüşü, genellikle Antik Yu...</td>\n",
       "      <td>ai</td>\n",
       "    </tr>\n",
       "    <tr>\n",
       "      <th>2</th>\n",
       "      <td>\\nKoronavirüs, solunum yolu enfeksiyonlarına n...</td>\n",
       "      <td>ai</td>\n",
       "    </tr>\n",
       "    <tr>\n",
       "      <th>3</th>\n",
       "      <td>John Fitzgerald Kennedy, genellikle JFK olarak...</td>\n",
       "      <td>ai</td>\n",
       "    </tr>\n",
       "    <tr>\n",
       "      <th>4</th>\n",
       "      <td>Nehir ve Kasaba\\nBir nehir, kasabanın içinden ...</td>\n",
       "      <td>ai</td>\n",
       "    </tr>\n",
       "    <tr>\n",
       "      <th>...</th>\n",
       "      <td>...</td>\n",
       "      <td>...</td>\n",
       "    </tr>\n",
       "    <tr>\n",
       "      <th>2070</th>\n",
       "      <td>Peter Trevor Powell (d. 1932 – ö.3 Ocak 2016),...</td>\n",
       "      <td>human</td>\n",
       "    </tr>\n",
       "    <tr>\n",
       "      <th>2071</th>\n",
       "      <td>Klasik Türk müziği sanatçısı Emel Sayının disk...</td>\n",
       "      <td>human</td>\n",
       "    </tr>\n",
       "    <tr>\n",
       "      <th>2072</th>\n",
       "      <td>İsmail Hakkı Uzmay (d. 1881, Şumnu \\- ö. 11 Te...</td>\n",
       "      <td>human</td>\n",
       "    </tr>\n",
       "    <tr>\n",
       "      <th>2073</th>\n",
       "      <td>Bu Vatanın Çocukları, başrollerinde Yılmaz Gün...</td>\n",
       "      <td>human</td>\n",
       "    </tr>\n",
       "    <tr>\n",
       "      <th>2074</th>\n",
       "      <td>Türkiye Kupası ya da sponsorluk anlaşmaları ge...</td>\n",
       "      <td>human</td>\n",
       "    </tr>\n",
       "  </tbody>\n",
       "</table>\n",
       "<p>2075 rows × 2 columns</p>\n",
       "</div>"
      ],
      "text/plain": [
       "                                                   text  label\n",
       "0     Doğu Afrika'da bir çiftçinin yaşam tarzı, ikli...     ai\n",
       "1     Dünya'nın klasikçi görüşü, genellikle Antik Yu...     ai\n",
       "2     \\nKoronavirüs, solunum yolu enfeksiyonlarına n...     ai\n",
       "3     John Fitzgerald Kennedy, genellikle JFK olarak...     ai\n",
       "4     Nehir ve Kasaba\\nBir nehir, kasabanın içinden ...     ai\n",
       "...                                                 ...    ...\n",
       "2070  Peter Trevor Powell (d. 1932 – ö.3 Ocak 2016),...  human\n",
       "2071  Klasik Türk müziği sanatçısı Emel Sayının disk...  human\n",
       "2072  İsmail Hakkı Uzmay (d. 1881, Şumnu \\- ö. 11 Te...  human\n",
       "2073  Bu Vatanın Çocukları, başrollerinde Yılmaz Gün...  human\n",
       "2074  Türkiye Kupası ya da sponsorluk anlaşmaları ge...  human\n",
       "\n",
       "[2075 rows x 2 columns]"
      ]
     },
     "execution_count": 38,
     "metadata": {},
     "output_type": "execute_result"
    }
   ],
   "source": [
    "# Combine augmented data with original training data\n",
    "train_augmented_df = pd.concat([train_ai_df[['text']], augmented_df], ignore_index=True)\n",
    "\n",
    "# Label data\n",
    "train_augmented_df['label'] = 'ai'\n",
    "test_ai_df['label'] = 'ai'\n",
    "data['label'] = 'human'\n",
    "train_human_df, test_human_df = train_test_split(data, test_size=0.2, random_state=42)\n",
    "train_human_df = train_human_df.sample(n=8000, random_state=42)\n",
    "test_human_df = test_human_df.sample(n=2000, random_state=42)\n",
    "\n",
    "# Combine data\n",
    "combined_train_df = pd.concat([train_augmented_df, train_human_df], ignore_index=True)\n",
    "combined_test_df = pd.concat([test_ai_df, test_human_df], ignore_index=True)\n",
    "\n",
    "columns_to_keep = ['text', 'label']\n",
    "combined_train_df = combined_train_df[columns_to_keep]\n",
    "combined_test_df = combined_test_df[columns_to_keep]"
   ]
  },
  {
   "cell_type": "code",
   "execution_count": 48,
   "metadata": {},
   "outputs": [
    {
     "data": {
      "text/html": [
       "<div>\n",
       "<style scoped>\n",
       "    .dataframe tbody tr th:only-of-type {\n",
       "        vertical-align: middle;\n",
       "    }\n",
       "\n",
       "    .dataframe tbody tr th {\n",
       "        vertical-align: top;\n",
       "    }\n",
       "\n",
       "    .dataframe thead th {\n",
       "        text-align: right;\n",
       "    }\n",
       "</style>\n",
       "<table border=\"1\" class=\"dataframe\">\n",
       "  <thead>\n",
       "    <tr style=\"text-align: right;\">\n",
       "      <th></th>\n",
       "      <th>text</th>\n",
       "      <th>label</th>\n",
       "    </tr>\n",
       "  </thead>\n",
       "  <tbody>\n",
       "    <tr>\n",
       "      <th>0</th>\n",
       "      <td>Genç bir kız, ormanın derinliklerinde dolaşırk...</td>\n",
       "      <td>ai</td>\n",
       "    </tr>\n",
       "    <tr>\n",
       "      <th>1</th>\n",
       "      <td>Yapay zeka (AI), son yıllarda hızla gelişerek ...</td>\n",
       "      <td>ai</td>\n",
       "    </tr>\n",
       "    <tr>\n",
       "      <th>2</th>\n",
       "      <td>Yapay Zeka ve Makine Öğrenimi:\\n\\nYapay zekanı...</td>\n",
       "      <td>ai</td>\n",
       "    </tr>\n",
       "    <tr>\n",
       "      <th>3</th>\n",
       "      <td>Doğal ve yapay diller arasındaki farklar şunla...</td>\n",
       "      <td>ai</td>\n",
       "    </tr>\n",
       "    <tr>\n",
       "      <th>4</th>\n",
       "      <td>Müşteri: Affedersiniz, hanımefendi?\\n\\nUçuş Gö...</td>\n",
       "      <td>ai</td>\n",
       "    </tr>\n",
       "    <tr>\n",
       "      <th>...</th>\n",
       "      <td>...</td>\n",
       "      <td>...</td>\n",
       "    </tr>\n",
       "    <tr>\n",
       "      <th>14253</th>\n",
       "      <td>küçükresim|300px|Antik kent İç kısımların duva...</td>\n",
       "      <td>human</td>\n",
       "    </tr>\n",
       "    <tr>\n",
       "      <th>14254</th>\n",
       "      <td>Korsika derbisi (Fransızca: Derby Corse), Fran...</td>\n",
       "      <td>human</td>\n",
       "    </tr>\n",
       "    <tr>\n",
       "      <th>14255</th>\n",
       "      <td>Flebit, ven enflamasyonunu tanımlayan bir teri...</td>\n",
       "      <td>human</td>\n",
       "    </tr>\n",
       "    <tr>\n",
       "      <th>14256</th>\n",
       "      <td>Standaard Wetteren Wetteren şehrinin futbol ku...</td>\n",
       "      <td>human</td>\n",
       "    </tr>\n",
       "    <tr>\n",
       "      <th>14257</th>\n",
       "      <td>Worms Piskoposluk Bölgesi veya Worms Prens-Pis...</td>\n",
       "      <td>human</td>\n",
       "    </tr>\n",
       "  </tbody>\n",
       "</table>\n",
       "<p>14258 rows × 2 columns</p>\n",
       "</div>"
      ],
      "text/plain": [
       "                                                    text  label\n",
       "0      Genç bir kız, ormanın derinliklerinde dolaşırk...     ai\n",
       "1      Yapay zeka (AI), son yıllarda hızla gelişerek ...     ai\n",
       "2      Yapay Zeka ve Makine Öğrenimi:\\n\\nYapay zekanı...     ai\n",
       "3      Doğal ve yapay diller arasındaki farklar şunla...     ai\n",
       "4      Müşteri: Affedersiniz, hanımefendi?\\n\\nUçuş Gö...     ai\n",
       "...                                                  ...    ...\n",
       "14253  küçükresim|300px|Antik kent İç kısımların duva...  human\n",
       "14254  Korsika derbisi (Fransızca: Derby Corse), Fran...  human\n",
       "14255  Flebit, ven enflamasyonunu tanımlayan bir teri...  human\n",
       "14256  Standaard Wetteren Wetteren şehrinin futbol ku...  human\n",
       "14257  Worms Piskoposluk Bölgesi veya Worms Prens-Pis...  human\n",
       "\n",
       "[14258 rows x 2 columns]"
      ]
     },
     "execution_count": 48,
     "metadata": {},
     "output_type": "execute_result"
    }
   ],
   "source": [
    "combined_train_df"
   ]
  },
  {
   "cell_type": "code",
   "execution_count": 51,
   "metadata": {},
   "outputs": [
    {
     "data": {
      "text/html": [
       "<div>\n",
       "<style scoped>\n",
       "    .dataframe tbody tr th:only-of-type {\n",
       "        vertical-align: middle;\n",
       "    }\n",
       "\n",
       "    .dataframe tbody tr th {\n",
       "        vertical-align: top;\n",
       "    }\n",
       "\n",
       "    .dataframe thead th {\n",
       "        text-align: right;\n",
       "    }\n",
       "</style>\n",
       "<table border=\"1\" class=\"dataframe\">\n",
       "  <thead>\n",
       "    <tr style=\"text-align: right;\">\n",
       "      <th></th>\n",
       "      <th>text</th>\n",
       "      <th>label</th>\n",
       "    </tr>\n",
       "  </thead>\n",
       "  <tbody>\n",
       "    <tr>\n",
       "      <th>0</th>\n",
       "      <td>Doğu Afrika'da bir çiftçinin yaşam tarzı, ikli...</td>\n",
       "      <td>ai</td>\n",
       "    </tr>\n",
       "    <tr>\n",
       "      <th>1</th>\n",
       "      <td>Dünya'nın klasikçi görüşü, genellikle Antik Yu...</td>\n",
       "      <td>ai</td>\n",
       "    </tr>\n",
       "    <tr>\n",
       "      <th>2</th>\n",
       "      <td>\\nKoronavirüs, solunum yolu enfeksiyonlarına n...</td>\n",
       "      <td>ai</td>\n",
       "    </tr>\n",
       "    <tr>\n",
       "      <th>3</th>\n",
       "      <td>John Fitzgerald Kennedy, genellikle JFK olarak...</td>\n",
       "      <td>ai</td>\n",
       "    </tr>\n",
       "    <tr>\n",
       "      <th>4</th>\n",
       "      <td>Nehir ve Kasaba\\nBir nehir, kasabanın içinden ...</td>\n",
       "      <td>ai</td>\n",
       "    </tr>\n",
       "    <tr>\n",
       "      <th>...</th>\n",
       "      <td>...</td>\n",
       "      <td>...</td>\n",
       "    </tr>\n",
       "    <tr>\n",
       "      <th>2070</th>\n",
       "      <td>Peter Trevor Powell (d. 1932 – ö.3 Ocak 2016),...</td>\n",
       "      <td>human</td>\n",
       "    </tr>\n",
       "    <tr>\n",
       "      <th>2071</th>\n",
       "      <td>Klasik Türk müziği sanatçısı Emel Sayının disk...</td>\n",
       "      <td>human</td>\n",
       "    </tr>\n",
       "    <tr>\n",
       "      <th>2072</th>\n",
       "      <td>İsmail Hakkı Uzmay (d. 1881, Şumnu \\- ö. 11 Te...</td>\n",
       "      <td>human</td>\n",
       "    </tr>\n",
       "    <tr>\n",
       "      <th>2073</th>\n",
       "      <td>Bu Vatanın Çocukları, başrollerinde Yılmaz Gün...</td>\n",
       "      <td>human</td>\n",
       "    </tr>\n",
       "    <tr>\n",
       "      <th>2074</th>\n",
       "      <td>Türkiye Kupası ya da sponsorluk anlaşmaları ge...</td>\n",
       "      <td>human</td>\n",
       "    </tr>\n",
       "  </tbody>\n",
       "</table>\n",
       "<p>2075 rows × 2 columns</p>\n",
       "</div>"
      ],
      "text/plain": [
       "                                                   text  label\n",
       "0     Doğu Afrika'da bir çiftçinin yaşam tarzı, ikli...     ai\n",
       "1     Dünya'nın klasikçi görüşü, genellikle Antik Yu...     ai\n",
       "2     \\nKoronavirüs, solunum yolu enfeksiyonlarına n...     ai\n",
       "3     John Fitzgerald Kennedy, genellikle JFK olarak...     ai\n",
       "4     Nehir ve Kasaba\\nBir nehir, kasabanın içinden ...     ai\n",
       "...                                                 ...    ...\n",
       "2070  Peter Trevor Powell (d. 1932 – ö.3 Ocak 2016),...  human\n",
       "2071  Klasik Türk müziği sanatçısı Emel Sayının disk...  human\n",
       "2072  İsmail Hakkı Uzmay (d. 1881, Şumnu \\- ö. 11 Te...  human\n",
       "2073  Bu Vatanın Çocukları, başrollerinde Yılmaz Gün...  human\n",
       "2074  Türkiye Kupası ya da sponsorluk anlaşmaları ge...  human\n",
       "\n",
       "[2075 rows x 2 columns]"
      ]
     },
     "execution_count": 51,
     "metadata": {},
     "output_type": "execute_result"
    }
   ],
   "source": [
    "combined_test_df"
   ]
  },
  {
   "cell_type": "markdown",
   "metadata": {},
   "source": [
    "### Logistic Regression with Unigram and Bigram"
   ]
  },
  {
   "cell_type": "code",
   "execution_count": 52,
   "metadata": {},
   "outputs": [
    {
     "data": {
      "text/html": [
       "<style>#sk-container-id-4 {color: black;background-color: white;}#sk-container-id-4 pre{padding: 0;}#sk-container-id-4 div.sk-toggleable {background-color: white;}#sk-container-id-4 label.sk-toggleable__label {cursor: pointer;display: block;width: 100%;margin-bottom: 0;padding: 0.3em;box-sizing: border-box;text-align: center;}#sk-container-id-4 label.sk-toggleable__label-arrow:before {content: \"▸\";float: left;margin-right: 0.25em;color: #696969;}#sk-container-id-4 label.sk-toggleable__label-arrow:hover:before {color: black;}#sk-container-id-4 div.sk-estimator:hover label.sk-toggleable__label-arrow:before {color: black;}#sk-container-id-4 div.sk-toggleable__content {max-height: 0;max-width: 0;overflow: hidden;text-align: left;background-color: #f0f8ff;}#sk-container-id-4 div.sk-toggleable__content pre {margin: 0.2em;color: black;border-radius: 0.25em;background-color: #f0f8ff;}#sk-container-id-4 input.sk-toggleable__control:checked~div.sk-toggleable__content {max-height: 200px;max-width: 100%;overflow: auto;}#sk-container-id-4 input.sk-toggleable__control:checked~label.sk-toggleable__label-arrow:before {content: \"▾\";}#sk-container-id-4 div.sk-estimator input.sk-toggleable__control:checked~label.sk-toggleable__label {background-color: #d4ebff;}#sk-container-id-4 div.sk-label input.sk-toggleable__control:checked~label.sk-toggleable__label {background-color: #d4ebff;}#sk-container-id-4 input.sk-hidden--visually {border: 0;clip: rect(1px 1px 1px 1px);clip: rect(1px, 1px, 1px, 1px);height: 1px;margin: -1px;overflow: hidden;padding: 0;position: absolute;width: 1px;}#sk-container-id-4 div.sk-estimator {font-family: monospace;background-color: #f0f8ff;border: 1px dotted black;border-radius: 0.25em;box-sizing: border-box;margin-bottom: 0.5em;}#sk-container-id-4 div.sk-estimator:hover {background-color: #d4ebff;}#sk-container-id-4 div.sk-parallel-item::after {content: \"\";width: 100%;border-bottom: 1px solid gray;flex-grow: 1;}#sk-container-id-4 div.sk-label:hover label.sk-toggleable__label {background-color: #d4ebff;}#sk-container-id-4 div.sk-serial::before {content: \"\";position: absolute;border-left: 1px solid gray;box-sizing: border-box;top: 0;bottom: 0;left: 50%;z-index: 0;}#sk-container-id-4 div.sk-serial {display: flex;flex-direction: column;align-items: center;background-color: white;padding-right: 0.2em;padding-left: 0.2em;position: relative;}#sk-container-id-4 div.sk-item {position: relative;z-index: 1;}#sk-container-id-4 div.sk-parallel {display: flex;align-items: stretch;justify-content: center;background-color: white;position: relative;}#sk-container-id-4 div.sk-item::before, #sk-container-id-4 div.sk-parallel-item::before {content: \"\";position: absolute;border-left: 1px solid gray;box-sizing: border-box;top: 0;bottom: 0;left: 50%;z-index: -1;}#sk-container-id-4 div.sk-parallel-item {display: flex;flex-direction: column;z-index: 1;position: relative;background-color: white;}#sk-container-id-4 div.sk-parallel-item:first-child::after {align-self: flex-end;width: 50%;}#sk-container-id-4 div.sk-parallel-item:last-child::after {align-self: flex-start;width: 50%;}#sk-container-id-4 div.sk-parallel-item:only-child::after {width: 0;}#sk-container-id-4 div.sk-dashed-wrapped {border: 1px dashed gray;margin: 0 0.4em 0.5em 0.4em;box-sizing: border-box;padding-bottom: 0.4em;background-color: white;}#sk-container-id-4 div.sk-label label {font-family: monospace;font-weight: bold;display: inline-block;line-height: 1.2em;}#sk-container-id-4 div.sk-label-container {text-align: center;}#sk-container-id-4 div.sk-container {/* jupyter's `normalize.less` sets `[hidden] { display: none; }` but bootstrap.min.css set `[hidden] { display: none !important; }` so we also need the `!important` here to be able to override the default hidden behavior on the sphinx rendered scikit-learn.org. See: https://github.com/scikit-learn/scikit-learn/issues/21755 */display: inline-block !important;position: relative;}#sk-container-id-4 div.sk-text-repr-fallback {display: none;}</style><div id=\"sk-container-id-4\" class=\"sk-top-container\"><div class=\"sk-text-repr-fallback\"><pre>LogisticRegression()</pre><b>In a Jupyter environment, please rerun this cell to show the HTML representation or trust the notebook. <br />On GitHub, the HTML representation is unable to render, please try loading this page with nbviewer.org.</b></div><div class=\"sk-container\" hidden><div class=\"sk-item\"><div class=\"sk-estimator sk-toggleable\"><input class=\"sk-toggleable__control sk-hidden--visually\" id=\"sk-estimator-id-4\" type=\"checkbox\" checked><label for=\"sk-estimator-id-4\" class=\"sk-toggleable__label sk-toggleable__label-arrow\">LogisticRegression</label><div class=\"sk-toggleable__content\"><pre>LogisticRegression()</pre></div></div></div></div></div>"
      ],
      "text/plain": [
       "LogisticRegression()"
      ]
     },
     "execution_count": 52,
     "metadata": {},
     "output_type": "execute_result"
    }
   ],
   "source": [
    "# Preprocess the data\n",
    "vectorizer = CountVectorizer(ngram_range=(1,2))\n",
    "X_train = vectorizer.fit_transform(combined_train_df['text'])\n",
    "X_test = vectorizer.transform(combined_test_df['text'])\n",
    "\n",
    "y_train = combined_train_df['label']\n",
    "y_test = combined_test_df['label']\n",
    "\n",
    "# Create a Logistic Regression model\n",
    "model = LogisticRegression()\n",
    "\n",
    "# Train the model\n",
    "model.fit(X_train, y_train)\n"
   ]
  },
  {
   "cell_type": "code",
   "execution_count": 53,
   "metadata": {},
   "outputs": [
    {
     "name": "stdout",
     "output_type": "stream",
     "text": [
      "Accuracy: 0.9643373493975904\n",
      "Classification Report:\n",
      "               precision    recall  f1-score   support\n",
      "\n",
      "          ai       1.00      0.01      0.03        75\n",
      "       human       0.96      1.00      0.98      2000\n",
      "\n",
      "    accuracy                           0.96      2075\n",
      "   macro avg       0.98      0.51      0.50      2075\n",
      "weighted avg       0.97      0.96      0.95      2075\n",
      "\n"
     ]
    },
    {
     "data": {
      "image/png": "[encoded data removed]",
      "text/plain": [
       "<Figure size 432x288 with 2 Axes>"
      ]
     },
     "metadata": {
      "needs_background": "light"
     },
     "output_type": "display_data"
    }
   ],
   "source": [
    "# Make predictions\n",
    "predictions = model.predict(X_test)\n",
    "\n",
    "# Evaluate the model\n",
    "print(\"Accuracy:\", accuracy_score(y_test, predictions))\n",
    "print(\"Classification Report:\\n\", classification_report(y_test, predictions))\n",
    "\n",
    "# Generate and display the confusion matrix\n",
    "cm = confusion_matrix(y_test, predictions)\n",
    "sns.heatmap(cm, annot=True, fmt='d', cmap='Blues', xticklabels=['AI', 'Human'], yticklabels=['AI', 'Human'])\n",
    "plt.ylabel('Actual')\n",
    "plt.xlabel('Predicted')\n",
    "plt.title('Confusion Matrix')\n",
    "plt.show()"
   ]
  },
  {
   "cell_type": "code",
   "execution_count": 54,
   "metadata": {},
   "outputs": [
    {
     "name": "stdout",
     "output_type": "stream",
     "text": [
      "Cross-Validation Average Accuracy: 0.9981063458947256\n",
      "Test Set Accuracy: 0.9792771084337349\n",
      "Classification Report on Test Set:\n",
      "               precision    recall  f1-score   support\n",
      "\n",
      "          ai       0.82      0.55      0.66        75\n",
      "       human       0.98      1.00      0.99      2000\n",
      "\n",
      "    accuracy                           0.98      2075\n",
      "   macro avg       0.90      0.77      0.82      2075\n",
      "weighted avg       0.98      0.98      0.98      2075\n",
      "\n"
     ]
    },
    {
     "data": {
      "image/png": "[encoded data removed]",
      "text/plain": [
       "<Figure size 432x288 with 2 Axes>"
      ]
     },
     "metadata": {
      "needs_background": "light"
     },
     "output_type": "display_data"
    }
   ],
   "source": [
    "# 1 saat sürüyor\n",
    "\n",
    "# Split data into training and testing sets\n",
    "vectorizer = CountVectorizer(ngram_range=(1,2))\n",
    "X_train = vectorizer.fit_transform(combined_train_df['text'])\n",
    "X_test = vectorizer.transform(combined_test_df['text'])\n",
    "\n",
    "y_train = combined_train_df['label'].values\n",
    "y_test = combined_test_df['label'].values\n",
    "\n",
    "# Initialize KFold for the training set only\n",
    "kf = KFold(n_splits=5, shuffle=True, random_state=42)\n",
    "\n",
    "# Initialize the Logistic Regression model\n",
    "model = LogisticRegression(max_iter=1000)\n",
    "\n",
    "# Lists to store results for each fold\n",
    "accuracies = []\n",
    "class_reports = []\n",
    "conf_matrices = []\n",
    "\n",
    "# Perform cross-validation on the training data only\n",
    "for train_index, val_index in kf.split(X_train):\n",
    "    X_train_fold, X_val_fold = X_train[train_index], X_train[val_index]\n",
    "    y_train_fold, y_val_fold = y_train[train_index], y_train[val_index]\n",
    "\n",
    "    # Train the model on the fold\n",
    "    model.fit(X_train_fold, y_train_fold)\n",
    "    \n",
    "    # Make predictions on the validation fold\n",
    "    predictions = model.predict(X_val_fold)\n",
    "    \n",
    "    # Metrics calculation\n",
    "    accuracies.append(accuracy_score(y_val_fold, predictions))\n",
    "    class_reports.append(classification_report(y_val_fold, predictions, output_dict=True))\n",
    "    conf_matrices.append(confusion_matrix(y_val_fold, predictions))\n",
    "\n",
    "# Evaluate the final model on the test set\n",
    "final_predictions = model.predict(X_test)\n",
    "final_accuracy = accuracy_score(y_test, final_predictions)\n",
    "final_class_report = classification_report(y_test, final_predictions)\n",
    "final_conf_matrix = confusion_matrix(y_test, final_predictions)\n",
    "\n",
    "# Display results\n",
    "print(\"Cross-Validation Average Accuracy:\", np.mean(accuracies))\n",
    "print(\"Test Set Accuracy:\", final_accuracy)\n",
    "print(\"Classification Report on Test Set:\\n\", final_class_report)\n",
    "\n",
    "# Display confusion matrix for the test set\n",
    "sns.heatmap(final_conf_matrix, annot=True, fmt='d', cmap='Blues', xticklabels=['AI', 'Human'], yticklabels=['AI', 'Human'])\n",
    "plt.ylabel('Actual')\n",
    "plt.xlabel('Predicted')\n",
    "plt.title('Test Set Confusion Matrix')\n",
    "plt.show()"
   ]
  }
 ],
 "metadata": {
  "kernelspec": {
   "display_name": "Python 3",
   "language": "python",
   "name": "python3"
  },
  "language_info": {
   "codemirror_mode": {
    "name": "ipython",
    "version": 3
   },
   "file_extension": ".py",
   "mimetype": "text/x-python",
   "name": "python",
   "nbconvert_exporter": "python",
   "pygments_lexer": "ipython3",
   "version": "3.9.1"
  }
 },
 "nbformat": 4,
 "nbformat_minor": 2
}
