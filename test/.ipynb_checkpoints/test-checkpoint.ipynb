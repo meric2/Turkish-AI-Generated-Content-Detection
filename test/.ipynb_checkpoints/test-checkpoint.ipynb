{
 "cells": [
  {
   "cell_type": "markdown",
   "metadata": {
    "id": "z8aGjGJ0-VqL"
   },
   "source": [
    "# Single Example Prediction"
   ]
  },
  {
   "cell_type": "markdown",
   "metadata": {
    "id": "BOd58vev-VqP"
   },
   "source": [
    "**Models**\n",
    "- Bert\n",
    "- RoBERTa\n",
    "- GPT-2\n",
    "- XLNet\n",
    "- Electra\n",
    "- DistilBERT  \n",
    "\n",
    "This is the test script for trained models in TuringBench and AdversarialTraining notebooks. To run this script, make sure you loaded the saved model and adjust the path."
   ]
  },
  {
   "cell_type": "code",
   "execution_count": null,
   "metadata": {
    "id": "0wmtDYRBKixG"
   },
   "outputs": [],
   "source": [
    "!pip install -r requirements.txt"
   ]
  },
  {
   "cell_type": "code",
   "execution_count": 2,
   "metadata": {
    "executionInfo": {
     "elapsed": 1798,
     "status": "ok",
     "timestamp": 1722452512310,
     "user": {
      "displayName": "Meric Asik",
      "userId": "11394867274007519023"
     },
     "user_tz": -180
    },
    "id": "OgxO9Ta2Ai5E"
   },
   "outputs": [],
   "source": [
    "import torch\n",
    "import re\n",
    "import nltk\n",
    "from nltk.corpus import stopwords\n",
    "from nltk.corpus import wordnet as wn\n",
    "from nltk.tokenize import word_tokenize\n",
    "from snowballstemmer import TurkishStemmer\n",
    "\n",
    "from transformers import BertForSequenceClassification, BertTokenizer\n",
    "from transformers import RobertaTokenizer, RobertaForSequenceClassification\n",
    "from transformers import GPT2Tokenizer, GPT2ForSequenceClassification\n",
    "from transformers import XLNetTokenizer, XLNetForSequenceClassification\n",
    "from transformers import AutoTokenizer, AutoModelForSequenceClassification\n",
    "from transformers import DistilBertTokenizer, DistilBertForSequenceClassification\n",
    "from transformers import ElectraTokenizer, ElectraForSequenceClassification\n",
    "\n",
    "import warnings\n",
    "warnings.filterwarnings('ignore')"
   ]
  },
  {
   "cell_type": "code",
   "execution_count": 32,
   "metadata": {
    "colab": {
     "base_uri": "https://localhost:8080/"
    },
    "executionInfo": {
     "elapsed": 2802,
     "status": "ok",
     "timestamp": 1722453237473,
     "user": {
      "displayName": "Meric Asik",
      "userId": "11394867274007519023"
     },
     "user_tz": -180
    },
    "id": "P22qvHO9qAnu",
    "outputId": "1a186d28-e836-41da-c809-76d47f131ef0"
   },
   "outputs": [
    {
     "name": "stdout",
     "output_type": "stream",
     "text": [
      "Drive already mounted at /content/drive; to attempt to forcibly remount, call drive.mount(\"/content/drive\", force_remount=True).\n"
     ]
    }
   ],
   "source": [
    "from google.colab import drive\n",
    "\n",
    "drive.mount('/content/drive')"
   ]
  },
  {
   "cell_type": "code",
   "execution_count": 4,
   "metadata": {
    "executionInfo": {
     "elapsed": 521,
     "status": "ok",
     "timestamp": 1722452546179,
     "user": {
      "displayName": "Meric Asik",
      "userId": "11394867274007519023"
     },
     "user_tz": -180
    },
    "id": "btgZ_UE_KdCR"
   },
   "outputs": [],
   "source": [
    "device = torch.device('cuda') if torch.cuda.is_available() else torch.device('cpu')"
   ]
  },
  {
   "cell_type": "code",
   "execution_count": 5,
   "metadata": {
    "executionInfo": {
     "elapsed": 7,
     "status": "ok",
     "timestamp": 1722452546180,
     "user": {
      "displayName": "Meric Asik",
      "userId": "11394867274007519023"
     },
     "user_tz": -180
    },
    "id": "Fg3jwpU9lmoP"
   },
   "outputs": [],
   "source": [
    "# Single shot test için metni hazırlama ve tahmin yapma\n",
    "def predict_single_text(model, tokenizer, text, device):\n",
    "    model.to(device)\n",
    "    model.eval()\n",
    "    # Metni tokenize et\n",
    "    encoding = tokenizer(text, truncation=True, padding=True, max_length=512, return_tensors='pt')\n",
    "    input_ids = encoding['input_ids'].to(device)\n",
    "    attention_mask = encoding['attention_mask'].to(device)\n",
    "\n",
    "    with torch.no_grad():\n",
    "        outputs = model(input_ids=input_ids, attention_mask=attention_mask)\n",
    "        logits = outputs.logits\n",
    "        preds = torch.argmax(logits, dim=-1)\n",
    "\n",
    "    return preds.cpu().numpy()[0]\n"
   ]
  },
  {
   "cell_type": "code",
   "execution_count": 6,
   "metadata": {
    "colab": {
     "base_uri": "https://localhost:8080/"
    },
    "executionInfo": {
     "elapsed": 678,
     "status": "ok",
     "timestamp": 1722452546852,
     "user": {
      "displayName": "Meric Asik",
      "userId": "11394867274007519023"
     },
     "user_tz": -180
    },
    "id": "S2nDhSAnqyrD",
    "outputId": "d3e17b93-385b-46b1-abd8-a24a05a7d3b9"
   },
   "outputs": [
    {
     "name": "stderr",
     "output_type": "stream",
     "text": [
      "[nltk_data] Downloading package stopwords to /root/nltk_data...\n",
      "[nltk_data]   Unzipping corpora/stopwords.zip.\n",
      "[nltk_data] Downloading package punkt to /root/nltk_data...\n",
      "[nltk_data]   Unzipping tokenizers/punkt.zip.\n"
     ]
    }
   ],
   "source": [
    "# Stopwords listesi yükleniyor\n",
    "nltk.download('stopwords')\n",
    "nltk.download('punkt')\n",
    "turkish_stopwords = stopwords.words('turkish')\n",
    "\n",
    "# Kelime kökü bulucu\n",
    "stemmer = TurkishStemmer()\n",
    "\n",
    "def preprocess_text(text):\n",
    "    # Küçük harfe çevirme\n",
    "    text = text.lower()\n",
    "    # Noktalama işaretlerini çıkarma\n",
    "    text = re.sub(r'[^\\w\\s]', '', text)\n",
    "    # Rakamları çıkarma\n",
    "    text = re.sub(r'\\d+', '', text)\n",
    "    # Tokenleme\n",
    "    words = word_tokenize(text)\n",
    "    # Durdurma kelimelerini çıkarma ve stemming\n",
    "    words = [stemmer.stemWord(word) for word in words if word not in turkish_stopwords]\n",
    "    # Temizlenmiş metni birleştirme\n",
    "    return ' '.join(words)"
   ]
  },
  {
   "cell_type": "code",
   "execution_count": 7,
   "metadata": {
    "executionInfo": {
     "elapsed": 357,
     "status": "ok",
     "timestamp": 1722452552263,
     "user": {
      "displayName": "Meric Asik",
      "userId": "11394867274007519023"
     },
     "user_tz": -180
    },
    "id": "jDIyiuZVBs9w"
   },
   "outputs": [],
   "source": [
    "# Test text\n",
    "human_test_text = \"PTT Kargo Gelmeyen Kargo Ve Açılmayan Telefonlar. 27509141*** numaralı kargo 3 Haziran'da kargoya verildi 4 ünde sabah Ankara'ya gelmiş görünüyor. 5 i geçti hala hiçbir hareket yok. Bir sürü numara aradım çalıyor asla açmıyorlar. 444'lu numara da çalışmıyor. İl dışına çıkmam gerek dünden bu Yana sadece kargo beklediğim için gidemiyorum. Her gün iki\"\n",
    "ai_test_text = \"Cinemaximum Engelli İndirimi Uygulamadı. 03.10.2023 tarihinde İstanbul Kadıköy'deki Cinemaximum'a gittiğimde, engelli indirimi talep ettiğim halde gerekli indirimi uygulamadılar. Görevliye durumu anlattığımda yardımcı olamayacaklarını ve sistemlerinin bunu desteklemediğini söylediler. Oysa daha önce defalarca aynı sinemada bu indirimi kullanmıştım. Engelli haklarına saygı gösterilmemesi ve bu konuda bir çözüm sunulamaması beni gerçekten hayal kırıklığına uğrattı. Sorunun düzeltilmesini ve engelli indirimlerinin her zaman uygulanmasını istiyorum.\"\n",
    "human_test_text = preprocess_text(human_test_text)\n",
    "ai_test_text = preprocess_text(ai_test_text)"
   ]
  },
  {
   "cell_type": "markdown",
   "metadata": {
    "id": "pbk2kD0eDCwF"
   },
   "source": [
    "## Models"
   ]
  },
  {
   "cell_type": "markdown",
   "metadata": {
    "id": "7fwX2AtNBNcx"
   },
   "source": [
    "### BERT"
   ]
  },
  {
   "cell_type": "code",
   "execution_count": 22,
   "metadata": {
    "executionInfo": {
     "elapsed": 19070,
     "status": "ok",
     "timestamp": 1722453083432,
     "user": {
      "displayName": "Meric Asik",
      "userId": "11394867274007519023"
     },
     "user_tz": -180
    },
    "id": "bpJ_MD_JBbCi"
   },
   "outputs": [],
   "source": [
    "# Loading model and tokenizer\n",
    "model_save_path = '/content/drive/MyDrive/test/bert_model'\n",
    "model = BertForSequenceClassification.from_pretrained(model_save_path)\n",
    "tokenizer = BertTokenizer.from_pretrained(model_save_path)"
   ]
  },
  {
   "cell_type": "code",
   "execution_count": 23,
   "metadata": {
    "colab": {
     "base_uri": "https://localhost:8080/"
    },
    "executionInfo": {
     "elapsed": 15,
     "status": "ok",
     "timestamp": 1722453083433,
     "user": {
      "displayName": "Meric Asik",
      "userId": "11394867274007519023"
     },
     "user_tz": -180
    },
    "id": "3J3BZ3n_CA62",
    "outputId": "9fe7f607-c1bc-4bbc-c1e2-e57d2bb81845"
   },
   "outputs": [
    {
     "name": "stdout",
     "output_type": "stream",
     "text": [
      "Actual Label: human   Prediction: human\n",
      "Actual Label: ai      Prediction: ai\n"
     ]
    }
   ],
   "source": [
    "# Single Text Prediction\n",
    "prediction1 = predict_single_text(model, tokenizer, human_test_text, device)\n",
    "prediction2 = predict_single_text(model, tokenizer, ai_test_text, device)\n",
    "prediction1 = \"human\" if prediction1 == 0 else \"ai\"\n",
    "prediction2 = \"human\" if prediction2 == 0 else \"ai\"\n",
    "print(f\"Actual Label: human   Prediction: {prediction1}\")\n",
    "print(f\"Actual Label: ai      Prediction: {prediction2}\")"
   ]
  },
  {
   "cell_type": "markdown",
   "metadata": {
    "id": "xKDgPlh9BNWh"
   },
   "source": [
    "### RoBERTa"
   ]
  },
  {
   "cell_type": "code",
   "execution_count": 24,
   "metadata": {
    "executionInfo": {
     "elapsed": 29199,
     "status": "ok",
     "timestamp": 1722453116766,
     "user": {
      "displayName": "Meric Asik",
      "userId": "11394867274007519023"
     },
     "user_tz": -180
    },
    "id": "WGyNPpNNCEnF"
   },
   "outputs": [],
   "source": [
    "# Loading model and tokenizer\n",
    "model_save_path = '/content/drive/MyDrive/test/roberta_model'\n",
    "model = RobertaForSequenceClassification.from_pretrained(model_save_path)\n",
    "tokenizer = RobertaTokenizer.from_pretrained(model_save_path)"
   ]
  },
  {
   "cell_type": "code",
   "execution_count": 25,
   "metadata": {
    "colab": {
     "base_uri": "https://localhost:8080/"
    },
    "executionInfo": {
     "elapsed": 13,
     "status": "ok",
     "timestamp": 1722453116766,
     "user": {
      "displayName": "Meric Asik",
      "userId": "11394867274007519023"
     },
     "user_tz": -180
    },
    "id": "XmE3BYaJCEji",
    "outputId": "869b0fe2-0f80-4652-d73b-c4658956ceed"
   },
   "outputs": [
    {
     "name": "stdout",
     "output_type": "stream",
     "text": [
      "Actual Label: human   Prediction: ai\n",
      "Actual Label: ai      Prediction: ai\n"
     ]
    }
   ],
   "source": [
    "# Single Text Prediction\n",
    "prediction1 = predict_single_text(model, tokenizer, human_test_text, device)\n",
    "prediction2 = predict_single_text(model, tokenizer, ai_test_text, device)\n",
    "prediction1 = \"human\" if prediction1 == 0 else \"ai\"\n",
    "prediction2 = \"human\" if prediction2 == 0 else \"ai\"\n",
    "print(f\"Actual Label: human   Prediction: {prediction1}\")\n",
    "print(f\"Actual Label: ai      Prediction: {prediction2}\")"
   ]
  },
  {
   "cell_type": "markdown",
   "metadata": {
    "id": "zZn4-hUcBNOg"
   },
   "source": [
    "### GPT-2"
   ]
  },
  {
   "cell_type": "code",
   "execution_count": 33,
   "metadata": {
    "executionInfo": {
     "elapsed": 27480,
     "status": "ok",
     "timestamp": 1722453269657,
     "user": {
      "displayName": "Meric Asik",
      "userId": "11394867274007519023"
     },
     "user_tz": -180
    },
    "id": "6PToRqMHCjHg"
   },
   "outputs": [],
   "source": [
    "# Loading model and tokenizer\n",
    "model_save_path = '/content/drive/MyDrive/test/gpt2_model'\n",
    "model = GPT2ForSequenceClassification.from_pretrained(model_save_path)\n",
    "tokenizer = GPT2Tokenizer.from_pretrained(model_save_path)"
   ]
  },
  {
   "cell_type": "code",
   "execution_count": 34,
   "metadata": {
    "colab": {
     "base_uri": "https://localhost:8080/"
    },
    "executionInfo": {
     "elapsed": 465,
     "status": "ok",
     "timestamp": 1722453270108,
     "user": {
      "displayName": "Meric Asik",
      "userId": "11394867274007519023"
     },
     "user_tz": -180
    },
    "id": "DWZbuQUsCjEK",
    "outputId": "893966bb-2a6c-4627-d360-39b7700a74b1"
   },
   "outputs": [
    {
     "name": "stdout",
     "output_type": "stream",
     "text": [
      "Actual Label: human   Prediction: ai\n",
      "Actual Label: ai      Prediction: ai\n"
     ]
    }
   ],
   "source": [
    "# Single Text Prediction\n",
    "prediction1 = predict_single_text(model, tokenizer, human_test_text, device)\n",
    "prediction2 = predict_single_text(model, tokenizer, ai_test_text, device)\n",
    "prediction1 = \"human\" if prediction1 == 0 else \"ai\"\n",
    "prediction2 = \"human\" if prediction2 == 0 else \"ai\"\n",
    "print(f\"Actual Label: human   Prediction: {prediction1}\")\n",
    "print(f\"Actual Label: ai      Prediction: {prediction2}\")"
   ]
  },
  {
   "cell_type": "markdown",
   "metadata": {
    "id": "6bIZqpioDFhs"
   },
   "source": [
    "### XLNet"
   ]
  },
  {
   "cell_type": "code",
   "execution_count": 35,
   "metadata": {
    "executionInfo": {
     "elapsed": 20019,
     "status": "ok",
     "timestamp": 1722453290125,
     "user": {
      "displayName": "Meric Asik",
      "userId": "11394867274007519023"
     },
     "user_tz": -180
    },
    "id": "kZYeyMDkDLnZ"
   },
   "outputs": [],
   "source": [
    "# Loading model and tokenizer\n",
    "model_save_path = '/content/drive/MyDrive/test/xlnet_model'\n",
    "model = XLNetForSequenceClassification.from_pretrained(model_save_path)\n",
    "tokenizer = XLNetTokenizer.from_pretrained(model_save_path)"
   ]
  },
  {
   "cell_type": "code",
   "execution_count": 36,
   "metadata": {
    "colab": {
     "base_uri": "https://localhost:8080/"
    },
    "executionInfo": {
     "elapsed": 15,
     "status": "ok",
     "timestamp": 1722453290126,
     "user": {
      "displayName": "Meric Asik",
      "userId": "11394867274007519023"
     },
     "user_tz": -180
    },
    "id": "OqJVdxQnDLkM",
    "outputId": "823c032b-a4f4-47fd-8fa7-174ba1192e09"
   },
   "outputs": [
    {
     "name": "stdout",
     "output_type": "stream",
     "text": [
      "Actual Label: human   Prediction: human\n",
      "Actual Label: ai      Prediction: ai\n"
     ]
    }
   ],
   "source": [
    "# Single Text Prediction\n",
    "prediction1 = predict_single_text(model, tokenizer, human_test_text, device)\n",
    "prediction2 = predict_single_text(model, tokenizer, ai_test_text, device)\n",
    "prediction1 = \"human\" if prediction1 == 0 else \"ai\"\n",
    "prediction2 = \"human\" if prediction2 == 0 else \"ai\"\n",
    "print(f\"Actual Label: human   Prediction: {prediction1}\")\n",
    "print(f\"Actual Label: ai      Prediction: {prediction2}\")"
   ]
  },
  {
   "cell_type": "markdown",
   "metadata": {
    "id": "eGIqFi8sDWgf"
   },
   "source": [
    "### Electra"
   ]
  },
  {
   "cell_type": "code",
   "execution_count": 8,
   "metadata": {
    "executionInfo": {
     "elapsed": 5974,
     "status": "ok",
     "timestamp": 1722452582510,
     "user": {
      "displayName": "Meric Asik",
      "userId": "11394867274007519023"
     },
     "user_tz": -180
    },
    "id": "gh_ZOSgaDYTw"
   },
   "outputs": [],
   "source": [
    "# Loading model and tokenizer\n",
    "model_save_path = '/content/drive/MyDrive/test/electra_model'\n",
    "model = ElectraForSequenceClassification.from_pretrained(model_save_path)\n",
    "tokenizer = ElectraTokenizer.from_pretrained(model_save_path)"
   ]
  },
  {
   "cell_type": "code",
   "execution_count": 10,
   "metadata": {
    "colab": {
     "base_uri": "https://localhost:8080/"
    },
    "executionInfo": {
     "elapsed": 344,
     "status": "ok",
     "timestamp": 1722452753262,
     "user": {
      "displayName": "Meric Asik",
      "userId": "11394867274007519023"
     },
     "user_tz": -180
    },
    "id": "-zuSIvdaDYQO",
    "outputId": "6130f7e8-3586-4c34-bdaa-a9bd21a80d80"
   },
   "outputs": [
    {
     "name": "stdout",
     "output_type": "stream",
     "text": [
      "Actual Label: human   Prediction: human\n",
      "Actual Label: ai      Prediction: ai\n"
     ]
    }
   ],
   "source": [
    "# Single Text Prediction\n",
    "prediction1 = predict_single_text(model, tokenizer, human_test_text, device)\n",
    "prediction2 = predict_single_text(model, tokenizer, ai_test_text, device)\n",
    "prediction1 = \"human\" if prediction1 == 0 else \"ai\"\n",
    "prediction2 = \"human\" if prediction2 == 0 else \"ai\"\n",
    "print(f\"Actual Label: human   Prediction: {prediction1}\")\n",
    "print(f\"Actual Label: ai      Prediction: {prediction2}\")"
   ]
  },
  {
   "cell_type": "markdown",
   "metadata": {
    "id": "OaJVOf2THamQ"
   },
   "source": [
    "### DistilBERT"
   ]
  },
  {
   "cell_type": "code",
   "execution_count": 11,
   "metadata": {
    "executionInfo": {
     "elapsed": 15891,
     "status": "ok",
     "timestamp": 1722452782030,
     "user": {
      "displayName": "Meric Asik",
      "userId": "11394867274007519023"
     },
     "user_tz": -180
    },
    "id": "hbNb0eCuHdI1"
   },
   "outputs": [],
   "source": [
    "# Loading model and tokenizer\n",
    "model_save_path = '/content/drive/MyDrive/test/d_bert_model'\n",
    "model = DistilBertForSequenceClassification.from_pretrained(model_save_path)\n",
    "tokenizer = DistilBertTokenizer.from_pretrained(model_save_path)"
   ]
  },
  {
   "cell_type": "code",
   "execution_count": 12,
   "metadata": {
    "colab": {
     "base_uri": "https://localhost:8080/"
    },
    "executionInfo": {
     "elapsed": 398,
     "status": "ok",
     "timestamp": 1722452785649,
     "user": {
      "displayName": "Meric Asik",
      "userId": "11394867274007519023"
     },
     "user_tz": -180
    },
    "id": "zj3gXUOQHdFf",
    "outputId": "b4835b21-c16c-4921-c65c-98623e1b15e9"
   },
   "outputs": [
    {
     "name": "stdout",
     "output_type": "stream",
     "text": [
      "Actual Label: human   Prediction: human\n",
      "Actual Label: ai      Prediction: ai\n"
     ]
    }
   ],
   "source": [
    "# Single Text Prediction\n",
    "prediction1 = predict_single_text(model, tokenizer, human_test_text, device)\n",
    "prediction2 = predict_single_text(model, tokenizer, ai_test_text, device)\n",
    "prediction1 = \"human\" if prediction1 == 0 else \"ai\"\n",
    "prediction2 = \"human\" if prediction2 == 0 else \"ai\"\n",
    "print(f\"Actual Label: human   Prediction: {prediction1}\")\n",
    "print(f\"Actual Label: ai      Prediction: {prediction2}\")"
   ]
  },
  {
   "cell_type": "markdown",
   "metadata": {
    "id": "1_j9bMANC_z7"
   },
   "source": [
    "## Adversarial Models"
   ]
  },
  {
   "cell_type": "markdown",
   "metadata": {
    "id": "J7bdOaiI-VqU"
   },
   "source": [
    "### BERT"
   ]
  },
  {
   "cell_type": "code",
   "execution_count": 26,
   "metadata": {
    "executionInfo": {
     "elapsed": 10022,
     "status": "ok",
     "timestamp": 1722453141162,
     "user": {
      "displayName": "Meric Asik",
      "userId": "11394867274007519023"
     },
     "user_tz": -180
    },
    "id": "ViXgmrMnlc6q"
   },
   "outputs": [],
   "source": [
    "# Loading model and tokenizer\n",
    "model_save_path = '/content/drive/MyDrive/test/bert_adv_model_last'\n",
    "model = BertForSequenceClassification.from_pretrained(model_save_path)\n",
    "tokenizer = BertTokenizer.from_pretrained(model_save_path)"
   ]
  },
  {
   "cell_type": "code",
   "execution_count": 27,
   "metadata": {
    "colab": {
     "base_uri": "https://localhost:8080/"
    },
    "executionInfo": {
     "elapsed": 15,
     "status": "ok",
     "timestamp": 1722453141162,
     "user": {
      "displayName": "Meric Asik",
      "userId": "11394867274007519023"
     },
     "user_tz": -180
    },
    "id": "3FMlQDenqTRB",
    "outputId": "60333058-5688-4bfc-8b78-f3c8134cfe41"
   },
   "outputs": [
    {
     "name": "stdout",
     "output_type": "stream",
     "text": [
      "Actual Label: human   Prediction: human\n",
      "Actual Label: ai      Prediction: ai\n"
     ]
    }
   ],
   "source": [
    "# Single Text Prediction\n",
    "prediction1 = predict_single_text(model, tokenizer, human_test_text, device)\n",
    "prediction2 = predict_single_text(model, tokenizer, ai_test_text, device)\n",
    "prediction1 = \"human\" if prediction1 == 0 else \"ai\"\n",
    "prediction2 = \"human\" if prediction2 == 0 else \"ai\"\n",
    "print(f\"Actual Label: human   Prediction: {prediction1}\")\n",
    "print(f\"Actual Label: ai      Prediction: {prediction2}\")"
   ]
  },
  {
   "cell_type": "markdown",
   "metadata": {
    "id": "zkffV0kjHwAx"
   },
   "source": [
    "### RoBERTa"
   ]
  },
  {
   "cell_type": "code",
   "execution_count": 30,
   "metadata": {
    "executionInfo": {
     "elapsed": 874,
     "status": "ok",
     "timestamp": 1722453167312,
     "user": {
      "displayName": "Meric Asik",
      "userId": "11394867274007519023"
     },
     "user_tz": -180
    },
    "id": "x8E7F1-6lu3i"
   },
   "outputs": [],
   "source": [
    "# Loading model and tokenizer\n",
    "model_save_path = '/content/drive/MyDrive/test/roberta_adv_model'\n",
    "model = RobertaForSequenceClassification.from_pretrained(model_save_path)\n",
    "tokenizer = RobertaTokenizer.from_pretrained(model_save_path)"
   ]
  },
  {
   "cell_type": "code",
   "execution_count": 31,
   "metadata": {
    "colab": {
     "base_uri": "https://localhost:8080/"
    },
    "executionInfo": {
     "elapsed": 4,
     "status": "ok",
     "timestamp": 1722453167669,
     "user": {
      "displayName": "Meric Asik",
      "userId": "11394867274007519023"
     },
     "user_tz": -180
    },
    "id": "VusBfRyfH6_y",
    "outputId": "041d6c88-9853-4c3c-b1e9-f57b533b0c14"
   },
   "outputs": [
    {
     "name": "stdout",
     "output_type": "stream",
     "text": [
      "Actual Label: human   Prediction: human\n",
      "Actual Label: ai      Prediction: ai\n"
     ]
    }
   ],
   "source": [
    "# Single Text Prediction\n",
    "prediction1 = predict_single_text(model, tokenizer, human_test_text, device)\n",
    "prediction2 = predict_single_text(model, tokenizer, ai_test_text, device)\n",
    "prediction1 = \"human\" if prediction1 == 0 else \"ai\"\n",
    "prediction2 = \"human\" if prediction2 == 0 else \"ai\"\n",
    "print(f\"Actual Label: human   Prediction: {prediction1}\")\n",
    "print(f\"Actual Label: ai      Prediction: {prediction2}\")"
   ]
  },
  {
   "cell_type": "markdown",
   "metadata": {
    "id": "H3jyxIx4IBxF"
   },
   "source": [
    "### GPT-2"
   ]
  },
  {
   "cell_type": "code",
   "execution_count": 37,
   "metadata": {
    "executionInfo": {
     "elapsed": 25186,
     "status": "ok",
     "timestamp": 1722453326934,
     "user": {
      "displayName": "Meric Asik",
      "userId": "11394867274007519023"
     },
     "user_tz": -180
    },
    "id": "vT-vSKLkIC03"
   },
   "outputs": [],
   "source": [
    "# Loading model and tokenizer\n",
    "model_save_path = '/content/drive/MyDrive/test/gpt2_adv_model'\n",
    "model = GPT2ForSequenceClassification.from_pretrained(model_save_path)\n",
    "tokenizer = GPT2Tokenizer.from_pretrained(model_save_path)"
   ]
  },
  {
   "cell_type": "code",
   "execution_count": 38,
   "metadata": {
    "colab": {
     "base_uri": "https://localhost:8080/"
    },
    "executionInfo": {
     "elapsed": 15,
     "status": "ok",
     "timestamp": 1722453326935,
     "user": {
      "displayName": "Meric Asik",
      "userId": "11394867274007519023"
     },
     "user_tz": -180
    },
    "id": "4upxdBTAIEkx",
    "outputId": "3866617d-c1d6-4046-bcc0-c4ee8ab9c231"
   },
   "outputs": [
    {
     "name": "stdout",
     "output_type": "stream",
     "text": [
      "Actual Label: human   Prediction: human\n",
      "Actual Label: ai      Prediction: ai\n"
     ]
    }
   ],
   "source": [
    "# Single Text Prediction\n",
    "prediction1 = predict_single_text(model, tokenizer, human_test_text, device)\n",
    "prediction2 = predict_single_text(model, tokenizer, ai_test_text, device)\n",
    "prediction1 = \"human\" if prediction1 == 0 else \"ai\"\n",
    "prediction2 = \"human\" if prediction2 == 0 else \"ai\"\n",
    "print(f\"Actual Label: human   Prediction: {prediction1}\")\n",
    "print(f\"Actual Label: ai      Prediction: {prediction2}\")"
   ]
  },
  {
   "cell_type": "markdown",
   "metadata": {
    "id": "rg2yPVBeIR1r"
   },
   "source": [
    "### XLNet"
   ]
  },
  {
   "cell_type": "code",
   "execution_count": 39,
   "metadata": {
    "executionInfo": {
     "elapsed": 18747,
     "status": "ok",
     "timestamp": 1722453345668,
     "user": {
      "displayName": "Meric Asik",
      "userId": "11394867274007519023"
     },
     "user_tz": -180
    },
    "id": "lrl67S4MIhky"
   },
   "outputs": [],
   "source": [
    "# Loading model and tokenizer\n",
    "model_save_path = '/content/drive/MyDrive/test/xlnet_adv_model'\n",
    "model = XLNetForSequenceClassification.from_pretrained(model_save_path)\n",
    "tokenizer = XLNetTokenizer.from_pretrained(model_save_path)"
   ]
  },
  {
   "cell_type": "code",
   "execution_count": 40,
   "metadata": {
    "colab": {
     "base_uri": "https://localhost:8080/"
    },
    "executionInfo": {
     "elapsed": 5,
     "status": "ok",
     "timestamp": 1722453345669,
     "user": {
      "displayName": "Meric Asik",
      "userId": "11394867274007519023"
     },
     "user_tz": -180
    },
    "id": "7CawG_bZIj4Z",
    "outputId": "80047aec-5008-4cad-a170-484f93c2d5ba"
   },
   "outputs": [
    {
     "name": "stdout",
     "output_type": "stream",
     "text": [
      "Actual Label: human   Prediction: human\n",
      "Actual Label: ai      Prediction: ai\n"
     ]
    }
   ],
   "source": [
    "# Single Text Prediction\n",
    "prediction1 = predict_single_text(model, tokenizer, human_test_text, device)\n",
    "prediction2 = predict_single_text(model, tokenizer, ai_test_text, device)\n",
    "prediction1 = \"human\" if prediction1 == 0 else \"ai\"\n",
    "prediction2 = \"human\" if prediction2 == 0 else \"ai\"\n",
    "print(f\"Actual Label: human   Prediction: {prediction1}\")\n",
    "print(f\"Actual Label: ai      Prediction: {prediction2}\")"
   ]
  },
  {
   "cell_type": "markdown",
   "metadata": {
    "id": "WbHv0Oz2IqA6"
   },
   "source": [
    "### Electra"
   ]
  },
  {
   "cell_type": "code",
   "execution_count": 14,
   "metadata": {
    "executionInfo": {
     "elapsed": 3212,
     "status": "ok",
     "timestamp": 1722452805496,
     "user": {
      "displayName": "Meric Asik",
      "userId": "11394867274007519023"
     },
     "user_tz": -180
    },
    "id": "jCK95UfaIvSg"
   },
   "outputs": [],
   "source": [
    "# Loading model and tokenizer\n",
    "model_save_path = '/content/drive/MyDrive/test/electra_adv_model'\n",
    "model = ElectraForSequenceClassification.from_pretrained(model_save_path)\n",
    "tokenizer = ElectraTokenizer.from_pretrained(model_save_path)"
   ]
  },
  {
   "cell_type": "code",
   "execution_count": 15,
   "metadata": {
    "colab": {
     "base_uri": "https://localhost:8080/"
    },
    "executionInfo": {
     "elapsed": 344,
     "status": "ok",
     "timestamp": 1722452806880,
     "user": {
      "displayName": "Meric Asik",
      "userId": "11394867274007519023"
     },
     "user_tz": -180
    },
    "id": "kBDBUkTcIxk7",
    "outputId": "0746f374-d924-439d-cf12-b7a4fd2e0fc8"
   },
   "outputs": [
    {
     "name": "stdout",
     "output_type": "stream",
     "text": [
      "Actual Label: human   Prediction: human\n",
      "Actual Label: ai      Prediction: ai\n"
     ]
    }
   ],
   "source": [
    "# Single Text Prediction\n",
    "prediction1 = predict_single_text(model, tokenizer, human_test_text, device)\n",
    "prediction2 = predict_single_text(model, tokenizer, ai_test_text, device)\n",
    "prediction1 = \"human\" if prediction1 == 0 else \"ai\"\n",
    "prediction2 = \"human\" if prediction2 == 0 else \"ai\"\n",
    "print(f\"Actual Label: human   Prediction: {prediction1}\")\n",
    "print(f\"Actual Label: ai      Prediction: {prediction2}\")"
   ]
  },
  {
   "cell_type": "markdown",
   "metadata": {
    "id": "2_YejnCpI8Wt"
   },
   "source": [
    "### DistilBERT"
   ]
  },
  {
   "cell_type": "code",
   "execution_count": 16,
   "metadata": {
    "executionInfo": {
     "elapsed": 7278,
     "status": "ok",
     "timestamp": 1722452819398,
     "user": {
      "displayName": "Meric Asik",
      "userId": "11394867274007519023"
     },
     "user_tz": -180
    },
    "id": "XQpiP8g0I9Mt"
   },
   "outputs": [],
   "source": [
    "# Loading model and tokenizer\n",
    "model_save_path = '/content/drive/MyDrive/test/d_bert_adv_model'\n",
    "model = DistilBertForSequenceClassification.from_pretrained(model_save_path)\n",
    "tokenizer = DistilBertTokenizer.from_pretrained(model_save_path)"
   ]
  },
  {
   "cell_type": "code",
   "execution_count": 17,
   "metadata": {
    "colab": {
     "base_uri": "https://localhost:8080/"
    },
    "executionInfo": {
     "elapsed": 3,
     "status": "ok",
     "timestamp": 1722452819398,
     "user": {
      "displayName": "Meric Asik",
      "userId": "11394867274007519023"
     },
     "user_tz": -180
    },
    "id": "eTXLe5LBI9zM",
    "outputId": "c5dd7be6-f56c-400b-a337-df37da8f73ab"
   },
   "outputs": [
    {
     "name": "stdout",
     "output_type": "stream",
     "text": [
      "Actual Label: human   Prediction: human\n",
      "Actual Label: ai      Prediction: ai\n"
     ]
    }
   ],
   "source": [
    "# Single Text Prediction\n",
    "prediction1 = predict_single_text(model, tokenizer, human_test_text, device)\n",
    "prediction2 = predict_single_text(model, tokenizer, ai_test_text, device)\n",
    "prediction1 = \"human\" if prediction1 == 0 else \"ai\"\n",
    "prediction2 = \"human\" if prediction2 == 0 else \"ai\"\n",
    "print(f\"Actual Label: human   Prediction: {prediction1}\")\n",
    "print(f\"Actual Label: ai      Prediction: {prediction2}\")"
   ]
  }
 ],
 "metadata": {
  "accelerator": "GPU",
  "colab": {
   "authorship_tag": "ABX9TyPv/+N1RtDnaSaZWqQlKZ1n",
   "gpuType": "L4",
   "machine_shape": "hm",
   "provenance": []
  },
  "kernelspec": {
   "display_name": "Python 3 (ipykernel)",
   "language": "python",
   "name": "python3"
  },
  "language_info": {
   "codemirror_mode": {
    "name": "ipython",
    "version": 3
   },
   "file_extension": ".py",
   "mimetype": "text/x-python",
   "name": "python",
   "nbconvert_exporter": "python",
   "pygments_lexer": "ipython3",
   "version": "3.10.9"
  }
 },
 "nbformat": 4,
 "nbformat_minor": 1
}
