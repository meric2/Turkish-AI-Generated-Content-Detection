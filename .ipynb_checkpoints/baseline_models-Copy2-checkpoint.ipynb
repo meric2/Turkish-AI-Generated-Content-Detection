{
 "cells": [
  {
   "cell_type": "code",
   "execution_count": 25,
   "metadata": {},
   "outputs": [],
   "source": [
    "from datasets import load_dataset\n",
    "import pandas as pd\n",
    "import numpy as np\n",
    "import matplotlib.pyplot as plt\n",
    "import seaborn as sns\n",
    "import re\n",
    "from data_augmentation import synonym_replacement, random_insertion, random_swap, random_deletion\n",
    "\n",
    "from sklearn.model_selection import train_test_split\n",
    "from sklearn.feature_extraction.text import CountVectorizer, TfidfVectorizer\n",
    "from sklearn.linear_model import LogisticRegression\n",
    "from sklearn.metrics import accuracy_score, classification_report, confusion_matrix\n",
    "from sklearn.model_selection import KFold, cross_val_score\n",
    "from sklearn.preprocessing import LabelEncoder\n",
    "from sklearn import naive_bayes, svm\n",
    "\n",
    "from nltk.tokenize import word_tokenize\n",
    "from nltk import pos_tag\n",
    "from nltk.corpus import stopwords\n",
    "from nltk.stem import WordNetLemmatizer\n",
    "from collections import defaultdict\n",
    "from nltk.corpus import wordnet as wn\n",
    "import pickle\n",
    "import nltk"
   ]
  },
  {
   "cell_type": "code",
   "execution_count": 26,
   "metadata": {},
   "outputs": [
    {
     "name": "stderr",
     "output_type": "stream",
     "text": [
      "Found cached dataset parquet (C:/Users/halil/.cache/huggingface/datasets/kmkarakaya___parquet/kmkarakaya--turkishReviews-ds-af8fd3a88d6e390a/0.0.0/2a3b91fbd88a2c90d1dbbb32b460cf621d31bd5b05b934492fdef7d8d6f236ec)\n"
     ]
    },
    {
     "data": {
      "application/vnd.jupyter.widget-view+json": {
       "model_id": "6edad6bc597b4e2482954348f10b798f",
       "version_major": 2,
       "version_minor": 0
      },
      "text/plain": [
       "  0%|          | 0/2 [00:00<?, ?it/s]"
      ]
     },
     "metadata": {},
     "output_type": "display_data"
    },
    {
     "data": {
      "text/html": [
       "<div>\n",
       "<style scoped>\n",
       "    .dataframe tbody tr th:only-of-type {\n",
       "        vertical-align: middle;\n",
       "    }\n",
       "\n",
       "    .dataframe tbody tr th {\n",
       "        vertical-align: top;\n",
       "    }\n",
       "\n",
       "    .dataframe thead th {\n",
       "        text-align: right;\n",
       "    }\n",
       "</style>\n",
       "<table border=\"1\" class=\"dataframe\">\n",
       "  <thead>\n",
       "    <tr style=\"text-align: right;\">\n",
       "      <th></th>\n",
       "      <th>review</th>\n",
       "      <th>review_length</th>\n",
       "    </tr>\n",
       "  </thead>\n",
       "  <tbody>\n",
       "    <tr>\n",
       "      <th>0</th>\n",
       "      <td>Okan Üniversitesi Hastanesi'nde Çalışanların S...</td>\n",
       "      <td>45</td>\n",
       "    </tr>\n",
       "    <tr>\n",
       "      <th>1</th>\n",
       "      <td>Ekici Kaşar Peynirinin Peynir İle Alakası Yok....</td>\n",
       "      <td>49</td>\n",
       "    </tr>\n",
       "    <tr>\n",
       "      <th>2</th>\n",
       "      <td>Similac 2 Devam Sütunun İçinden Tahta Çıktı.  ...</td>\n",
       "      <td>55</td>\n",
       "    </tr>\n",
       "    <tr>\n",
       "      <th>3</th>\n",
       "      <td>İlhan Duman Hukuk Bürosu Borç Mesajı Geliyor. ...</td>\n",
       "      <td>44</td>\n",
       "    </tr>\n",
       "    <tr>\n",
       "      <th>4</th>\n",
       "      <td>Samsung Kamera Flaş Sorunu. Alalı 1 gün oldu S...</td>\n",
       "      <td>40</td>\n",
       "    </tr>\n",
       "  </tbody>\n",
       "</table>\n",
       "</div>"
      ],
      "text/plain": [
       "                                              review  review_length\n",
       "0  Okan Üniversitesi Hastanesi'nde Çalışanların S...             45\n",
       "1  Ekici Kaşar Peynirinin Peynir İle Alakası Yok....             49\n",
       "2  Similac 2 Devam Sütunun İçinden Tahta Çıktı.  ...             55\n",
       "3  İlhan Duman Hukuk Bürosu Borç Mesajı Geliyor. ...             44\n",
       "4  Samsung Kamera Flaş Sorunu. Alalı 1 gün oldu S...             40"
      ]
     },
     "execution_count": 26,
     "metadata": {},
     "output_type": "execute_result"
    }
   ],
   "source": [
    "human_data = load_dataset('kmkarakaya/turkishReviews-ds')\n",
    "human_data = human_data['train'].to_pandas()\n",
    "human_data.head()"
   ]
  },
  {
   "cell_type": "code",
   "execution_count": 27,
   "metadata": {},
   "outputs": [
    {
     "data": {
      "text/plain": [
       "(397872, 2)"
      ]
     },
     "execution_count": 27,
     "metadata": {},
     "output_type": "execute_result"
    }
   ],
   "source": [
    "# Some parts of this dataset is used for AI generated review production, so we need to filter out those\n",
    "human_data = human_data.iloc[600:-300].reset_index(drop=True)\n",
    "human_data.shape"
   ]
  },
  {
   "cell_type": "code",
   "execution_count": 28,
   "metadata": {},
   "outputs": [
    {
     "data": {
      "text/plain": [
       "Index(['review', 'review_length'], dtype='object')"
      ]
     },
     "execution_count": 28,
     "metadata": {},
     "output_type": "execute_result"
    }
   ],
   "source": [
    "human_data.columns"
   ]
  },
  {
   "cell_type": "code",
   "execution_count": 29,
   "metadata": {},
   "outputs": [
    {
     "data": {
      "text/html": [
       "<div>\n",
       "<style scoped>\n",
       "    .dataframe tbody tr th:only-of-type {\n",
       "        vertical-align: middle;\n",
       "    }\n",
       "\n",
       "    .dataframe tbody tr th {\n",
       "        vertical-align: top;\n",
       "    }\n",
       "\n",
       "    .dataframe thead th {\n",
       "        text-align: right;\n",
       "    }\n",
       "</style>\n",
       "<table border=\"1\" class=\"dataframe\">\n",
       "  <thead>\n",
       "    <tr style=\"text-align: right;\">\n",
       "      <th></th>\n",
       "      <th>review</th>\n",
       "      <th>review_length</th>\n",
       "    </tr>\n",
       "  </thead>\n",
       "  <tbody>\n",
       "    <tr>\n",
       "      <th>0</th>\n",
       "      <td>Bosch Bulaşık Makinesi Gelmiyor, 31.05.2020 ta...</td>\n",
       "      <td>43</td>\n",
       "    </tr>\n",
       "    <tr>\n",
       "      <th>1</th>\n",
       "      <td>Park Tv'de Tekrarlanan Filmler. Park Tv'deki f...</td>\n",
       "      <td>48</td>\n",
       "    </tr>\n",
       "    <tr>\n",
       "      <th>2</th>\n",
       "      <td>Grundig Servis Asla Gelmiyor. 15 05 2020 tarih...</td>\n",
       "      <td>52</td>\n",
       "    </tr>\n",
       "    <tr>\n",
       "      <th>3</th>\n",
       "      <td>Ziraat Sigorta Zorunlu Olmayan Poliçelerin Yen...</td>\n",
       "      <td>45</td>\n",
       "    </tr>\n",
       "    <tr>\n",
       "      <th>4</th>\n",
       "      <td>Vestel Ürünleri Maalesef Kötü Ve Değişim Yok. ...</td>\n",
       "      <td>35</td>\n",
       "    </tr>\n",
       "  </tbody>\n",
       "</table>\n",
       "</div>"
      ],
      "text/plain": [
       "                                              review  review_length\n",
       "0  Bosch Bulaşık Makinesi Gelmiyor, 31.05.2020 ta...             43\n",
       "1  Park Tv'de Tekrarlanan Filmler. Park Tv'deki f...             48\n",
       "2  Grundig Servis Asla Gelmiyor. 15 05 2020 tarih...             52\n",
       "3  Ziraat Sigorta Zorunlu Olmayan Poliçelerin Yen...             45\n",
       "4  Vestel Ürünleri Maalesef Kötü Ve Değişim Yok. ...             35"
      ]
     },
     "execution_count": 29,
     "metadata": {},
     "output_type": "execute_result"
    }
   ],
   "source": [
    "# All the reviews contain their titles as the first sentence. They can be removed to make the dataset more clean.\n",
    "human_data['review'] = human_data['review'].apply(lambda x: re.sub(r'^.*\\n', '', x))\n",
    "\n",
    "# Update review lengths after removing titles\n",
    "human_data['review_length'] = human_data['review'].apply(lambda x: len(x.split()))\n",
    "\n",
    "human_data.head()"
   ]
  },
  {
   "cell_type": "code",
   "execution_count": 30,
   "metadata": {},
   "outputs": [
    {
     "data": {
      "text/html": [
       "<div>\n",
       "<style scoped>\n",
       "    .dataframe tbody tr th:only-of-type {\n",
       "        vertical-align: middle;\n",
       "    }\n",
       "\n",
       "    .dataframe tbody tr th {\n",
       "        vertical-align: top;\n",
       "    }\n",
       "\n",
       "    .dataframe thead th {\n",
       "        text-align: right;\n",
       "    }\n",
       "</style>\n",
       "<table border=\"1\" class=\"dataframe\">\n",
       "  <thead>\n",
       "    <tr style=\"text-align: right;\">\n",
       "      <th></th>\n",
       "      <th>text</th>\n",
       "      <th>model</th>\n",
       "      <th>instruction</th>\n",
       "    </tr>\n",
       "  </thead>\n",
       "  <tbody>\n",
       "    <tr>\n",
       "      <th>0</th>\n",
       "      <td>Akbank Müşteri Hizmetleri ile yaşadığım deneyi...</td>\n",
       "      <td>GPT-4o</td>\n",
       "      <td>Akbank Müşteri Hizmetleri Hakkında</td>\n",
       "    </tr>\n",
       "    <tr>\n",
       "      <th>1</th>\n",
       "      <td>Cinemaximum’un vizyona sokulmayan filmler poli...</td>\n",
       "      <td>GPT-4o</td>\n",
       "      <td>Cinemaximum Vizyona Sokulmayan Filmler</td>\n",
       "    </tr>\n",
       "    <tr>\n",
       "      <th>2</th>\n",
       "      <td>Media Markt'tan birkaç saat önce verdiğim sipa...</td>\n",
       "      <td>GPT-4o</td>\n",
       "      <td>Media Markt Birkaç Saat Önce Verilen Siparişte...</td>\n",
       "    </tr>\n",
       "    <tr>\n",
       "      <th>3</th>\n",
       "      <td>Ulusal Elektronik’ten alışveriş yapmayı kesinl...</td>\n",
       "      <td>GPT-4o</td>\n",
       "      <td>Ulusal Elektronikten Uzak Durmalı.</td>\n",
       "    </tr>\n",
       "    <tr>\n",
       "      <th>4</th>\n",
       "      <td>Vanish Kosla kullanarak çıkarmak istediğim lek...</td>\n",
       "      <td>GPT-4o</td>\n",
       "      <td>Vanish Kosla Leke Yaptı</td>\n",
       "    </tr>\n",
       "  </tbody>\n",
       "</table>\n",
       "</div>"
      ],
      "text/plain": [
       "                                                text   model  \\\n",
       "0  Akbank Müşteri Hizmetleri ile yaşadığım deneyi...  GPT-4o   \n",
       "1  Cinemaximum’un vizyona sokulmayan filmler poli...  GPT-4o   \n",
       "2  Media Markt'tan birkaç saat önce verdiğim sipa...  GPT-4o   \n",
       "3  Ulusal Elektronik’ten alışveriş yapmayı kesinl...  GPT-4o   \n",
       "4  Vanish Kosla kullanarak çıkarmak istediğim lek...  GPT-4o   \n",
       "\n",
       "                                         instruction  \n",
       "0                 Akbank Müşteri Hizmetleri Hakkında  \n",
       "1             Cinemaximum Vizyona Sokulmayan Filmler  \n",
       "2  Media Markt Birkaç Saat Önce Verilen Siparişte...  \n",
       "3                 Ulusal Elektronikten Uzak Durmalı.  \n",
       "4                            Vanish Kosla Leke Yaptı  "
      ]
     },
     "execution_count": 30,
     "metadata": {},
     "output_type": "execute_result"
    }
   ],
   "source": [
    "ai_data = pd.read_excel('AI_Complaints.xlsx')\n",
    "ai_data.head()"
   ]
  },
  {
   "cell_type": "code",
   "execution_count": 31,
   "metadata": {},
   "outputs": [
    {
     "name": "stdout",
     "output_type": "stream",
     "text": [
      "AI Data Shape:  (315, 3)\n",
      "Human Data Shape:  (397872, 2)\n",
      "Human Data:\n",
      "        review_length\n",
      "count  397872.000000\n",
      "mean       46.002018\n",
      "std         5.194693\n",
      "min        29.000000\n",
      "25%        43.000000\n",
      "50%        46.000000\n",
      "75%        49.000000\n",
      "max       176.000000\n",
      "Human Data Columns:  Index(['review', 'review_length'], dtype='object')\n",
      "Human Data Number of Words:  46.00201823702095\n",
      "Human Data Maximum Number of Words:  176\n",
      "Human Data Minimum Number of Words:  29\n"
     ]
    }
   ],
   "source": [
    "print(\"AI Data Shape: \", ai_data.shape)\n",
    "print(\"Human Data Shape: \", human_data.shape)\n",
    "print(\"Human Data:\\n\", human_data.describe())\n",
    "print(\"Human Data Columns: \", human_data.columns)\n",
    "print(\"Human Data Number of Words: \", human_data['review_length'].mean())\n",
    "print(\"Human Data Maximum Number of Words: \", human_data['review_length'].max())\n",
    "print(\"Human Data Minimum Number of Words: \", human_data['review_length'].min())"
   ]
  },
  {
   "cell_type": "code",
   "execution_count": 32,
   "metadata": {
    "scrolled": true
   },
   "outputs": [
    {
     "name": "stdout",
     "output_type": "stream",
     "text": [
      "Human Data Shape:  (397872, 2)\n",
      "Human Data:         review_length\n",
      "count  397872.000000\n",
      "mean       46.002018\n",
      "std         5.194693\n",
      "min        29.000000\n",
      "25%        43.000000\n",
      "50%        46.000000\n",
      "75%        49.000000\n",
      "max       176.000000\n",
      "Human Data Num of Words:  46.00201823702095\n"
     ]
    }
   ],
   "source": [
    "# Human dataset\n",
    "print(\"Human Data Shape: \", human_data.shape)\n",
    "print(\"Human Data: \", human_data.describe())\n",
    "print(\"Human Data Num of Words: \", human_data['review_length'].mean())"
   ]
  },
  {
   "cell_type": "code",
   "execution_count": 33,
   "metadata": {},
   "outputs": [
    {
     "data": {
      "image/png": "[encoded data removed]",
      "text/plain": [
       "<Figure size 1000x600 with 1 Axes>"
      ]
     },
     "metadata": {},
     "output_type": "display_data"
    }
   ],
   "source": [
    "# Text Length Distribution for Human Data\n",
    "plt.figure(figsize=(10, 6))\n",
    "sns.histplot(human_data['review_length'], bins=50)\n",
    "plt.title('Distribution of Review Lengths of Human Data')\n",
    "plt.xlabel('Review Length')\n",
    "plt.ylabel('Frequency')\n",
    "plt.show()"
   ]
  },
  {
   "cell_type": "code",
   "execution_count": 34,
   "metadata": {},
   "outputs": [
    {
     "data": {
      "image/png": "[encoded data removed]",
      "text/plain": [
       "<Figure size 1000x600 with 1 Axes>"
      ]
     },
     "metadata": {},
     "output_type": "display_data"
    }
   ],
   "source": [
    "# Text Length Distribution for AI Data\n",
    "ai_data['review_length'] = ai_data['text'].apply(lambda x: len(x.split()))\n",
    "\n",
    "plt.figure(figsize=(10, 6))\n",
    "sns.histplot(ai_data['review_length'], bins=50)\n",
    "plt.title('Distribution of Review Lengths of AI Generated Data')\n",
    "plt.xlabel('Review Length')\n",
    "plt.ylabel('Frequency')\n",
    "plt.show()"
   ]
  },
  {
   "cell_type": "code",
   "execution_count": 35,
   "metadata": {},
   "outputs": [
    {
     "data": {
      "text/html": [
       "<div>\n",
       "<style scoped>\n",
       "    .dataframe tbody tr th:only-of-type {\n",
       "        vertical-align: middle;\n",
       "    }\n",
       "\n",
       "    .dataframe tbody tr th {\n",
       "        vertical-align: top;\n",
       "    }\n",
       "\n",
       "    .dataframe thead th {\n",
       "        text-align: right;\n",
       "    }\n",
       "</style>\n",
       "<table border=\"1\" class=\"dataframe\">\n",
       "  <thead>\n",
       "    <tr style=\"text-align: right;\">\n",
       "      <th></th>\n",
       "      <th>text</th>\n",
       "      <th>label</th>\n",
       "    </tr>\n",
       "  </thead>\n",
       "  <tbody>\n",
       "    <tr>\n",
       "      <th>0</th>\n",
       "      <td>Bosch Bulaşık Makinesi Gelmiyor, 31.05.2020 ta...</td>\n",
       "      <td>human</td>\n",
       "    </tr>\n",
       "    <tr>\n",
       "      <th>1</th>\n",
       "      <td>Park Tv'de Tekrarlanan Filmler. Park Tv'deki f...</td>\n",
       "      <td>human</td>\n",
       "    </tr>\n",
       "    <tr>\n",
       "      <th>2</th>\n",
       "      <td>Grundig Servis Asla Gelmiyor. 15 05 2020 tarih...</td>\n",
       "      <td>human</td>\n",
       "    </tr>\n",
       "    <tr>\n",
       "      <th>3</th>\n",
       "      <td>Ziraat Sigorta Zorunlu Olmayan Poliçelerin Yen...</td>\n",
       "      <td>human</td>\n",
       "    </tr>\n",
       "    <tr>\n",
       "      <th>4</th>\n",
       "      <td>Vestel Ürünleri Maalesef Kötü Ve Değişim Yok. ...</td>\n",
       "      <td>human</td>\n",
       "    </tr>\n",
       "  </tbody>\n",
       "</table>\n",
       "</div>"
      ],
      "text/plain": [
       "                                                text  label\n",
       "0  Bosch Bulaşık Makinesi Gelmiyor, 31.05.2020 ta...  human\n",
       "1  Park Tv'de Tekrarlanan Filmler. Park Tv'deki f...  human\n",
       "2  Grundig Servis Asla Gelmiyor. 15 05 2020 tarih...  human\n",
       "3  Ziraat Sigorta Zorunlu Olmayan Poliçelerin Yen...  human\n",
       "4  Vestel Ürünleri Maalesef Kötü Ve Değişim Yok. ...  human"
      ]
     },
     "execution_count": 35,
     "metadata": {},
     "output_type": "execute_result"
    }
   ],
   "source": [
    "human_data['label'] = 'human'\n",
    "human_data['text'] = human_data['review']\n",
    "ai_data['label'] = 'ai'\n",
    "human_data = human_data[['text', 'label']]\n",
    "ai_data = ai_data[['text', 'label']]\n",
    "\n",
    "\n",
    "dataset = pd.concat([human_data, ai_data], ignore_index=True)\n",
    "dataset.head()"
   ]
  },
  {
   "cell_type": "markdown",
   "metadata": {},
   "source": [
    "# Preprocess AI Generated Data"
   ]
  },
  {
   "cell_type": "code",
   "execution_count": 36,
   "metadata": {},
   "outputs": [
    {
     "name": "stderr",
     "output_type": "stream",
     "text": [
      "[nltk_data] Downloading package stopwords to\n",
      "[nltk_data]     C:\\Users\\halil\\AppData\\Roaming\\nltk_data...\n",
      "[nltk_data]   Package stopwords is already up-to-date!\n"
     ]
    },
    {
     "name": "stdout",
     "output_type": "stream",
     "text": [
      "                                                  text label\n",
      "0    akbank müşter hizmet yaşadık de hayal kırıklık...    ai\n",
      "1    cinemaxim vizyo sokulmaya film politikas cidi ...    ai\n",
      "2    media markt saat ö verdik sipariş renk değişik...    ai\n",
      "3    ulusal elektronik alışveriş yapma kesinlik tav...    ai\n",
      "4    vanish kos kullanarak çıkarmak istedik lek köt...    ai\n",
      "..                                                 ...   ...\n",
      "310  cinemaxim y maxipar yüklemes yapamıyor dur ger...    ai\n",
      "311  ziraat banka destek kredis başvuru bul sonuçla...    ai\n",
      "312  denizli aras kargo çamlık şube ür bekletiliyor...    ai\n",
      "313  iç kaşar peynir al ancak ür açtık iç gele gaz ...    ai\n",
      "314  thyden bir uçuş coro sebep iptal edildik bilet...    ai\n",
      "\n",
      "[315 rows x 2 columns]\n"
     ]
    }
   ],
   "source": [
    "import re\n",
    "import nltk\n",
    "from nltk.corpus import stopwords\n",
    "from nltk.tokenize import word_tokenize\n",
    "from snowballstemmer import TurkishStemmer\n",
    "\n",
    "# Stopwords listesi yükleniyor\n",
    "nltk.download('stopwords')\n",
    "turkish_stopwords = stopwords.words('turkish')\n",
    "\n",
    "# Kelime kökü bulucu\n",
    "stemmer = TurkishStemmer()\n",
    "\n",
    "def preprocess_text(text):\n",
    "    # Küçük harfe çevirme\n",
    "    text = text.lower()\n",
    "    # Noktalama işaretlerini çıkarma\n",
    "    text = re.sub(r'[^\\w\\s]', '', text)\n",
    "    # Rakamları çıkarma\n",
    "    text = re.sub(r'\\d+', '', text)\n",
    "    # Tokenleme\n",
    "    words = word_tokenize(text)\n",
    "    # Durdurma kelimelerini çıkarma ve stemming\n",
    "    words = [stemmer.stemWord(word) for word in words if word not in turkish_stopwords]\n",
    "    # Temizlenmiş metni birleştirme\n",
    "    return ' '.join(words)\n",
    "\n",
    "# AI veri setindeki metinleri ön işlemeden geçirme\n",
    "ai_data['text'] = ai_data['text'].apply(preprocess_text)\n",
    "print(ai_data)"
   ]
  },
  {
   "cell_type": "code",
   "execution_count": 54,
   "metadata": {},
   "outputs": [
    {
     "name": "stdout",
     "output_type": "stream",
     "text": [
      "Bosch Bulaşık Makinesi Gelmiyor, 31.05.2020 tarihinde bulaşık makinesi aldık internet mağazasından hala ne gelen var ne giden ne arayan müşteri hizmetlerini arıyorum herhangi bir muhatap yok internet destek ekibine bildiriyoruz diyorlar kayıt oluşturuyorlar başka da bir şey yok. 1107017258 bulaşık makinesi sipariş numarası. \n",
      "\n",
      "bosch bulaşık makines gelmiyor tarih bulaşık makines al internet mağaza hal gele var gi araya müşter hizmet arıyor herhangi bir muhatap yok internet destek ekip bildiriyor diyor kayıt oluşturuyor başka bir yok bulaşık makines sipariş numaras \n",
      "\n",
      "Park Tv'de Tekrarlanan Filmler. Park Tv'deki filmleri ilgiyle izliyordum. Özellikle de korona sürecinde film izlemek en büyük hobim oldu. Ancak kanalınızda sürekli aynı filmler dönmeye başladı ve bu çok sık oluyor. Arşivinizde örneğin Western filmleri yok mu? Ya da film arşivinizi genişletemiyor musunuz? Çok can sıkıcı bir durum. \n",
      "\n",
      "park tvde tekrarlana film park tvdek film ilgi izliyor özellik koro süreç film izlemek büyük hop ol ancak kanal sürekli aynı film dönme başladı sık oluyor arşiv örnek western film yok film arşiv genişletemiyor mu can sıkıç bir dur \n",
      "\n",
      "Grundig Servis Asla Gelmiyor. 15 05 2020 tarihinde çamaşır makinesi aldım servis 20 05 2020 saat 14 00-16 00 randevu vermesine rağmen gelmedi. 21 05 2020 e yeni randevu verdi yine gelmedi. Servisi defalarca aradım telefonu bile açmadılar çağrı merkezi ile yaptığım görüşmelerde sonuca ulaşmayınca ürünü satan bayi ye gittim o tele \n",
      "\n",
      "grundigi servis as gelmiyor tarih çamaşır makines al servis saat randevu verme rağme gelmedi e ye randevu ver y gelmedi servis defa aradı telefo bil açmadı çağrı merkez yaptık görüşme sonuç ulaşmay ür sa bayi ye git tel \n",
      "\n"
     ]
    }
   ],
   "source": [
    "sampling = human_data.iloc[0:3].reset_index(drop=True)\n",
    "print(sampling['text'][0], \"\\n\")\n",
    "print(preprocess_text(sampling['text'][0]), \"\\n\")\n",
    "print(sampling['text'][1], \"\\n\")\n",
    "print(preprocess_text(sampling['text'][1]), \"\\n\")\n",
    "print(sampling['text'][2], \"\\n\")\n",
    "print(preprocess_text(sampling['text'][2]), \"\\n\")"
   ]
  },
  {
   "cell_type": "markdown",
   "metadata": {},
   "source": [
    "# Augmentation Function for AI Data"
   ]
  },
  {
   "cell_type": "code",
   "execution_count": 37,
   "metadata": {},
   "outputs": [],
   "source": [
    "def augment_data(ai_data):\n",
    "    # Split data into training and testing sets\n",
    "    train_ai_df, test_ai_df = train_test_split(ai_data, test_size=0.3, random_state=42)\n",
    "    \n",
    "    # Augment training data\n",
    "    augmented_texts = []\n",
    "    for index, row in train_ai_df.iterrows():\n",
    "        text = row['text']\n",
    "        # Apply multiple transformations\n",
    "        for _ in range(5):  # Repeat each transformation 5 times\n",
    "            augmented_texts.append(synonym_replacement(text, n=2))\n",
    "            augmented_texts.append(random_insertion(text, n=3))\n",
    "            augmented_texts.append(random_swap(text, n=2))\n",
    "            augmented_texts.append(random_deletion(text, p=0.1))\n",
    "\n",
    "    train_ai_augmented = pd.DataFrame(augmented_texts, columns=['text'])\n",
    "    train_ai_augmented['label'] = 'ai'\n",
    "\n",
    "    # Augment test data\n",
    "    augmented_texts = []\n",
    "    for index, row in test_ai_df.iterrows():\n",
    "        text = row['text']\n",
    "        # Apply multiple transformations\n",
    "        for _ in range(5):  # Repeat each transformation 5 times\n",
    "            augmented_texts.append(synonym_replacement(text, n=2))\n",
    "            augmented_texts.append(random_insertion(text, n=3))\n",
    "            augmented_texts.append(random_swap(text, n=2))\n",
    "            augmented_texts.append(random_deletion(text, p=0.1))\n",
    "\n",
    "    test_ai_augmented = pd.DataFrame(augmented_texts, columns=['text'])\n",
    "    test_ai_augmented['label'] = 'ai'\n",
    "\n",
    "    return train_ai_augmented, test_ai_augmented\n"
   ]
  },
  {
   "cell_type": "markdown",
   "metadata": {},
   "source": [
    "## TRAINING MODELS"
   ]
  },
  {
   "cell_type": "code",
   "execution_count": 64,
   "metadata": {
    "scrolled": false
   },
   "outputs": [
    {
     "name": "stdout",
     "output_type": "stream",
     "text": [
      "1. Iteration -> LR Pred: 0.9562005277044855, Naive Pred: 0.9527704485488127, SVM Pred: 0.9129287598944591 \n",
      "2. Iteration -> LR Pred: 0.950395778364116, Naive Pred: 0.9480211081794195, SVM Pred: 0.9145118733509234 \n",
      "3. Iteration -> LR Pred: 0.9585751978891821, Naive Pred: 0.9517150395778364, SVM Pred: 0.9200527704485488 \n",
      "4. Iteration -> LR Pred: 0.9569920844327177, Naive Pred: 0.950395778364116, SVM Pred: 0.9116094986807388 \n",
      "5. Iteration -> LR Pred: 0.9596306068601583, Naive Pred: 0.9506596306068602, SVM Pred: 0.9087071240105541 \n",
      "6. Iteration -> LR Pred: 0.954353562005277, Naive Pred: 0.9519788918205805, SVM Pred: 0.9274406332453826 \n",
      "7. Iteration -> LR Pred: 0.9525065963060686, Naive Pred: 0.9532981530343008, SVM Pred: 0.9195250659630607 \n",
      "8. Iteration -> LR Pred: 0.9554089709762533, Naive Pred: 0.9490765171503958, SVM Pred: 0.9271767810026386 \n",
      "9. Iteration -> LR Pred: 0.9509234828496043, Naive Pred: 0.9532981530343008, SVM Pred: 0.9253298153034301 \n",
      "10. Iteration -> LR Pred: 0.9538258575197889, Naive Pred: 0.9467018469656993, SVM Pred: 0.9224274406332453 \n",
      "LR: [0.9562005277044855, 0.950395778364116, 0.9585751978891821, 0.9569920844327177, 0.9596306068601583, 0.954353562005277, 0.9525065963060686, 0.9554089709762533, 0.9509234828496043, 0.9538258575197889]\n",
      "NB: [0.9527704485488127, 0.9480211081794195, 0.9517150395778364, 0.950395778364116, 0.9506596306068602, 0.9519788918205805, 0.9532981530343008, 0.9490765171503958, 0.9532981530343008, 0.9467018469656993]\n",
      "SVM: [0.9129287598944591, 0.9145118733509234, 0.9200527704485488, 0.9116094986807388, 0.9087071240105541, 0.9274406332453826, 0.9195250659630607, 0.9271767810026386, 0.9253298153034301, 0.9224274406332453]\n",
      "Average Accuracy for LR:  0.9548812664907651\n",
      "Average Accuracy for NB:  0.9507915567282321\n",
      "Average Accuracy for SVM:  0.9189709762532982\n"
     ]
    }
   ],
   "source": [
    "# Initialize lists to store results\n",
    "all_accuracies = {'LR': [], 'NB': [], 'SVM': []}\n",
    "all_conf_matrices = {'LR': [], 'NB': [], 'SVM': []}\n",
    "\n",
    "# Loop to train and evaluate models\n",
    "for i in range(10):\n",
    "    # Augment AI data and sample human data\n",
    "    train_ai_augmented, test_ai_augmented = augment_data(ai_data)\n",
    "    num_of_samples = len(train_ai_augmented) + len(test_ai_augmented)\n",
    "    sampled_human_data = human_data.sample(n=num_of_samples, random_state=i)\n",
    "    \n",
    "    # Preprocess sampled human data\n",
    "    sampled_human_data['text'] = sampled_human_data['text'].apply(preprocess_text)\n",
    "    train_human_df, test_human_df = train_test_split(sampled_human_data, test_size=0.3, random_state=i)\n",
    "    \n",
    "    # Combine and shuffle datasets\n",
    "    combined_train_df = pd.concat([train_ai_augmented, train_human_df])\n",
    "    combined_test_df = pd.concat([test_ai_augmented, test_human_df])\n",
    "\n",
    "    # Encode labels\n",
    "    Encoder = LabelEncoder()\n",
    "    Train_Y = Encoder.fit_transform(combined_train_df['label'])\n",
    "    Test_Y = Encoder.transform(combined_test_df['label'])\n",
    "\n",
    "    # Vectorization\n",
    "    Tfidf_vect = TfidfVectorizer(max_features=1000)\n",
    "    Tfidf_vect.fit(pd.concat([ai_data['text'], human_data['text']]))  # Use full text data for fitting\n",
    "    Train_X_Tfidf = Tfidf_vect.transform(combined_train_df['text'])\n",
    "    Test_X_Tfidf = Tfidf_vect.transform(combined_test_df['text'])\n",
    "\n",
    "    # Logistic Regression\n",
    "    vectorizer = CountVectorizer(ngram_range=(1,3))\n",
    "    X_train = vectorizer.fit_transform(combined_train_df['text'])\n",
    "    X_test = vectorizer.transform(combined_test_df['text'])\n",
    "\n",
    "    log_reg = LogisticRegression()\n",
    "    log_reg.fit(X_train, Train_Y)\n",
    "\n",
    "    predictions_LR = log_reg.predict(X_test)\n",
    "    acc_lr = accuracy_score(predictions_LR, Test_Y)\n",
    "    all_accuracies['LR'].append(acc_lr)\n",
    "    all_conf_matrices['LR'].append(confusion_matrix(Test_Y, predictions_LR))\n",
    "\n",
    "    # Naive Bayes\n",
    "    Naive = naive_bayes.MultinomialNB()\n",
    "    Naive.fit(Train_X_Tfidf, Train_Y)\n",
    "    predictions_NB = Naive.predict(Test_X_Tfidf)\n",
    "    acc_naive = accuracy_score(predictions_NB, Test_Y)\n",
    "    all_accuracies['NB'].append(acc_naive)\n",
    "    all_conf_matrices['NB'].append(confusion_matrix(Test_Y, predictions_NB))\n",
    "\n",
    "    # SVM\n",
    "    SVM = svm.SVC(C=1.0, kernel='linear', degree=3, gamma='auto')\n",
    "    SVM.fit(Train_X_Tfidf, Train_Y)\n",
    "    predictions_SVM = SVM.predict(Test_X_Tfidf)\n",
    "    acc_svm = accuracy_score(predictions_SVM, Test_Y)\n",
    "    all_accuracies['SVM'].append(acc_svm)\n",
    "    all_conf_matrices['SVM'].append(confusion_matrix(Test_Y, predictions_SVM))\n",
    "    print(f\"{i+1}. Iteration -> LR Pred: {acc_lr}, Naive Pred: {acc_naive}, SVM Pred: {acc_svm} \")\n",
    "\n",
    "# Display results\n",
    "print(f\"LR: {all_accuracies['LR']}\")\n",
    "print(f\"NB: {all_accuracies['NB']}\")\n",
    "print(f\"SVM: {all_accuracies['SVM']}\")\n",
    "print(\"Average Accuracy for LR: \", np.mean(all_accuracies['LR']))\n",
    "print(\"Average Accuracy for NB: \", np.mean(all_accuracies['NB']))\n",
    "print(\"Average Accuracy for SVM: \", np.mean(all_accuracies['SVM']))"
   ]
  },
  {
   "cell_type": "code",
   "execution_count": 65,
   "metadata": {},
   "outputs": [
    {
     "data": {
      "image/png": "[encoded data removed]",
      "text/plain": [
       "<Figure size 1800x600 with 3 Axes>"
      ]
     },
     "metadata": {},
     "output_type": "display_data"
    }
   ],
   "source": [
    "import numpy as np\n",
    "import matplotlib.pyplot as plt\n",
    "import seaborn as sns\n",
    "\n",
    "# Define function to calculate the mean of confusion matrices\n",
    "def mean_confusion_matrix(conf_matrices):\n",
    "    sum_matrix = np.zeros_like(conf_matrices[0])\n",
    "    for matrix in conf_matrices:\n",
    "        sum_matrix += matrix\n",
    "    return sum_matrix / len(conf_matrices)\n",
    "\n",
    "# Calculate mean confusion matrices for each model\n",
    "mean_cm_LR = mean_confusion_matrix(all_conf_matrices['LR'])\n",
    "mean_cm_NB = mean_confusion_matrix(all_conf_matrices['NB'])\n",
    "mean_cm_SVM = mean_confusion_matrix(all_conf_matrices['SVM'])\n",
    "\n",
    "# Plotting function\n",
    "def plot_confusion_matrix(cm, title, ax):\n",
    "    sns.heatmap(cm, annot=True, fmt=\".2f\", cmap='Blues', cbar=False, ax=ax)\n",
    "    ax.set_title(title)\n",
    "    ax.set_xlabel('Predicted Labels')\n",
    "    ax.set_ylabel('True Labels')\n",
    "    ax.set_xticklabels(['AI', 'Human'])\n",
    "    ax.set_yticklabels(['AI', 'Human'])\n",
    "\n",
    "fig, axes = plt.subplots(1, 3, figsize=(18, 6))\n",
    "plot_confusion_matrix(mean_cm_LR, 'Logistic Regression', axes[0])\n",
    "plot_confusion_matrix(mean_cm_NB, 'Naive Bayes', axes[1])\n",
    "plot_confusion_matrix(mean_cm_SVM, 'SVM', axes[2])\n",
    "plt.tight_layout()\n",
    "plt.show()\n"
   ]
  },
  {
   "cell_type": "markdown",
   "metadata": {},
   "source": [
    "# The model seem to work too good. Let's see the results with cross validation"
   ]
  },
  {
   "cell_type": "code",
   "execution_count": 21,
   "metadata": {},
   "outputs": [
    {
     "name": "stdout",
     "output_type": "stream",
     "text": [
      "Cross-Validation Average Accuracy: 0.9995459704880817\n",
      "Test Set Accuracy: 0.9559366754617414\n",
      "Classification Report on Test Set:\n",
      "               precision    recall  f1-score   support\n",
      "\n",
      "          ai       1.00      0.91      0.95      1900\n",
      "       human       0.92      1.00      0.96      1890\n",
      "\n",
      "    accuracy                           0.96      3790\n",
      "   macro avg       0.96      0.96      0.96      3790\n",
      "weighted avg       0.96      0.96      0.96      3790\n",
      "\n"
     ]
    },
    {
     "data": {
      "image/png": "[encoded data removed]",
      "text/plain": [
       "<Figure size 640x480 with 2 Axes>"
      ]
     },
     "metadata": {},
     "output_type": "display_data"
    }
   ],
   "source": [
    "# Split data into training and testing sets\n",
    "vectorizer = CountVectorizer(ngram_range=(1,3))\n",
    "X_train = vectorizer.fit_transform(combined_train_df['text'])\n",
    "X_test = vectorizer.transform(combined_test_df['text'])\n",
    "\n",
    "y_train = combined_train_df['label'].values\n",
    "y_test = combined_test_df['label'].values\n",
    "\n",
    "# Initialize KFold for the training set only\n",
    "kf = KFold(n_splits=5, shuffle=True, random_state=42)\n",
    "\n",
    "# Initialize the Logistic Regression model\n",
    "model = LogisticRegression(max_iter=1000)\n",
    "\n",
    "# Lists to store results for each fold\n",
    "accuracies = []\n",
    "class_reports = []\n",
    "conf_matrices = []\n",
    "\n",
    "# Perform cross-validation on the training data only\n",
    "for train_index, val_index in kf.split(X_train):\n",
    "    X_train_fold, X_val_fold = X_train[train_index], X_train[val_index]\n",
    "    y_train_fold, y_val_fold = y_train[train_index], y_train[val_index]\n",
    "\n",
    "    # Train the model on the fold\n",
    "    model.fit(X_train_fold, y_train_fold)\n",
    "    \n",
    "    # Make predictions on the validation fold\n",
    "    predictions = model.predict(X_val_fold)\n",
    "    \n",
    "    # Metrics calculation\n",
    "    accuracies.append(accuracy_score(y_val_fold, predictions))\n",
    "    class_reports.append(classification_report(y_val_fold, predictions, output_dict=True))\n",
    "    conf_matrices.append(confusion_matrix(y_val_fold, predictions))\n",
    "\n",
    "# Evaluate the final model on the test set\n",
    "final_predictions = model.predict(X_test)\n",
    "final_accuracy = accuracy_score(y_test, final_predictions)\n",
    "final_class_report = classification_report(y_test, final_predictions)\n",
    "final_conf_matrix = confusion_matrix(y_test, final_predictions)\n",
    "\n",
    "# Display results\n",
    "print(\"Cross-Validation Average Accuracy:\", np.mean(accuracies))\n",
    "print(\"Test Set Accuracy:\", final_accuracy)\n",
    "print(\"Classification Report on Test Set:\\n\", final_class_report)\n",
    "\n",
    "# Display confusion matrix for the test set\n",
    "sns.heatmap(final_conf_matrix, annot=True, fmt='d', cmap='Blues', xticklabels=['AI', 'Human'], yticklabels=['AI', 'Human'])\n",
    "plt.ylabel('Actual')\n",
    "plt.xlabel('Predicted')\n",
    "plt.title('Test Set Confusion Matrix')\n",
    "plt.show()"
   ]
  },
  {
   "cell_type": "code",
   "execution_count": null,
   "metadata": {},
   "outputs": [],
   "source": []
  }
 ],
 "metadata": {
  "kernelspec": {
   "display_name": "Python 3 (ipykernel)",
   "language": "python",
   "name": "python3"
  },
  "language_info": {
   "codemirror_mode": {
    "name": "ipython",
    "version": 3
   },
   "file_extension": ".py",
   "mimetype": "text/x-python",
   "name": "python",
   "nbconvert_exporter": "python",
   "pygments_lexer": "ipython3",
   "version": "3.10.9"
  }
 },
 "nbformat": 4,
 "nbformat_minor": 2
}
