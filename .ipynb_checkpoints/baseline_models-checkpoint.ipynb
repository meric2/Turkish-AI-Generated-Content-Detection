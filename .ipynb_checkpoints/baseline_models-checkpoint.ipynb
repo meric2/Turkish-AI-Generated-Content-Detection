{
 "cells": [
  {
   "cell_type": "code",
   "execution_count": 34,
   "metadata": {},
   "outputs": [
    {
     "name": "stderr",
     "output_type": "stream",
     "text": [
      "[nltk_data] Downloading package punkt to\n",
      "[nltk_data]     C:\\Users\\Asus\\AppData\\Roaming\\nltk_data...\n",
      "[nltk_data]   Package punkt is already up-to-date!\n",
      "[nltk_data] Downloading package stopwords to\n",
      "[nltk_data]     C:\\Users\\Asus\\AppData\\Roaming\\nltk_data...\n",
      "[nltk_data]   Package stopwords is already up-to-date!\n"
     ]
    }
   ],
   "source": [
    "from datasets import load_dataset\n",
    "import pandas as pd\n",
    "import numpy as np\n",
    "import matplotlib.pyplot as plt\n",
    "import seaborn as sns\n",
    "import re\n",
    "from data_augmentation import synonym_replacement, random_insertion, random_swap, random_deletion\n",
    "\n",
    "from sklearn.model_selection import train_test_split\n",
    "from sklearn.feature_extraction.text import CountVectorizer, TfidfVectorizer\n",
    "from sklearn.linear_model import LogisticRegression\n",
    "from sklearn.metrics import accuracy_score, classification_report, confusion_matrix\n",
    "from sklearn.model_selection import KFold, cross_val_score\n",
    "from sklearn.preprocessing import LabelEncoder\n",
    "from sklearn import naive_bayes, svm\n",
    "\n",
    "from nltk.tokenize import word_tokenize\n",
    "from nltk import pos_tag\n",
    "from nltk.corpus import stopwords\n",
    "from nltk.stem import WordNetLemmatizer\n",
    "from collections import defaultdict\n",
    "from nltk.corpus import wordnet as wn\n",
    "import pickle\n",
    "import nltk"
   ]
  },
  {
   "cell_type": "code",
   "execution_count": 24,
   "metadata": {},
   "outputs": [
    {
     "data": {
      "text/html": [
       "<div>\n",
       "<style scoped>\n",
       "    .dataframe tbody tr th:only-of-type {\n",
       "        vertical-align: middle;\n",
       "    }\n",
       "\n",
       "    .dataframe tbody tr th {\n",
       "        vertical-align: top;\n",
       "    }\n",
       "\n",
       "    .dataframe thead th {\n",
       "        text-align: right;\n",
       "    }\n",
       "</style>\n",
       "<table border=\"1\" class=\"dataframe\">\n",
       "  <thead>\n",
       "    <tr style=\"text-align: right;\">\n",
       "      <th></th>\n",
       "      <th>review</th>\n",
       "      <th>review_length</th>\n",
       "    </tr>\n",
       "  </thead>\n",
       "  <tbody>\n",
       "    <tr>\n",
       "      <th>0</th>\n",
       "      <td>Okan Üniversitesi Hastanesi'nde Çalışanların S...</td>\n",
       "      <td>45</td>\n",
       "    </tr>\n",
       "    <tr>\n",
       "      <th>1</th>\n",
       "      <td>Ekici Kaşar Peynirinin Peynir İle Alakası Yok....</td>\n",
       "      <td>49</td>\n",
       "    </tr>\n",
       "    <tr>\n",
       "      <th>2</th>\n",
       "      <td>Similac 2 Devam Sütunun İçinden Tahta Çıktı.  ...</td>\n",
       "      <td>55</td>\n",
       "    </tr>\n",
       "    <tr>\n",
       "      <th>3</th>\n",
       "      <td>İlhan Duman Hukuk Bürosu Borç Mesajı Geliyor. ...</td>\n",
       "      <td>44</td>\n",
       "    </tr>\n",
       "    <tr>\n",
       "      <th>4</th>\n",
       "      <td>Samsung Kamera Flaş Sorunu. Alalı 1 gün oldu S...</td>\n",
       "      <td>40</td>\n",
       "    </tr>\n",
       "  </tbody>\n",
       "</table>\n",
       "</div>"
      ],
      "text/plain": [
       "                                              review  review_length\n",
       "0  Okan Üniversitesi Hastanesi'nde Çalışanların S...             45\n",
       "1  Ekici Kaşar Peynirinin Peynir İle Alakası Yok....             49\n",
       "2  Similac 2 Devam Sütunun İçinden Tahta Çıktı.  ...             55\n",
       "3  İlhan Duman Hukuk Bürosu Borç Mesajı Geliyor. ...             44\n",
       "4  Samsung Kamera Flaş Sorunu. Alalı 1 gün oldu S...             40"
      ]
     },
     "execution_count": 24,
     "metadata": {},
     "output_type": "execute_result"
    }
   ],
   "source": [
    "human_data = load_dataset('kmkarakaya/turkishReviews-ds')\n",
    "human_data = human_data['train'].to_pandas()\n",
    "human_data.head()"
   ]
  },
  {
   "cell_type": "code",
   "execution_count": 25,
   "metadata": {},
   "outputs": [
    {
     "data": {
      "text/plain": [
       "(397872, 2)"
      ]
     },
     "execution_count": 25,
     "metadata": {},
     "output_type": "execute_result"
    }
   ],
   "source": [
    "# Some parts of this dataset is used for AI generated review production, so we need to filter out those\n",
    "human_data = human_data.iloc[600:-300].reset_index(drop=True)\n",
    "human_data.shape"
   ]
  },
  {
   "cell_type": "code",
   "execution_count": 26,
   "metadata": {},
   "outputs": [
    {
     "data": {
      "text/plain": [
       "Index(['review', 'review_length'], dtype='object')"
      ]
     },
     "execution_count": 26,
     "metadata": {},
     "output_type": "execute_result"
    }
   ],
   "source": [
    "human_data.columns"
   ]
  },
  {
   "cell_type": "code",
   "execution_count": 27,
   "metadata": {},
   "outputs": [
    {
     "data": {
      "text/html": [
       "<div>\n",
       "<style scoped>\n",
       "    .dataframe tbody tr th:only-of-type {\n",
       "        vertical-align: middle;\n",
       "    }\n",
       "\n",
       "    .dataframe tbody tr th {\n",
       "        vertical-align: top;\n",
       "    }\n",
       "\n",
       "    .dataframe thead th {\n",
       "        text-align: right;\n",
       "    }\n",
       "</style>\n",
       "<table border=\"1\" class=\"dataframe\">\n",
       "  <thead>\n",
       "    <tr style=\"text-align: right;\">\n",
       "      <th></th>\n",
       "      <th>review</th>\n",
       "      <th>review_length</th>\n",
       "    </tr>\n",
       "  </thead>\n",
       "  <tbody>\n",
       "    <tr>\n",
       "      <th>0</th>\n",
       "      <td>Bosch Bulaşık Makinesi Gelmiyor, 31.05.2020 ta...</td>\n",
       "      <td>43</td>\n",
       "    </tr>\n",
       "    <tr>\n",
       "      <th>1</th>\n",
       "      <td>Park Tv'de Tekrarlanan Filmler. Park Tv'deki f...</td>\n",
       "      <td>48</td>\n",
       "    </tr>\n",
       "    <tr>\n",
       "      <th>2</th>\n",
       "      <td>Grundig Servis Asla Gelmiyor. 15 05 2020 tarih...</td>\n",
       "      <td>52</td>\n",
       "    </tr>\n",
       "    <tr>\n",
       "      <th>3</th>\n",
       "      <td>Ziraat Sigorta Zorunlu Olmayan Poliçelerin Yen...</td>\n",
       "      <td>45</td>\n",
       "    </tr>\n",
       "    <tr>\n",
       "      <th>4</th>\n",
       "      <td>Vestel Ürünleri Maalesef Kötü Ve Değişim Yok. ...</td>\n",
       "      <td>35</td>\n",
       "    </tr>\n",
       "  </tbody>\n",
       "</table>\n",
       "</div>"
      ],
      "text/plain": [
       "                                              review  review_length\n",
       "0  Bosch Bulaşık Makinesi Gelmiyor, 31.05.2020 ta...             43\n",
       "1  Park Tv'de Tekrarlanan Filmler. Park Tv'deki f...             48\n",
       "2  Grundig Servis Asla Gelmiyor. 15 05 2020 tarih...             52\n",
       "3  Ziraat Sigorta Zorunlu Olmayan Poliçelerin Yen...             45\n",
       "4  Vestel Ürünleri Maalesef Kötü Ve Değişim Yok. ...             35"
      ]
     },
     "execution_count": 27,
     "metadata": {},
     "output_type": "execute_result"
    }
   ],
   "source": [
    "# All the reviews contain their titles as the first sentence. They can be removed to make the dataset more clean.\n",
    "human_data['review'] = human_data['review'].apply(lambda x: re.sub(r'^.*\\n', '', x))\n",
    "\n",
    "# Update review lengths after removing titles\n",
    "human_data['review_length'] = human_data['review'].apply(lambda x: len(x.split()))\n",
    "\n",
    "human_data.head()"
   ]
  },
  {
   "cell_type": "code",
   "execution_count": 28,
   "metadata": {},
   "outputs": [
    {
     "data": {
      "text/html": [
       "<div>\n",
       "<style scoped>\n",
       "    .dataframe tbody tr th:only-of-type {\n",
       "        vertical-align: middle;\n",
       "    }\n",
       "\n",
       "    .dataframe tbody tr th {\n",
       "        vertical-align: top;\n",
       "    }\n",
       "\n",
       "    .dataframe thead th {\n",
       "        text-align: right;\n",
       "    }\n",
       "</style>\n",
       "<table border=\"1\" class=\"dataframe\">\n",
       "  <thead>\n",
       "    <tr style=\"text-align: right;\">\n",
       "      <th></th>\n",
       "      <th>text</th>\n",
       "      <th>model</th>\n",
       "      <th>instruction</th>\n",
       "    </tr>\n",
       "  </thead>\n",
       "  <tbody>\n",
       "    <tr>\n",
       "      <th>0</th>\n",
       "      <td>Akbank Müşteri Hizmetleri ile yaşadığım deneyi...</td>\n",
       "      <td>GPT-4o</td>\n",
       "      <td>Akbank Müşteri Hizmetleri Hakkında</td>\n",
       "    </tr>\n",
       "    <tr>\n",
       "      <th>1</th>\n",
       "      <td>Cinemaximum’un vizyona sokulmayan filmler poli...</td>\n",
       "      <td>GPT-4o</td>\n",
       "      <td>Cinemaximum Vizyona Sokulmayan Filmler</td>\n",
       "    </tr>\n",
       "    <tr>\n",
       "      <th>2</th>\n",
       "      <td>Media Markt'tan birkaç saat önce verdiğim sipa...</td>\n",
       "      <td>GPT-4o</td>\n",
       "      <td>Media Markt Birkaç Saat Önce Verilen Siparişte...</td>\n",
       "    </tr>\n",
       "    <tr>\n",
       "      <th>3</th>\n",
       "      <td>Ulusal Elektronik’ten alışveriş yapmayı kesinl...</td>\n",
       "      <td>GPT-4o</td>\n",
       "      <td>Ulusal Elektronikten Uzak Durmalı.</td>\n",
       "    </tr>\n",
       "    <tr>\n",
       "      <th>4</th>\n",
       "      <td>Vanish Kosla kullanarak çıkarmak istediğim lek...</td>\n",
       "      <td>GPT-4o</td>\n",
       "      <td>Vanish Kosla Leke Yaptı</td>\n",
       "    </tr>\n",
       "  </tbody>\n",
       "</table>\n",
       "</div>"
      ],
      "text/plain": [
       "                                                text   model  \\\n",
       "0  Akbank Müşteri Hizmetleri ile yaşadığım deneyi...  GPT-4o   \n",
       "1  Cinemaximum’un vizyona sokulmayan filmler poli...  GPT-4o   \n",
       "2  Media Markt'tan birkaç saat önce verdiğim sipa...  GPT-4o   \n",
       "3  Ulusal Elektronik’ten alışveriş yapmayı kesinl...  GPT-4o   \n",
       "4  Vanish Kosla kullanarak çıkarmak istediğim lek...  GPT-4o   \n",
       "\n",
       "                                         instruction  \n",
       "0                 Akbank Müşteri Hizmetleri Hakkında  \n",
       "1             Cinemaximum Vizyona Sokulmayan Filmler  \n",
       "2  Media Markt Birkaç Saat Önce Verilen Siparişte...  \n",
       "3                 Ulusal Elektronikten Uzak Durmalı.  \n",
       "4                            Vanish Kosla Leke Yaptı  "
      ]
     },
     "execution_count": 28,
     "metadata": {},
     "output_type": "execute_result"
    }
   ],
   "source": [
    "ai_data = pd.read_excel('AI_Complaints.xlsx')\n",
    "ai_data.head()"
   ]
  },
  {
   "cell_type": "code",
   "execution_count": 29,
   "metadata": {},
   "outputs": [
    {
     "name": "stdout",
     "output_type": "stream",
     "text": [
      "AI Data Shape:  (315, 3)\n",
      "Human Data Shape:  (397872, 2)\n",
      "Human Data:\n",
      "        review_length\n",
      "count  397872.000000\n",
      "mean       46.002018\n",
      "std         5.194693\n",
      "min        29.000000\n",
      "25%        43.000000\n",
      "50%        46.000000\n",
      "75%        49.000000\n",
      "max       176.000000\n",
      "Human Data Columns:  Index(['review', 'review_length'], dtype='object')\n",
      "Human Data Number of Words:  46.00201823702095\n",
      "Human Data Maximum Number of Words:  176\n",
      "Human Data Minimum Number of Words:  29\n"
     ]
    }
   ],
   "source": [
    "print(\"AI Data Shape: \", ai_data.shape)\n",
    "print(\"Human Data Shape: \", human_data.shape)\n",
    "print(\"Human Data:\\n\", human_data.describe())\n",
    "print(\"Human Data Columns: \", human_data.columns)\n",
    "print(\"Human Data Number of Words: \", human_data['review_length'].mean())\n",
    "print(\"Human Data Maximum Number of Words: \", human_data['review_length'].max())\n",
    "print(\"Human Data Minimum Number of Words: \", human_data['review_length'].min())"
   ]
  },
  {
   "cell_type": "code",
   "execution_count": 30,
   "metadata": {},
   "outputs": [
    {
     "name": "stdout",
     "output_type": "stream",
     "text": [
      "Human Data Shape:  (10000, 2)\n",
      "Human Data:         review_length\n",
      "count   10000.000000\n",
      "mean       46.008900\n",
      "std         5.143138\n",
      "min        30.000000\n",
      "25%        43.000000\n",
      "50%        46.000000\n",
      "75%        49.000000\n",
      "max        66.000000\n",
      "Human Data Num of Words:  46.0089\n"
     ]
    }
   ],
   "source": [
    "# Get 10000 data from human dataset without changing the review length mean\n",
    "human_data = human_data.sample(n=10000, random_state=42)\n",
    "print(\"Human Data Shape: \", human_data.shape)\n",
    "print(\"Human Data: \", human_data.describe())\n",
    "print(\"Human Data Num of Words: \", human_data['review_length'].mean())"
   ]
  },
  {
   "cell_type": "code",
   "execution_count": 31,
   "metadata": {},
   "outputs": [
    {
     "data": {
      "image/png": "[encoded data removed]",
      "text/plain": [
       "<Figure size 720x432 with 1 Axes>"
      ]
     },
     "metadata": {
      "needs_background": "light"
     },
     "output_type": "display_data"
    }
   ],
   "source": [
    "# Text Length Distribution for Human Data\n",
    "plt.figure(figsize=(10, 6))\n",
    "sns.histplot(human_data['review_length'], bins=50)\n",
    "plt.title('Distribution of Review Lengths of Human Data')\n",
    "plt.xlabel('Review Length')\n",
    "plt.ylabel('Frequency')\n",
    "plt.show()"
   ]
  },
  {
   "cell_type": "code",
   "execution_count": 32,
   "metadata": {},
   "outputs": [
    {
     "data": {
      "image/png": "[encoded data removed]",
      "text/plain": [
       "<Figure size 720x432 with 1 Axes>"
      ]
     },
     "metadata": {
      "needs_background": "light"
     },
     "output_type": "display_data"
    }
   ],
   "source": [
    "# Text Length Distribution for AI Data\n",
    "ai_data['review_length'] = ai_data['text'].apply(lambda x: len(x.split()))\n",
    "\n",
    "plt.figure(figsize=(10, 6))\n",
    "sns.histplot(ai_data['review_length'], bins=50)\n",
    "plt.title('Distribution of Review Lengths of AI Generated Data')\n",
    "plt.xlabel('Review Length')\n",
    "plt.ylabel('Frequency')\n",
    "plt.show()"
   ]
  },
  {
   "cell_type": "code",
   "execution_count": 33,
   "metadata": {},
   "outputs": [
    {
     "data": {
      "text/html": [
       "<div>\n",
       "<style scoped>\n",
       "    .dataframe tbody tr th:only-of-type {\n",
       "        vertical-align: middle;\n",
       "    }\n",
       "\n",
       "    .dataframe tbody tr th {\n",
       "        vertical-align: top;\n",
       "    }\n",
       "\n",
       "    .dataframe thead th {\n",
       "        text-align: right;\n",
       "    }\n",
       "</style>\n",
       "<table border=\"1\" class=\"dataframe\">\n",
       "  <thead>\n",
       "    <tr style=\"text-align: right;\">\n",
       "      <th></th>\n",
       "      <th>text</th>\n",
       "      <th>label</th>\n",
       "    </tr>\n",
       "  </thead>\n",
       "  <tbody>\n",
       "    <tr>\n",
       "      <th>0</th>\n",
       "      <td>Electrolux Parke Başlığı İçindeki Plastik Ezik...</td>\n",
       "      <td>human</td>\n",
       "    </tr>\n",
       "    <tr>\n",
       "      <th>1</th>\n",
       "      <td>Trendyol'dan Aldığım Ürün Teslim Tarihi Geçmiş...</td>\n",
       "      <td>human</td>\n",
       "    </tr>\n",
       "    <tr>\n",
       "      <th>2</th>\n",
       "      <td>THY Uçuş İptali İadesi Yapılmadı. Türk Hava Yo...</td>\n",
       "      <td>human</td>\n",
       "    </tr>\n",
       "    <tr>\n",
       "      <th>3</th>\n",
       "      <td>Finish Bulaşık Makinesi Deterjanı Mahvetti. Ke...</td>\n",
       "      <td>human</td>\n",
       "    </tr>\n",
       "    <tr>\n",
       "      <th>4</th>\n",
       "      <td>Sürat Kargo Kargom 5 Gündür Maltepe Aktarmada ...</td>\n",
       "      <td>human</td>\n",
       "    </tr>\n",
       "  </tbody>\n",
       "</table>\n",
       "</div>"
      ],
      "text/plain": [
       "                                                text  label\n",
       "0  Electrolux Parke Başlığı İçindeki Plastik Ezik...  human\n",
       "1  Trendyol'dan Aldığım Ürün Teslim Tarihi Geçmiş...  human\n",
       "2  THY Uçuş İptali İadesi Yapılmadı. Türk Hava Yo...  human\n",
       "3  Finish Bulaşık Makinesi Deterjanı Mahvetti. Ke...  human\n",
       "4  Sürat Kargo Kargom 5 Gündür Maltepe Aktarmada ...  human"
      ]
     },
     "execution_count": 33,
     "metadata": {},
     "output_type": "execute_result"
    }
   ],
   "source": [
    "human_data['label'] = 'human'\n",
    "human_data['text'] = human_data['review']\n",
    "ai_data['label'] = 'ai'\n",
    "human_data = human_data[['text', 'label']]\n",
    "ai_data = ai_data[['text', 'label']]\n",
    "\n",
    "\n",
    "dataset = pd.concat([human_data, ai_data], ignore_index=True)\n",
    "dataset.head()"
   ]
  },
  {
   "cell_type": "markdown",
   "metadata": {},
   "source": [
    "# Training Models"
   ]
  },
  {
   "cell_type": "code",
   "execution_count": 35,
   "metadata": {},
   "outputs": [
    {
     "data": {
      "text/html": [
       "<div>\n",
       "<style scoped>\n",
       "    .dataframe tbody tr th:only-of-type {\n",
       "        vertical-align: middle;\n",
       "    }\n",
       "\n",
       "    .dataframe tbody tr th {\n",
       "        vertical-align: top;\n",
       "    }\n",
       "\n",
       "    .dataframe thead th {\n",
       "        text-align: right;\n",
       "    }\n",
       "</style>\n",
       "<table border=\"1\" class=\"dataframe\">\n",
       "  <thead>\n",
       "    <tr style=\"text-align: right;\">\n",
       "      <th></th>\n",
       "      <th>text</th>\n",
       "      <th>label</th>\n",
       "    </tr>\n",
       "  </thead>\n",
       "  <tbody>\n",
       "    <tr>\n",
       "      <th>0</th>\n",
       "      <td>MESKİ'ye yönelik bir şikayetimi paylaşmak isti...</td>\n",
       "      <td>ai</td>\n",
       "    </tr>\n",
       "    <tr>\n",
       "      <th>1</th>\n",
       "      <td>MESKİ'ye yönelik bir su şikayetimi paylaşmak i...</td>\n",
       "      <td>ai</td>\n",
       "    </tr>\n",
       "    <tr>\n",
       "      <th>2</th>\n",
       "      <td>MESKİ'ye yönelik bir şikayetimi paylaşmak isti...</td>\n",
       "      <td>ai</td>\n",
       "    </tr>\n",
       "    <tr>\n",
       "      <th>3</th>\n",
       "      <td>MESKİ'ye yönelik bir şikayetimi paylaşmak isti...</td>\n",
       "      <td>ai</td>\n",
       "    </tr>\n",
       "    <tr>\n",
       "      <th>4</th>\n",
       "      <td>MESKİ'ye yönelik bir şikayetimi paylaşmak isti...</td>\n",
       "      <td>ai</td>\n",
       "    </tr>\n",
       "    <tr>\n",
       "      <th>...</th>\n",
       "      <td>...</td>\n",
       "      <td>...</td>\n",
       "    </tr>\n",
       "    <tr>\n",
       "      <th>4395</th>\n",
       "      <td>ÖSYM atanmış olan sınav yerimiz şehrimizin uza...</td>\n",
       "      <td>ai</td>\n",
       "    </tr>\n",
       "    <tr>\n",
       "      <th>4396</th>\n",
       "      <td>ÖSYM tarafından atanmış olan sınav yerimiz şeh...</td>\n",
       "      <td>ai</td>\n",
       "    </tr>\n",
       "    <tr>\n",
       "      <th>4397</th>\n",
       "      <td>ÖSYM tarafından atanmış olan sınav yerimiz ula...</td>\n",
       "      <td>ai</td>\n",
       "    </tr>\n",
       "    <tr>\n",
       "      <th>4398</th>\n",
       "      <td>ÖSYM tarafından atanmış olan sınav yerimiz şeh...</td>\n",
       "      <td>ai</td>\n",
       "    </tr>\n",
       "    <tr>\n",
       "      <th>4399</th>\n",
       "      <td>ÖSYM tarafından olan sınav yerimiz çok ve ulaş...</td>\n",
       "      <td>ai</td>\n",
       "    </tr>\n",
       "  </tbody>\n",
       "</table>\n",
       "<p>4400 rows × 2 columns</p>\n",
       "</div>"
      ],
      "text/plain": [
       "                                                   text label\n",
       "0     MESKİ'ye yönelik bir şikayetimi paylaşmak isti...    ai\n",
       "1     MESKİ'ye yönelik bir su şikayetimi paylaşmak i...    ai\n",
       "2     MESKİ'ye yönelik bir şikayetimi paylaşmak isti...    ai\n",
       "3     MESKİ'ye yönelik bir şikayetimi paylaşmak isti...    ai\n",
       "4     MESKİ'ye yönelik bir şikayetimi paylaşmak isti...    ai\n",
       "...                                                 ...   ...\n",
       "4395  ÖSYM atanmış olan sınav yerimiz şehrimizin uza...    ai\n",
       "4396  ÖSYM tarafından atanmış olan sınav yerimiz şeh...    ai\n",
       "4397  ÖSYM tarafından atanmış olan sınav yerimiz ula...    ai\n",
       "4398  ÖSYM tarafından atanmış olan sınav yerimiz şeh...    ai\n",
       "4399  ÖSYM tarafından olan sınav yerimiz çok ve ulaş...    ai\n",
       "\n",
       "[4400 rows x 2 columns]"
      ]
     },
     "execution_count": 35,
     "metadata": {},
     "output_type": "execute_result"
    }
   ],
   "source": [
    "# Split data into training and testing sets before augmentation\n",
    "train_ai_df, test_ai_df = train_test_split(ai_data, test_size=0.3, random_state=42)\n",
    "\n",
    "# Augment training data only\n",
    "augmented_texts = []\n",
    "for index, row in train_ai_df.iterrows():\n",
    "    text = row['text']\n",
    "    # Apply multiple transformations\n",
    "    for _ in range(5):  # Repeat each transformation 5 times\n",
    "        augmented_texts.append(synonym_replacement(text, n=2))\n",
    "        augmented_texts.append(random_insertion(text, n=3))\n",
    "        augmented_texts.append(random_swap(text, n=2))\n",
    "        augmented_texts.append(random_deletion(text, p=0.1))\n",
    "\n",
    "train_ai_augmented = pd.DataFrame(augmented_texts, columns=['text'])\n",
    "train_ai_augmented['label'] = 'ai'\n",
    "train_ai_augmented"
   ]
  },
  {
   "cell_type": "code",
   "execution_count": 36,
   "metadata": {},
   "outputs": [
    {
     "name": "stdout",
     "output_type": "stream",
     "text": [
      "                                                     text  label\n",
      "count                                                3095   3095\n",
      "unique                                               3087      2\n",
      "top     Beyaz Çamlıca Davet Salonu Kapora İadesi Yapıl...  human\n",
      "freq                                                    3   3000\n",
      "                                                     text  label\n",
      "count                                               11400  11400\n",
      "unique                                              10485      2\n",
      "top     Altınsaray Balo Salonu Kaporamı Vermiyor. 30.0...  human\n",
      "freq                                                    7   7000\n"
     ]
    }
   ],
   "source": [
    "train_human_df, test_human_df = train_test_split(human_data, test_size=0.3, random_state=42)\n",
    "\n",
    "combined_train_df = pd.concat([train_ai_augmented, train_human_df], ignore_index=True)\n",
    "combined_test_df = pd.concat([test_ai_df, test_human_df], ignore_index=True)\n",
    "print(combined_test_df.describe())\n",
    "print(combined_train_df.describe())"
   ]
  },
  {
   "cell_type": "markdown",
   "metadata": {},
   "source": [
    "## SVM and Naive Bayes with TF-IDF Vectors"
   ]
  },
  {
   "cell_type": "code",
   "execution_count": 37,
   "metadata": {},
   "outputs": [
    {
     "name": "stdout",
     "output_type": "stream",
     "text": [
      "Naive Bayes Accuracy Score ->  99.67689822294022\n",
      "SVM Accuracy Score ->  99.87075928917609\n",
      "Models are saved successfully!\n"
     ]
    }
   ],
   "source": [
    "# Split into train and test sets\n",
    "Train_X = combined_train_df['text']\n",
    "Train_Y = combined_train_df['label']\n",
    "Test_X = combined_test_df['text']\n",
    "Test_Y = combined_test_df['label']\n",
    "\n",
    "\n",
    "# Label encode the target variable\n",
    "Encoder = LabelEncoder()\n",
    "Train_Y = Encoder.fit_transform(Train_Y)\n",
    "Test_Y = Encoder.fit_transform(Test_Y)\n",
    "\n",
    "# Vectorize using TF-IDF\n",
    "Tfidf_vect = TfidfVectorizer(max_features=5000)\n",
    "Tfidf_vect.fit(dataset['text'])\n",
    "\n",
    "Train_X_Tfidf = Tfidf_vect.transform(Train_X)\n",
    "Test_X_Tfidf = Tfidf_vect.transform(Test_X)\n",
    "\n",
    "# Train Naive Bayes\n",
    "Naive = naive_bayes.MultinomialNB()\n",
    "Naive.fit(Train_X_Tfidf, Train_Y)\n",
    "predictions_NB = Naive.predict(Test_X_Tfidf)\n",
    "print(\"Naive Bayes Accuracy Score -> \", accuracy_score(predictions_NB, Test_Y) * 100)\n",
    "\n",
    "# Train SVM\n",
    "SVM = svm.SVC(C=1.0, kernel='linear', degree=3, gamma='auto')\n",
    "SVM.fit(Train_X_Tfidf, Train_Y)\n",
    "predictions_SVM = SVM.predict(Test_X_Tfidf)\n",
    "print(\"SVM Accuracy Score -> \", accuracy_score(predictions_SVM, Test_Y) * 100)\n",
    "\n",
    "# Save models and vectorizers\n",
    "filename = 'labelencoder_fitted.pkl'\n",
    "pickle.dump(Encoder, open(filename, 'wb'))\n",
    "\n",
    "filename = 'Tfidf_vect_fitted.pkl'\n",
    "pickle.dump(Tfidf_vect, open(filename, 'wb'))\n",
    "\n",
    "filename = 'svm_trained_model.sav'\n",
    "pickle.dump(SVM, open(filename, 'wb'))\n",
    "\n",
    "filename = 'nb_trained_model.sav'\n",
    "pickle.dump(Naive, open(filename, 'wb'))\n",
    "\n",
    "print(\"Models are saved successfully!\")"
   ]
  },
  {
   "cell_type": "code",
   "execution_count": 38,
   "metadata": {},
   "outputs": [
    {
     "data": {
      "image/png": "[encoded data removed]",
      "text/plain": [
       "<Figure size 720x504 with 2 Axes>"
      ]
     },
     "metadata": {
      "needs_background": "light"
     },
     "output_type": "display_data"
    },
    {
     "data": {
      "image/png": "[encoded data removed]",
      "text/plain": [
       "<Figure size 720x504 with 2 Axes>"
      ]
     },
     "metadata": {
      "needs_background": "light"
     },
     "output_type": "display_data"
    }
   ],
   "source": [
    "# Confusion Matrix for Naive Bayes\n",
    "cm_NB = confusion_matrix(Test_Y, predictions_NB)\n",
    "plt.figure(figsize=(10,7))\n",
    "sns.heatmap(cm_NB, annot=True, fmt='d', cmap=\"Blues\", xticklabels=['AI', 'Human'], yticklabels=['AI', 'Human'])\n",
    "plt.title('Confusion Matrix for Naive Bayes')\n",
    "plt.xlabel('Predicted')\n",
    "plt.ylabel('True')\n",
    "plt.show()\n",
    "\n",
    "# Confusion Matrix for SVM\n",
    "cm_SVM = confusion_matrix(Test_Y, predictions_SVM)\n",
    "plt.figure(figsize=(10,7))\n",
    "sns.heatmap(cm_SVM, annot=True, fmt='d', cmap=\"Greens\", xticklabels=['AI', 'Human'], yticklabels=['AI', 'Human'])\n",
    "plt.title('Confusion Matrix for SVM')\n",
    "plt.xlabel('Predicted')\n",
    "plt.ylabel('True')\n",
    "plt.show()"
   ]
  },
  {
   "cell_type": "markdown",
   "metadata": {},
   "source": [
    "## Logistic Regression with N-gram"
   ]
  },
  {
   "cell_type": "code",
   "execution_count": 49,
   "metadata": {},
   "outputs": [
    {
     "name": "stdout",
     "output_type": "stream",
     "text": [
      "Logistic Regression Accuracy Score ->  99.93537964458804\n",
      "Model is saved successfully!\n"
     ]
    }
   ],
   "source": [
    "# Preprocess the data\n",
    "vectorizer = CountVectorizer(ngram_range=(1,3))\n",
    "X_train = vectorizer.fit_transform(combined_train_df['text'])\n",
    "X_test = vectorizer.transform(combined_test_df['text'])\n",
    "\n",
    "y_train = combined_train_df['label']\n",
    "y_test = combined_test_df['label']\n",
    "\n",
    "# Label encode the target variable\n",
    "encoder_lr = LabelEncoder()\n",
    "Train_Y = encoder_lr.fit_transform(y_train)\n",
    "Test_Y = encoder_lr.fit_transform(y_test)\n",
    "\n",
    "# Train Logistic Regression\n",
    "log_reg = LogisticRegression()\n",
    "log_reg.fit(X_train, y_train)\n",
    "\n",
    "predictions_LR = log_reg.predict(X_test)\n",
    "print(\"Logistic Regression Accuracy Score -> \", accuracy_score(predictions_LR, y_test) * 100)\n",
    "\n",
    "# Save models and vectorizers\n",
    "filename = 'labelencoder_fitted_lr.pkl'\n",
    "pickle.dump(encoder_lr, open(filename, 'wb'))\n",
    "\n",
    "filename = 'count_vec_fitted.pkl'\n",
    "pickle.dump(vectorizer, open(filename, 'wb'))\n",
    "\n",
    "filename = 'lr_trained_model.sav'\n",
    "pickle.dump(log_reg, open(filename, 'wb'))\n",
    "\n",
    "print(\"Model is saved successfully!\")"
   ]
  },
  {
   "cell_type": "code",
   "execution_count": 50,
   "metadata": {},
   "outputs": [
    {
     "data": {
      "image/png": "[encoded data removed]",
      "text/plain": [
       "<Figure size 720x504 with 2 Axes>"
      ]
     },
     "metadata": {
      "needs_background": "light"
     },
     "output_type": "display_data"
    }
   ],
   "source": [
    "# Confusion Matrix for Logistic Regression\n",
    "cm_LR = confusion_matrix(y_test, predictions_LR)\n",
    "plt.figure(figsize=(10,7))\n",
    "sns.heatmap(cm_LR, annot=True, fmt='d', cmap=\"Blues\", xticklabels=['AI', 'Human'], yticklabels=['AI', 'Human'])\n",
    "plt.title('Confusion Matrix for Logistic Regression')\n",
    "plt.xlabel('Predicted')\n",
    "plt.ylabel('True')\n",
    "plt.show()"
   ]
  },
  {
   "cell_type": "markdown",
   "metadata": {},
   "source": [
    "The model seem to work too good. Let's see the results with cross validation"
   ]
  },
  {
   "cell_type": "code",
   "execution_count": 51,
   "metadata": {},
   "outputs": [
    {
     "name": "stdout",
     "output_type": "stream",
     "text": [
      "Cross-Validation Average Accuracy: 0.9995614035087719\n",
      "Test Set Accuracy: 0.9993537964458804\n",
      "Classification Report on Test Set:\n",
      "               precision    recall  f1-score   support\n",
      "\n",
      "          ai       1.00      0.98      0.99        95\n",
      "       human       1.00      1.00      1.00      3000\n",
      "\n",
      "    accuracy                           1.00      3095\n",
      "   macro avg       1.00      0.99      0.99      3095\n",
      "weighted avg       1.00      1.00      1.00      3095\n",
      "\n"
     ]
    },
    {
     "data": {
      "image/png": "[encoded data removed]",
      "text/plain": [
       "<Figure size 432x288 with 2 Axes>"
      ]
     },
     "metadata": {
      "needs_background": "light"
     },
     "output_type": "display_data"
    }
   ],
   "source": [
    "# Split data into training and testing sets\n",
    "vectorizer = CountVectorizer(ngram_range=(1,3))\n",
    "X_train = vectorizer.fit_transform(combined_train_df['text'])\n",
    "X_test = vectorizer.transform(combined_test_df['text'])\n",
    "\n",
    "y_train = combined_train_df['label'].values\n",
    "y_test = combined_test_df['label'].values\n",
    "\n",
    "# Initialize KFold for the training set only\n",
    "kf = KFold(n_splits=5, shuffle=True, random_state=42)\n",
    "\n",
    "# Initialize the Logistic Regression model\n",
    "model = LogisticRegression(max_iter=1000)\n",
    "\n",
    "# Lists to store results for each fold\n",
    "accuracies = []\n",
    "class_reports = []\n",
    "conf_matrices = []\n",
    "\n",
    "# Perform cross-validation on the training data only\n",
    "for train_index, val_index in kf.split(X_train):\n",
    "    X_train_fold, X_val_fold = X_train[train_index], X_train[val_index]\n",
    "    y_train_fold, y_val_fold = y_train[train_index], y_train[val_index]\n",
    "\n",
    "    # Train the model on the fold\n",
    "    model.fit(X_train_fold, y_train_fold)\n",
    "    \n",
    "    # Make predictions on the validation fold\n",
    "    predictions = model.predict(X_val_fold)\n",
    "    \n",
    "    # Metrics calculation\n",
    "    accuracies.append(accuracy_score(y_val_fold, predictions))\n",
    "    class_reports.append(classification_report(y_val_fold, predictions, output_dict=True))\n",
    "    conf_matrices.append(confusion_matrix(y_val_fold, predictions))\n",
    "\n",
    "# Evaluate the final model on the test set\n",
    "final_predictions = model.predict(X_test)\n",
    "final_accuracy = accuracy_score(y_test, final_predictions)\n",
    "final_class_report = classification_report(y_test, final_predictions)\n",
    "final_conf_matrix = confusion_matrix(y_test, final_predictions)\n",
    "\n",
    "# Display results\n",
    "print(\"Cross-Validation Average Accuracy:\", np.mean(accuracies))\n",
    "print(\"Test Set Accuracy:\", final_accuracy)\n",
    "print(\"Classification Report on Test Set:\\n\", final_class_report)\n",
    "\n",
    "# Display confusion matrix for the test set\n",
    "sns.heatmap(final_conf_matrix, annot=True, fmt='d', cmap='Blues', xticklabels=['AI', 'Human'], yticklabels=['AI', 'Human'])\n",
    "plt.ylabel('Actual')\n",
    "plt.xlabel('Predicted')\n",
    "plt.title('Test Set Confusion Matrix')\n",
    "plt.show()"
   ]
  }
 ],
 "metadata": {
  "kernelspec": {
   "display_name": "Python 3 (ipykernel)",
   "language": "python",
   "name": "python3"
  },
  "language_info": {
   "codemirror_mode": {
    "name": "ipython",
    "version": 3
   },
   "file_extension": ".py",
   "mimetype": "text/x-python",
   "name": "python",
   "nbconvert_exporter": "python",
   "pygments_lexer": "ipython3",
   "version": "3.10.9"
  }
 },
 "nbformat": 4,
 "nbformat_minor": 2
}
