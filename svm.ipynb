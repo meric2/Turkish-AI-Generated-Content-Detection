{
 "cells": [
  {
   "cell_type": "code",
   "execution_count": 1,
   "metadata": {},
   "outputs": [],
   "source": [
    "import pandas as pd\n",
    "import numpy as np\n",
    "from nltk.tokenize import word_tokenize\n",
    "from nltk import pos_tag\n",
    "from nltk.corpus import stopwords\n",
    "from nltk.stem import WordNetLemmatizer\n",
    "from sklearn.preprocessing import LabelEncoder\n",
    "from collections import defaultdict\n",
    "from nltk.corpus import wordnet as wn\n",
    "from sklearn.feature_extraction.text import TfidfVectorizer\n",
    "from sklearn import model_selection, naive_bayes, svm\n",
    "from sklearn.metrics import accuracy_score\n",
    "import pickle\n",
    "import nltk\n",
    "from datasets import load_dataset"
   ]
  },
  {
   "cell_type": "code",
   "execution_count": 3,
   "metadata": {},
   "outputs": [
    {
     "name": "stderr",
     "output_type": "stream",
     "text": [
      "Found cached dataset parquet (C:/Users/halil/.cache/huggingface/datasets/kmkarakaya___parquet/kmkarakaya--turkishReviews-ds-af8fd3a88d6e390a/0.0.0/2a3b91fbd88a2c90d1dbbb32b460cf621d31bd5b05b934492fdef7d8d6f236ec)\n"
     ]
    },
    {
     "data": {
      "application/vnd.jupyter.widget-view+json": {
       "model_id": "b57847031af241988d3b754b7b5689ce",
       "version_major": 2,
       "version_minor": 0
      },
      "text/plain": [
       "  0%|          | 0/2 [00:00<?, ?it/s]"
      ]
     },
     "metadata": {},
     "output_type": "display_data"
    },
    {
     "name": "stdout",
     "output_type": "stream",
     "text": [
      "                                                text   model  \\\n",
      "0  Akbank Müşteri Hizmetleri ile yaşadığım deneyi...  GPT-4o   \n",
      "1  Cinemaximum’un vizyona sokulmayan filmler poli...  GPT-4o   \n",
      "2  Media Markt'tan birkaç saat önce verdiğim sipa...  GPT-4o   \n",
      "3  Ulusal Elektronik’ten alışveriş yapmayı kesinl...  GPT-4o   \n",
      "4  Vanish Kosla kullanarak çıkarmak istediğim lek...  GPT-4o   \n",
      "\n",
      "                                         instruction  \n",
      "0                 Akbank Müşteri Hizmetleri Hakkında  \n",
      "1             Cinemaximum Vizyona Sokulmayan Filmler  \n",
      "2  Media Markt Birkaç Saat Önce Verilen Siparişte...  \n",
      "3                 Ulusal Elektronikten Uzak Durmalı.  \n",
      "4                            Vanish Kosla Leke Yaptı  \n",
      "                                              review  review_length\n",
      "0  Okan Üniversitesi Hastanesi'nde Çalışanların S...             45\n",
      "1  Ekici Kaşar Peynirinin Peynir İle Alakası Yok....             49\n",
      "2  Similac 2 Devam Sütunun İçinden Tahta Çıktı.  ...             55\n",
      "3  İlhan Duman Hukuk Bürosu Borç Mesajı Geliyor. ...             44\n",
      "4  Samsung Kamera Flaş Sorunu. Alalı 1 gün oldu S...             40\n"
     ]
    }
   ],
   "source": [
    "# Load Turkish dataset\n",
    "ds = load_dataset(\"kmkarakaya/turkishReviews-ds\")\n",
    "human_data = pd.DataFrame(ds['train'])\n",
    "ai_data = pd.read_excel(r'C:\\Users\\halil\\Downloads\\AI_Complaints.xlsx') \n",
    "\n",
    "# Veriyi kontrol etmek için yazdır\n",
    "print(ai_data.head())\n",
    "print(human_data.head())\n"
   ]
  },
  {
   "cell_type": "code",
   "execution_count": 4,
   "metadata": {},
   "outputs": [
    {
     "name": "stdout",
     "output_type": "stream",
     "text": [
      "AI Data Shape:  (315, 3)\n",
      "Human Data Shape:  (398772, 2)\n",
      "Human Data:         review_length\n",
      "count  398772.000000\n",
      "mean       46.030790\n",
      "std         5.291528\n",
      "min        31.000000\n",
      "25%        43.000000\n",
      "50%        46.000000\n",
      "75%        50.000000\n",
      "max       183.000000\n",
      "Human Data Columns:  Index(['review', 'review_length'], dtype='object')\n",
      "Human Data Num of Words:  46.03078952383818\n",
      "Human Data Max Num of Words:  183\n",
      "Human Data Min Num of Words:  31\n"
     ]
    }
   ],
   "source": [
    "print(\"AI Data Shape: \", ai_data.shape)\n",
    "print(\"Human Data Shape: \", human_data.shape)\n",
    "print(\"Human Data: \", human_data.describe())\n",
    "print(\"Human Data Columns: \", human_data.columns)\n",
    "print(\"Human Data Num of Words: \", human_data['review_length'].mean())\n",
    "print(\"Human Data Max Num of Words: \", human_data['review_length'].max())\n",
    "print(\"Human Data Min Num of Words: \", human_data['review_length'].min())\n"
   ]
  },
  {
   "cell_type": "code",
   "execution_count": 5,
   "metadata": {},
   "outputs": [
    {
     "name": "stdout",
     "output_type": "stream",
     "text": [
      "Human Data Shape:  (10000, 2)\n",
      "Human Data:         review_length\n",
      "count   10000.000000\n",
      "mean       46.043500\n",
      "std         5.253148\n",
      "min        31.000000\n",
      "25%        43.000000\n",
      "50%        46.000000\n",
      "75%        50.000000\n",
      "max        64.000000\n",
      "Human Data Num of Words:  46.0435\n"
     ]
    }
   ],
   "source": [
    "# Human datasetten review length meani değişmeyecek şekilde 10000 veri çek\n",
    "human_data = human_data.sample(n=10000, random_state=42)\n",
    "print(\"Human Data Shape: \", human_data.shape)\n",
    "print(\"Human Data: \", human_data.describe())\n",
    "print(\"Human Data Num of Words: \", human_data['review_length'].mean())\n"
   ]
  },
  {
   "cell_type": "code",
   "execution_count": 6,
   "metadata": {},
   "outputs": [
    {
     "data": {
      "image/png": "[encoded data removed]",
      "text/plain": [
       "<Figure size 1000x600 with 1 Axes>"
      ]
     },
     "metadata": {},
     "output_type": "display_data"
    }
   ],
   "source": [
    "# Text Length Distribution\n",
    "from matplotlib import pyplot as plt\n",
    "import seaborn as sns\n",
    "\n",
    "\n",
    "plt.figure(figsize=(10, 6))\n",
    "sns.histplot(human_data['review_length'], bins=50)\n",
    "plt.title('Distribution of Review Lengths')\n",
    "plt.xlabel('Review Length')\n",
    "plt.ylabel('Frequency')\n",
    "plt.show()"
   ]
  },
  {
   "cell_type": "code",
   "execution_count": 7,
   "metadata": {},
   "outputs": [
    {
     "name": "stdout",
     "output_type": "stream",
     "text": [
      "                                                text  label\n",
      "0  Monster Notebook Garantiden Süresi Ve Çözümsüz...  human\n",
      "1  Arçelik TV Ekranı İçten Kırıldı. Arçelik'ten T...  human\n",
      "2  PTT Kargo Paketimi Getirmiyorlar. Ben Malatya ...  human\n",
      "3  Toroslar Elektrik Dağıtım Elektrik Dalgalanmas...  human\n",
      "4  Litas Hukuk Bir Borcumuz Bulunmadığı Halde Soy...  human\n"
     ]
    }
   ],
   "source": [
    "human_data['label'] = 'human'\n",
    "human_data['text'] = human_data['review']\n",
    "ai_data['label'] = 'ai'\n",
    "human_data = human_data[['text', 'label']]\n",
    "ai_data = ai_data[['text', 'label']]\n",
    "\n",
    "\n",
    "dataset = pd.concat([human_data, ai_data], ignore_index=True)\n",
    "print(dataset.head())"
   ]
  },
  {
   "cell_type": "code",
   "execution_count": 8,
   "metadata": {},
   "outputs": [
    {
     "name": "stderr",
     "output_type": "stream",
     "text": [
      "[nltk_data] Downloading package punkt to\n",
      "[nltk_data]     C:\\Users\\halil\\AppData\\Roaming\\nltk_data...\n",
      "[nltk_data]   Package punkt is already up-to-date!\n",
      "[nltk_data] Downloading package stopwords to\n",
      "[nltk_data]     C:\\Users\\halil\\AppData\\Roaming\\nltk_data...\n",
      "[nltk_data]   Package stopwords is already up-to-date!\n"
     ]
    }
   ],
   "source": [
    "%run data_augmentation.ipynb\n",
    "\n"
   ]
  },
  {
   "cell_type": "code",
   "execution_count": 19,
   "metadata": {},
   "outputs": [
    {
     "data": {
      "text/html": [
       "<div>\n",
       "<style scoped>\n",
       "    .dataframe tbody tr th:only-of-type {\n",
       "        vertical-align: middle;\n",
       "    }\n",
       "\n",
       "    .dataframe tbody tr th {\n",
       "        vertical-align: top;\n",
       "    }\n",
       "\n",
       "    .dataframe thead th {\n",
       "        text-align: right;\n",
       "    }\n",
       "</style>\n",
       "<table border=\"1\" class=\"dataframe\">\n",
       "  <thead>\n",
       "    <tr style=\"text-align: right;\">\n",
       "      <th></th>\n",
       "      <th>text</th>\n",
       "      <th>label</th>\n",
       "    </tr>\n",
       "  </thead>\n",
       "  <tbody>\n",
       "    <tr>\n",
       "      <th>0</th>\n",
       "      <td>MESKİ'ye yönelik bir şikayetimi paylaşmak isti...</td>\n",
       "      <td>ai</td>\n",
       "    </tr>\n",
       "    <tr>\n",
       "      <th>1</th>\n",
       "      <td>MESKİ'ye yönelik bir şikayetimi paylaşmak isti...</td>\n",
       "      <td>ai</td>\n",
       "    </tr>\n",
       "    <tr>\n",
       "      <th>2</th>\n",
       "      <td>MESKİ'ye yönelik bir şikayetimi paylaşmak isti...</td>\n",
       "      <td>ai</td>\n",
       "    </tr>\n",
       "    <tr>\n",
       "      <th>3</th>\n",
       "      <td>MESKİ'ye yönelik bir şikayetimi paylaşmak isti...</td>\n",
       "      <td>ai</td>\n",
       "    </tr>\n",
       "    <tr>\n",
       "      <th>4</th>\n",
       "      <td>MESKİ'ye yönelik bir şikayetimi paylaşmak isti...</td>\n",
       "      <td>ai</td>\n",
       "    </tr>\n",
       "    <tr>\n",
       "      <th>...</th>\n",
       "      <td>...</td>\n",
       "      <td>...</td>\n",
       "    </tr>\n",
       "    <tr>\n",
       "      <th>4395</th>\n",
       "      <td>ÖSYM tarafından atanmış sınav yerimiz şehrimiz...</td>\n",
       "      <td>ai</td>\n",
       "    </tr>\n",
       "    <tr>\n",
       "      <th>4396</th>\n",
       "      <td>ÖSYM tarafından atanmış olan sınav yerimiz şeh...</td>\n",
       "      <td>ai</td>\n",
       "    </tr>\n",
       "    <tr>\n",
       "      <th>4397</th>\n",
       "      <td>ÖSYM tarafından atanmış yapılmasını olan sınav...</td>\n",
       "      <td>ai</td>\n",
       "    </tr>\n",
       "    <tr>\n",
       "      <th>4398</th>\n",
       "      <td>ÖSYM tarafından atanmış olan sınav yerimiz şeh...</td>\n",
       "      <td>ai</td>\n",
       "    </tr>\n",
       "    <tr>\n",
       "      <th>4399</th>\n",
       "      <td>tarafından atanmış olan sınav yerimiz şehrimiz...</td>\n",
       "      <td>ai</td>\n",
       "    </tr>\n",
       "  </tbody>\n",
       "</table>\n",
       "<p>4400 rows × 2 columns</p>\n",
       "</div>"
      ],
      "text/plain": [
       "                                                   text label\n",
       "0     MESKİ'ye yönelik bir şikayetimi paylaşmak isti...    ai\n",
       "1     MESKİ'ye yönelik bir şikayetimi paylaşmak isti...    ai\n",
       "2     MESKİ'ye yönelik bir şikayetimi paylaşmak isti...    ai\n",
       "3     MESKİ'ye yönelik bir şikayetimi paylaşmak isti...    ai\n",
       "4     MESKİ'ye yönelik bir şikayetimi paylaşmak isti...    ai\n",
       "...                                                 ...   ...\n",
       "4395  ÖSYM tarafından atanmış sınav yerimiz şehrimiz...    ai\n",
       "4396  ÖSYM tarafından atanmış olan sınav yerimiz şeh...    ai\n",
       "4397  ÖSYM tarafından atanmış yapılmasını olan sınav...    ai\n",
       "4398  ÖSYM tarafından atanmış olan sınav yerimiz şeh...    ai\n",
       "4399  tarafından atanmış olan sınav yerimiz şehrimiz...    ai\n",
       "\n",
       "[4400 rows x 2 columns]"
      ]
     },
     "execution_count": 19,
     "metadata": {},
     "output_type": "execute_result"
    }
   ],
   "source": [
    "# Split data into training and testing sets before augmentation\n",
    "train_ai_df, test_ai_df = model_selection.train_test_split(ai_data, test_size=0.3, random_state=42)\n",
    "\n",
    "# Augment training data only\n",
    "augmented_texts = []\n",
    "for index, row in train_ai_df.iterrows():\n",
    "    text = row['text']\n",
    "    # Apply multiple transformations\n",
    "    for _ in range(5):  # Repeat each transformation 5 times\n",
    "        augmented_texts.append(synonym_replacement(text, n=2))\n",
    "        augmented_texts.append(random_insertion(text, n=3))\n",
    "        augmented_texts.append(random_swap(text, n=2))\n",
    "        augmented_texts.append(random_deletion(text, p=0.1))\n",
    "\n",
    "train_ai_augmented = pd.DataFrame(augmented_texts, columns=['text'])\n",
    "train_ai_augmented['label'] = 'ai'\n",
    "train_ai_augmented"
   ]
  },
  {
   "cell_type": "code",
   "execution_count": 21,
   "metadata": {},
   "outputs": [
    {
     "name": "stdout",
     "output_type": "stream",
     "text": [
      "                                                     text  label\n",
      "count                                                3095   3095\n",
      "unique                                               3086      2\n",
      "top     Beyaz Çamlıca Davet Salonu Kapora İadesi Yapıl...  human\n",
      "freq                                                    4   3000\n",
      "                                                     text  label\n",
      "count                                               11400  11400\n",
      "unique                                              10486      2\n",
      "top     Shoppe Nikah Salonu Korona Sebebiyle Kına Orga...  human\n",
      "freq                                                    6   7000\n"
     ]
    }
   ],
   "source": [
    "train_human_df, test_human_df = model_selection.train_test_split(human_data, test_size=0.3, random_state=42)\n",
    "\n",
    "combined_train_df = pd.concat([train_ai_augmented, train_human_df], ignore_index=True)\n",
    "combined_test_df = pd.concat([test_ai_df, test_human_df], ignore_index=True)\n",
    "print(combined_test_df.describe())\n",
    "print(combined_train_df.describe())"
   ]
  },
  {
   "cell_type": "code",
   "execution_count": 22,
   "metadata": {},
   "outputs": [
    {
     "name": "stdout",
     "output_type": "stream",
     "text": [
      "Naive Bayes Accuracy Score ->  99.67689822294022\n",
      "SVM Accuracy Score ->  99.90306946688207\n",
      "Files saved to disk! Proceed to inference.py\n"
     ]
    }
   ],
   "source": [
    "\n",
    "# Split into train and test sets\n",
    "Train_X = combined_train_df['text']\n",
    "Train_Y = combined_train_df['label']\n",
    "Test_X = combined_test_df['text']\n",
    "Test_Y = combined_test_df['label']\n",
    "\n",
    "\n",
    "# Label encode the target variable\n",
    "Encoder = LabelEncoder()\n",
    "Train_Y = Encoder.fit_transform(Train_Y)\n",
    "Test_Y = Encoder.fit_transform(Test_Y)\n",
    "\n",
    "# Vectorize using TF-IDF\n",
    "Tfidf_vect = TfidfVectorizer(max_features=5000)\n",
    "Tfidf_vect.fit(dataset['text'])\n",
    "\n",
    "Train_X_Tfidf = Tfidf_vect.transform(Train_X)\n",
    "Test_X_Tfidf = Tfidf_vect.transform(Test_X)\n",
    "\n",
    "# Train Naive Bayes\n",
    "Naive = naive_bayes.MultinomialNB()\n",
    "Naive.fit(Train_X_Tfidf, Train_Y)\n",
    "predictions_NB = Naive.predict(Test_X_Tfidf)\n",
    "print(\"Naive Bayes Accuracy Score -> \", accuracy_score(predictions_NB, Test_Y) * 100)\n",
    "\n",
    "# Train SVM\n",
    "SVM = svm.SVC(C=1.0, kernel='linear', degree=3, gamma='auto')\n",
    "SVM.fit(Train_X_Tfidf, Train_Y)\n",
    "predictions_SVM = SVM.predict(Test_X_Tfidf)\n",
    "print(\"SVM Accuracy Score -> \", accuracy_score(predictions_SVM, Test_Y) * 100)\n",
    "\n",
    "# Save models and vectorizers\n",
    "filename = 'labelencoder_fitted.pkl'\n",
    "pickle.dump(Encoder, open(filename, 'wb'))\n",
    "\n",
    "filename = 'Tfidf_vect_fitted.pkl'\n",
    "pickle.dump(Tfidf_vect, open(filename, 'wb'))\n",
    "\n",
    "filename = 'svm_trained_model.sav'\n",
    "pickle.dump(SVM, open(filename, 'wb'))\n",
    "\n",
    "filename = 'nb_trained_model.sav'\n",
    "pickle.dump(Naive, open(filename, 'wb'))\n",
    "\n",
    "print(\"Files saved to disk! Proceed to inference.py\")\n"
   ]
  },
  {
   "cell_type": "code",
   "execution_count": 23,
   "metadata": {},
   "outputs": [
    {
     "data": {
      "image/png": "[encoded data removed]",
      "text/plain": [
       "<Figure size 1000x700 with 2 Axes>"
      ]
     },
     "metadata": {},
     "output_type": "display_data"
    },
    {
     "data": {
      "image/png": "[encoded data removed]",
      "text/plain": [
       "<Figure size 1000x700 with 2 Axes>"
      ]
     },
     "metadata": {},
     "output_type": "display_data"
    }
   ],
   "source": [
    "import matplotlib.pyplot as plt\n",
    "from sklearn.metrics import confusion_matrix\n",
    "import seaborn as sns\n",
    "\n",
    "# Confusion Matrix for Naive Bayes\n",
    "cm_NB = confusion_matrix(Test_Y, predictions_NB)\n",
    "plt.figure(figsize=(10,7))\n",
    "sns.heatmap(cm_NB, annot=True, fmt='d', cmap=\"Blues\", xticklabels=['AI', 'Human'], yticklabels=['AI', 'Human'])\n",
    "plt.title('Confusion Matrix for Naive Bayes')\n",
    "plt.xlabel('Predicted')\n",
    "plt.ylabel('True')\n",
    "plt.show()\n",
    "\n",
    "# Confusion Matrix for SVM\n",
    "cm_SVM = confusion_matrix(Test_Y, predictions_SVM)\n",
    "plt.figure(figsize=(10,7))\n",
    "sns.heatmap(cm_SVM, annot=True, fmt='d', cmap=\"Greens\", xticklabels=['AI', 'Human'], yticklabels=['AI', 'Human'])\n",
    "plt.title('Confusion Matrix for SVM')\n",
    "plt.xlabel('Predicted')\n",
    "plt.ylabel('True')\n",
    "plt.show()\n"
   ]
  },
  {
   "cell_type": "code",
   "execution_count": null,
   "metadata": {},
   "outputs": [],
   "source": []
  }
 ],
 "metadata": {
  "kernelspec": {
   "display_name": "Python 3 (ipykernel)",
   "language": "python",
   "name": "python3"
  },
  "language_info": {
   "codemirror_mode": {
    "name": "ipython",
    "version": 3
   },
   "file_extension": ".py",
   "mimetype": "text/x-python",
   "name": "python",
   "nbconvert_exporter": "python",
   "pygments_lexer": "ipython3",
   "version": "3.10.9"
  }
 },
 "nbformat": 4,
 "nbformat_minor": 2
}
